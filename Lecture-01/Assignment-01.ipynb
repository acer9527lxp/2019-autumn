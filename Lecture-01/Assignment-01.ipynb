{
 "cells": [
  {
   "cell_type": "code",
   "execution_count": 1,
   "metadata": {
    "ExecuteTime": {
     "end_time": "2019-07-03T05:57:44.223906Z",
     "start_time": "2019-07-03T05:57:44.219886Z"
    }
   },
   "outputs": [],
   "source": [
    "simple_grammar = \"\"\"\n",
    "sentence => noun_phrase verb_phrase\n",
    "noun_phrase => Article Adj* noun\n",
    "Adj* => null | Adj Adj*\n",
    "verb_phrase => verb noun_phrase\n",
    "Article =>  一个 | 这个\n",
    "noun =>   女人 |  篮球 | 桌子 | 小猫\n",
    "verb => 看着   |  坐在 |  听着 | 看见\n",
    "Adj =>  蓝色的 | 好看的 | 小小的\n",
    "\"\"\""
   ]
  },
  {
   "cell_type": "code",
   "execution_count": 2,
   "metadata": {
    "ExecuteTime": {
     "end_time": "2019-07-03T05:57:46.016116Z",
     "start_time": "2019-07-03T05:57:46.013091Z"
    }
   },
   "outputs": [],
   "source": [
    "import random"
   ]
  },
  {
   "cell_type": "code",
   "execution_count": 3,
   "metadata": {
    "ExecuteTime": {
     "end_time": "2019-07-03T05:57:48.368794Z",
     "start_time": "2019-07-03T05:57:48.364804Z"
    }
   },
   "outputs": [],
   "source": [
    "def adj():\n",
    "    return random.choice('蓝色的 | 好看的 | 小小的'.split('|')).strip()"
   ]
  },
  {
   "cell_type": "code",
   "execution_count": 4,
   "metadata": {
    "ExecuteTime": {
     "end_time": "2019-07-03T05:57:49.306288Z",
     "start_time": "2019-07-03T05:57:49.303301Z"
    }
   },
   "outputs": [],
   "source": [
    "def adj1():  return random.choice('蓝色的 | 好看的 | 小小的'.split('|')).split()[0]"
   ]
  },
  {
   "cell_type": "code",
   "execution_count": 5,
   "metadata": {
    "ExecuteTime": {
     "end_time": "2019-07-03T05:57:50.520041Z",
     "start_time": "2019-07-03T05:57:50.516052Z"
    }
   },
   "outputs": [
    {
     "name": "stdout",
     "output_type": "stream",
     "text": [
      "好看的\n",
      "蓝色的\n",
      "小小的\n",
      "好看的\n",
      "好看的\n"
     ]
    }
   ],
   "source": [
    "for i in range(5):\n",
    "    print(adj())"
   ]
  },
  {
   "cell_type": "code",
   "execution_count": 6,
   "metadata": {
    "ExecuteTime": {
     "end_time": "2019-07-03T05:57:55.568543Z",
     "start_time": "2019-07-03T05:57:55.564591Z"
    }
   },
   "outputs": [
    {
     "name": "stdout",
     "output_type": "stream",
     "text": [
      "好看的\n",
      "好看的\n",
      "小小的\n",
      "好看的\n",
      "蓝色的\n"
     ]
    }
   ],
   "source": [
    "for i in range(5):\n",
    "    print(adj1())"
   ]
  },
  {
   "cell_type": "code",
   "execution_count": 7,
   "metadata": {
    "ExecuteTime": {
     "end_time": "2019-07-03T05:57:59.439196Z",
     "start_time": "2019-07-03T05:57:59.434211Z"
    }
   },
   "outputs": [],
   "source": [
    "def adj_star():\n",
    "    return random.choice([lambda :'', lambda : adj()+ adj_star()])()"
   ]
  },
  {
   "cell_type": "code",
   "execution_count": 8,
   "metadata": {
    "ExecuteTime": {
     "end_time": "2019-07-03T05:58:02.422221Z",
     "start_time": "2019-07-03T05:58:02.417274Z"
    }
   },
   "outputs": [
    {
     "name": "stdout",
     "output_type": "stream",
     "text": [
      "\n",
      "\n",
      "蓝色的\n",
      "蓝色的\n",
      "\n"
     ]
    }
   ],
   "source": [
    "for i in range(5):\n",
    "    print(adj_star())"
   ]
  },
  {
   "cell_type": "code",
   "execution_count": 9,
   "metadata": {
    "ExecuteTime": {
     "end_time": "2019-07-03T05:58:09.591089Z",
     "start_time": "2019-07-03T05:58:09.584115Z"
    }
   },
   "outputs": [],
   "source": [
    "def create_grammer(grammar_str,split='=>',line_split = '\\n'):\n",
    "    \"\"\"\n",
    "    \"\"\"\n",
    "    grammer = {}\n",
    "    for line in grammar_str.split(line_split):\n",
    "        if not line.split():\n",
    "            continue\n",
    "        exp, stmt = line.split(split)\n",
    "        grammer[exp.strip()] = [s.split() for  s in stmt.split('|') ]\n",
    "    return grammer"
   ]
  },
  {
   "cell_type": "code",
   "execution_count": 10,
   "metadata": {
    "ExecuteTime": {
     "end_time": "2019-07-03T05:58:12.104368Z",
     "start_time": "2019-07-03T05:58:12.093397Z"
    }
   },
   "outputs": [
    {
     "data": {
      "text/plain": [
       "{'sentence': [['noun_phrase', 'verb_phrase']],\n",
       " 'noun_phrase': [['Article', 'Adj*', 'noun']],\n",
       " 'Adj*': [['null'], ['Adj', 'Adj*']],\n",
       " 'verb_phrase': [['verb', 'noun_phrase']],\n",
       " 'Article': [['一个'], ['这个']],\n",
       " 'noun': [['女人'], ['篮球'], ['桌子'], ['小猫']],\n",
       " 'verb': [['看着'], ['坐在'], ['听着'], ['看见']],\n",
       " 'Adj': [['蓝色的'], ['好看的'], ['小小的']]}"
      ]
     },
     "execution_count": 10,
     "metadata": {},
     "output_type": "execute_result"
    }
   ],
   "source": [
    "grammer = create_grammer(simple_grammar)\n",
    "grammer"
   ]
  },
  {
   "cell_type": "code",
   "execution_count": 11,
   "metadata": {
    "ExecuteTime": {
     "end_time": "2019-07-03T05:58:20.736285Z",
     "start_time": "2019-07-03T05:58:20.732304Z"
    }
   },
   "outputs": [],
   "source": [
    "def generate(gram, target):\n",
    "    if target not in gram:\n",
    "        return target\n",
    "    expaned = [generate(gram, t) for t in random.choice(gram[target])]\n",
    "    \n",
    "    return ''.join([e if e !='/n' else '\\n' for e in expaned if e != 'null'])"
   ]
  },
  {
   "cell_type": "code",
   "execution_count": 12,
   "metadata": {
    "ExecuteTime": {
     "end_time": "2019-07-03T05:58:22.336991Z",
     "start_time": "2019-07-03T05:58:22.333028Z"
    }
   },
   "outputs": [
    {
     "data": {
      "text/plain": [
       "'一个小猫看见一个桌子'"
      ]
     },
     "execution_count": 12,
     "metadata": {},
     "output_type": "execute_result"
    }
   ],
   "source": [
    "generate(grammer,target='sentence')"
   ]
  },
  {
   "cell_type": "code",
   "execution_count": 13,
   "metadata": {
    "ExecuteTime": {
     "end_time": "2019-07-03T05:58:29.528752Z",
     "start_time": "2019-07-03T05:58:29.523801Z"
    }
   },
   "outputs": [],
   "source": [
    "#在西部世界里，一个”人类“的语言可以定义为：\n",
    "\n",
    "human = \"\"\"\n",
    "human = 自己 寻找 活动\n",
    "自己 = 我 | 俺 | 我们 \n",
    "寻找 = 找找 | 想找点 \n",
    "活动 = 乐子 | 玩的\n",
    "\"\"\"\n",
    "\n",
    "\n",
    "#一个“接待员”的语言可以定义为\n",
    "\n",
    "host = \"\"\"\n",
    "host = 寒暄 报数 询问 业务相关 结尾 \n",
    "报数 = 我是 数字 号 ,\n",
    "数字 = 单个数字 | 数字 单个数字 \n",
    "单个数字 = 1 | 2 | 3 | 4 | 5 | 6 | 7 | 8 | 9 \n",
    "寒暄 = 称谓 打招呼 | 打招呼\n",
    "称谓 = 人称 ,\n",
    "人称 = 先生 | 女士 | 小朋友\n",
    "打招呼 = 你好 | 您好 \n",
    "询问 = 请问你要 | 您需要\n",
    "业务相关 = 玩玩 具体业务\n",
    "玩玩 = null\n",
    "具体业务 = 喝酒 | 打牌 | 打猎 | 赌博\n",
    "结尾 = 吗？\n",
    "\"\"\""
   ]
  },
  {
   "cell_type": "code",
   "execution_count": 14,
   "metadata": {
    "ExecuteTime": {
     "end_time": "2019-07-03T05:58:30.795364Z",
     "start_time": "2019-07-03T05:58:30.790377Z"
    }
   },
   "outputs": [
    {
     "name": "stdout",
     "output_type": "stream",
     "text": [
      "俺想找点乐子\n",
      "我们找找乐子\n",
      "俺想找点乐子\n",
      "我想找点乐子\n",
      "俺想找点玩的\n",
      "我们找找玩的\n",
      "我想找点玩的\n",
      "我找找玩的\n",
      "我想找点玩的\n",
      "我想找点玩的\n"
     ]
    }
   ],
   "source": [
    "for i in range(10):\n",
    "    print(generate(create_grammer(human,split='=',line_split = '\\n'),target='human'))"
   ]
  },
  {
   "cell_type": "code",
   "execution_count": 15,
   "metadata": {
    "ExecuteTime": {
     "end_time": "2019-07-03T05:58:32.683359Z",
     "start_time": "2019-07-03T05:58:32.679327Z"
    }
   },
   "outputs": [],
   "source": [
    " exp, stmt = \"human = 自己 寻找 活动\".split(\"=\")"
   ]
  },
  {
   "cell_type": "code",
   "execution_count": 16,
   "metadata": {
    "ExecuteTime": {
     "end_time": "2019-07-03T05:58:33.704587Z",
     "start_time": "2019-07-03T05:58:33.700631Z"
    }
   },
   "outputs": [
    {
     "data": {
      "text/plain": [
       "' 自己 寻找 活动'"
      ]
     },
     "execution_count": 16,
     "metadata": {},
     "output_type": "execute_result"
    }
   ],
   "source": [
    "stmt"
   ]
  },
  {
   "cell_type": "code",
   "execution_count": 17,
   "metadata": {
    "ExecuteTime": {
     "end_time": "2019-07-03T05:58:33.745479Z",
     "start_time": "2019-07-03T05:58:33.741504Z"
    }
   },
   "outputs": [
    {
     "data": {
      "text/plain": [
       "[['自己', '寻找', '活动']]"
      ]
     },
     "execution_count": 17,
     "metadata": {},
     "output_type": "execute_result"
    }
   ],
   "source": [
    "temp = [s.split() for  s in stmt.split('|') ]\n",
    "temp"
   ]
  },
  {
   "cell_type": "code",
   "execution_count": 18,
   "metadata": {
    "ExecuteTime": {
     "end_time": "2019-07-03T05:58:35.293370Z",
     "start_time": "2019-07-03T05:58:35.288352Z"
    }
   },
   "outputs": [
    {
     "data": {
      "text/plain": [
       "[['自己'], ['寻找'], ['活动']]"
      ]
     },
     "execution_count": 18,
     "metadata": {},
     "output_type": "execute_result"
    }
   ],
   "source": [
    "[s.split() for  s in stmt.split() ]"
   ]
  },
  {
   "cell_type": "code",
   "execution_count": 19,
   "metadata": {
    "ExecuteTime": {
     "end_time": "2019-07-03T05:58:36.520061Z",
     "start_time": "2019-07-03T05:58:36.517092Z"
    }
   },
   "outputs": [],
   "source": [
    "programming = \"\"\"\n",
    "stmt => if_exp | while_exp | assignment \n",
    "assignment => var = var\n",
    "if_exp => if ( var ) { /n .... stmt }\n",
    "while_exp=> while ( var ) { /n .... stmt }\n",
    "var => chars number\n",
    "chars => char | char char\n",
    "char => student | name | info  | database | course\n",
    "number => 1 | 2 | 3\n",
    "\"\"\""
   ]
  },
  {
   "cell_type": "code",
   "execution_count": 20,
   "metadata": {
    "ExecuteTime": {
     "end_time": "2019-07-03T05:58:38.409009Z",
     "start_time": "2019-07-03T05:58:38.404056Z"
    }
   },
   "outputs": [
    {
     "name": "stdout",
     "output_type": "stream",
     "text": [
      "coursestudent2=name3\n",
      "if(info2){\n",
      "....databasecourse1=student2}\n",
      "infoinfo1=coursecourse1\n",
      "if(course1){\n",
      "....if(databasecourse3){\n",
      "....while(coursecourse1){\n",
      "....if(course1){\n",
      "....while(info2){\n",
      "....while(studentinfo1){\n",
      "....if(student3){\n",
      "....name1=name2}}}}}}}\n",
      "coursestudent2=info3\n",
      "if(studentname2){\n",
      "....databaseinfo3=student2}\n",
      "course2=name2\n",
      "student1=student1\n",
      "if(course1){\n",
      "....if(studentdatabase3){\n",
      "....database2=namename2}}\n",
      "if(info3){\n",
      "....while(name1){\n",
      "....while(name1){\n",
      "....coursedatabase1=course2}}}\n"
     ]
    }
   ],
   "source": [
    "for i in range(10):\n",
    "    print(generate(create_grammer(programming,split='=>'), target='stmt'))"
   ]
  },
  {
   "cell_type": "code",
   "execution_count": 21,
   "metadata": {
    "ExecuteTime": {
     "end_time": "2019-07-03T06:06:01.098631Z",
     "start_time": "2019-07-03T06:05:58.094538Z"
    }
   },
   "outputs": [],
   "source": [
    "import pandas as pd"
   ]
  },
  {
   "cell_type": "code",
   "execution_count": 22,
   "metadata": {
    "ExecuteTime": {
     "end_time": "2019-07-03T06:06:05.051907Z",
     "start_time": "2019-07-03T06:06:05.047958Z"
    }
   },
   "outputs": [],
   "source": [
    "file = \"../../data/datasource-master/sqlResult_1558435.csv\""
   ]
  },
  {
   "cell_type": "code",
   "execution_count": 23,
   "metadata": {
    "ExecuteTime": {
     "end_time": "2019-07-03T06:06:25.787505Z",
     "start_time": "2019-07-03T06:06:22.213060Z"
    }
   },
   "outputs": [
    {
     "data": {
      "text/plain": [
       "(89611, 7)"
      ]
     },
     "execution_count": 23,
     "metadata": {},
     "output_type": "execute_result"
    }
   ],
   "source": [
    "content = pd.read_csv(file,encoding='gb18030')\n",
    "content.shape"
   ]
  },
  {
   "cell_type": "code",
   "execution_count": 24,
   "metadata": {
    "ExecuteTime": {
     "end_time": "2019-07-03T06:06:27.223628Z",
     "start_time": "2019-07-03T06:06:27.147864Z"
    }
   },
   "outputs": [
    {
     "data": {
      "text/html": [
       "<div>\n",
       "<style scoped>\n",
       "    .dataframe tbody tr th:only-of-type {\n",
       "        vertical-align: middle;\n",
       "    }\n",
       "\n",
       "    .dataframe tbody tr th {\n",
       "        vertical-align: top;\n",
       "    }\n",
       "\n",
       "    .dataframe thead th {\n",
       "        text-align: right;\n",
       "    }\n",
       "</style>\n",
       "<table border=\"1\" class=\"dataframe\">\n",
       "  <thead>\n",
       "    <tr style=\"text-align: right;\">\n",
       "      <th></th>\n",
       "      <th>id</th>\n",
       "      <th>author</th>\n",
       "      <th>source</th>\n",
       "      <th>content</th>\n",
       "      <th>feature</th>\n",
       "      <th>title</th>\n",
       "      <th>url</th>\n",
       "    </tr>\n",
       "  </thead>\n",
       "  <tbody>\n",
       "    <tr>\n",
       "      <th>0</th>\n",
       "      <td>89617</td>\n",
       "      <td>NaN</td>\n",
       "      <td>快科技@http://www.kkj.cn/</td>\n",
       "      <td>此外，自本周（6月12日）起，除小米手机6等15款机型外，其余机型已暂停更新发布（含开发版/...</td>\n",
       "      <td>{\"type\":\"科技\",\"site\":\"cnbeta\",\"commentNum\":\"37\"...</td>\n",
       "      <td>小米MIUI 9首批机型曝光：共计15款</td>\n",
       "      <td>http://www.cnbeta.com/articles/tech/623597.htm</td>\n",
       "    </tr>\n",
       "    <tr>\n",
       "      <th>1</th>\n",
       "      <td>89616</td>\n",
       "      <td>NaN</td>\n",
       "      <td>快科技@http://www.kkj.cn/</td>\n",
       "      <td>骁龙835作为唯一通过Windows 10桌面平台认证的ARM处理器，高通强调，不会因为只考...</td>\n",
       "      <td>{\"type\":\"科技\",\"site\":\"cnbeta\",\"commentNum\":\"15\"...</td>\n",
       "      <td>骁龙835在Windows 10上的性能表现有望改善</td>\n",
       "      <td>http://www.cnbeta.com/articles/tech/623599.htm</td>\n",
       "    </tr>\n",
       "    <tr>\n",
       "      <th>2</th>\n",
       "      <td>89615</td>\n",
       "      <td>NaN</td>\n",
       "      <td>快科技@http://www.kkj.cn/</td>\n",
       "      <td>此前的一加3T搭载的是3400mAh电池，DashCharge快充规格为5V/4A。\\r\\n...</td>\n",
       "      <td>{\"type\":\"科技\",\"site\":\"cnbeta\",\"commentNum\":\"18\"...</td>\n",
       "      <td>一加手机5细节曝光：3300mAh、充半小时用1天</td>\n",
       "      <td>http://www.cnbeta.com/articles/tech/623601.htm</td>\n",
       "    </tr>\n",
       "    <tr>\n",
       "      <th>3</th>\n",
       "      <td>89614</td>\n",
       "      <td>NaN</td>\n",
       "      <td>新华社</td>\n",
       "      <td>这是6月18日在葡萄牙中部大佩德罗冈地区拍摄的被森林大火烧毁的汽车。新华社记者张立云摄\\r\\n</td>\n",
       "      <td>{\"type\":\"国际新闻\",\"site\":\"环球\",\"commentNum\":\"0\",\"j...</td>\n",
       "      <td>葡森林火灾造成至少62人死亡 政府宣布进入紧急状态（组图）</td>\n",
       "      <td>http://world.huanqiu.com/hot/2017-06/10866126....</td>\n",
       "    </tr>\n",
       "    <tr>\n",
       "      <th>4</th>\n",
       "      <td>89613</td>\n",
       "      <td>胡淑丽_MN7479</td>\n",
       "      <td>深圳大件事</td>\n",
       "      <td>（原标题：44岁女子跑深圳约会网友被拒，暴雨中裸身奔走……）\\r\\n@深圳交警微博称：昨日清...</td>\n",
       "      <td>{\"type\":\"新闻\",\"site\":\"网易热门\",\"commentNum\":\"978\",...</td>\n",
       "      <td>44岁女子约网友被拒暴雨中裸奔 交警为其披衣相随</td>\n",
       "      <td>http://news.163.com/17/0618/00/CN617P3Q0001875...</td>\n",
       "    </tr>\n",
       "  </tbody>\n",
       "</table>\n",
       "</div>"
      ],
      "text/plain": [
       "      id      author                  source  \\\n",
       "0  89617         NaN  快科技@http://www.kkj.cn/   \n",
       "1  89616         NaN  快科技@http://www.kkj.cn/   \n",
       "2  89615         NaN  快科技@http://www.kkj.cn/   \n",
       "3  89614         NaN                     新华社   \n",
       "4  89613  胡淑丽_MN7479                   深圳大件事   \n",
       "\n",
       "                                             content  \\\n",
       "0  此外，自本周（6月12日）起，除小米手机6等15款机型外，其余机型已暂停更新发布（含开发版/...   \n",
       "1  骁龙835作为唯一通过Windows 10桌面平台认证的ARM处理器，高通强调，不会因为只考...   \n",
       "2  此前的一加3T搭载的是3400mAh电池，DashCharge快充规格为5V/4A。\\r\\n...   \n",
       "3    这是6月18日在葡萄牙中部大佩德罗冈地区拍摄的被森林大火烧毁的汽车。新华社记者张立云摄\\r\\n   \n",
       "4  （原标题：44岁女子跑深圳约会网友被拒，暴雨中裸身奔走……）\\r\\n@深圳交警微博称：昨日清...   \n",
       "\n",
       "                                             feature  \\\n",
       "0  {\"type\":\"科技\",\"site\":\"cnbeta\",\"commentNum\":\"37\"...   \n",
       "1  {\"type\":\"科技\",\"site\":\"cnbeta\",\"commentNum\":\"15\"...   \n",
       "2  {\"type\":\"科技\",\"site\":\"cnbeta\",\"commentNum\":\"18\"...   \n",
       "3  {\"type\":\"国际新闻\",\"site\":\"环球\",\"commentNum\":\"0\",\"j...   \n",
       "4  {\"type\":\"新闻\",\"site\":\"网易热门\",\"commentNum\":\"978\",...   \n",
       "\n",
       "                           title  \\\n",
       "0           小米MIUI 9首批机型曝光：共计15款   \n",
       "1     骁龙835在Windows 10上的性能表现有望改善   \n",
       "2      一加手机5细节曝光：3300mAh、充半小时用1天   \n",
       "3  葡森林火灾造成至少62人死亡 政府宣布进入紧急状态（组图）   \n",
       "4       44岁女子约网友被拒暴雨中裸奔 交警为其披衣相随   \n",
       "\n",
       "                                                 url  \n",
       "0     http://www.cnbeta.com/articles/tech/623597.htm  \n",
       "1     http://www.cnbeta.com/articles/tech/623599.htm  \n",
       "2     http://www.cnbeta.com/articles/tech/623601.htm  \n",
       "3  http://world.huanqiu.com/hot/2017-06/10866126....  \n",
       "4  http://news.163.com/17/0618/00/CN617P3Q0001875...  "
      ]
     },
     "execution_count": 24,
     "metadata": {},
     "output_type": "execute_result"
    }
   ],
   "source": [
    "content.head()"
   ]
  },
  {
   "cell_type": "code",
   "execution_count": 25,
   "metadata": {
    "ExecuteTime": {
     "end_time": "2019-07-03T06:06:29.273149Z",
     "start_time": "2019-07-03T06:06:29.269160Z"
    }
   },
   "outputs": [
    {
     "data": {
      "text/plain": [
       "Index(['id', 'author', 'source', 'content', 'feature', 'title', 'url'], dtype='object')"
      ]
     },
     "execution_count": 25,
     "metadata": {},
     "output_type": "execute_result"
    }
   ],
   "source": [
    "content.columns"
   ]
  },
  {
   "cell_type": "code",
   "execution_count": 26,
   "metadata": {
    "ExecuteTime": {
     "end_time": "2019-07-03T06:06:30.844945Z",
     "start_time": "2019-07-03T06:06:30.837996Z"
    }
   },
   "outputs": [
    {
     "data": {
      "text/plain": [
       "89611"
      ]
     },
     "execution_count": 26,
     "metadata": {},
     "output_type": "execute_result"
    }
   ],
   "source": [
    "articles = content.content.tolist()\n",
    "len(articles)"
   ]
  },
  {
   "cell_type": "code",
   "execution_count": 27,
   "metadata": {
    "ExecuteTime": {
     "end_time": "2019-07-03T06:06:41.648065Z",
     "start_time": "2019-07-03T06:06:41.645072Z"
    }
   },
   "outputs": [],
   "source": [
    "import re"
   ]
  },
  {
   "cell_type": "code",
   "execution_count": 28,
   "metadata": {
    "ExecuteTime": {
     "end_time": "2019-07-03T06:06:43.908024Z",
     "start_time": "2019-07-03T06:06:43.904032Z"
    }
   },
   "outputs": [],
   "source": [
    "def data_preprocessinng(content):\n",
    "    return ''.join(re.findall('\\w+',content))"
   ]
  },
  {
   "cell_type": "code",
   "execution_count": 29,
   "metadata": {
    "ExecuteTime": {
     "end_time": "2019-07-03T06:06:49.876114Z",
     "start_time": "2019-07-03T06:06:48.128738Z"
    }
   },
   "outputs": [],
   "source": [
    "content['content']=content['content'].apply(lambda x: data_preprocessinng(str(x)))"
   ]
  },
  {
   "cell_type": "code",
   "execution_count": 30,
   "metadata": {
    "ExecuteTime": {
     "end_time": "2019-07-03T06:06:51.686226Z",
     "start_time": "2019-07-03T06:06:51.676256Z"
    }
   },
   "outputs": [
    {
     "data": {
      "text/html": [
       "<div>\n",
       "<style scoped>\n",
       "    .dataframe tbody tr th:only-of-type {\n",
       "        vertical-align: middle;\n",
       "    }\n",
       "\n",
       "    .dataframe tbody tr th {\n",
       "        vertical-align: top;\n",
       "    }\n",
       "\n",
       "    .dataframe thead th {\n",
       "        text-align: right;\n",
       "    }\n",
       "</style>\n",
       "<table border=\"1\" class=\"dataframe\">\n",
       "  <thead>\n",
       "    <tr style=\"text-align: right;\">\n",
       "      <th></th>\n",
       "      <th>id</th>\n",
       "      <th>author</th>\n",
       "      <th>source</th>\n",
       "      <th>content</th>\n",
       "      <th>feature</th>\n",
       "      <th>title</th>\n",
       "      <th>url</th>\n",
       "    </tr>\n",
       "  </thead>\n",
       "  <tbody>\n",
       "    <tr>\n",
       "      <th>0</th>\n",
       "      <td>89617</td>\n",
       "      <td>NaN</td>\n",
       "      <td>快科技@http://www.kkj.cn/</td>\n",
       "      <td>此外自本周6月12日起除小米手机6等15款机型外其余机型已暂停更新发布含开发版体验版内测稳定...</td>\n",
       "      <td>{\"type\":\"科技\",\"site\":\"cnbeta\",\"commentNum\":\"37\"...</td>\n",
       "      <td>小米MIUI 9首批机型曝光：共计15款</td>\n",
       "      <td>http://www.cnbeta.com/articles/tech/623597.htm</td>\n",
       "    </tr>\n",
       "    <tr>\n",
       "      <th>1</th>\n",
       "      <td>89616</td>\n",
       "      <td>NaN</td>\n",
       "      <td>快科技@http://www.kkj.cn/</td>\n",
       "      <td>骁龙835作为唯一通过Windows10桌面平台认证的ARM处理器高通强调不会因为只考虑性能...</td>\n",
       "      <td>{\"type\":\"科技\",\"site\":\"cnbeta\",\"commentNum\":\"15\"...</td>\n",
       "      <td>骁龙835在Windows 10上的性能表现有望改善</td>\n",
       "      <td>http://www.cnbeta.com/articles/tech/623599.htm</td>\n",
       "    </tr>\n",
       "    <tr>\n",
       "      <th>2</th>\n",
       "      <td>89615</td>\n",
       "      <td>NaN</td>\n",
       "      <td>快科技@http://www.kkj.cn/</td>\n",
       "      <td>此前的一加3T搭载的是3400mAh电池DashCharge快充规格为5V4A至于电池缩水可...</td>\n",
       "      <td>{\"type\":\"科技\",\"site\":\"cnbeta\",\"commentNum\":\"18\"...</td>\n",
       "      <td>一加手机5细节曝光：3300mAh、充半小时用1天</td>\n",
       "      <td>http://www.cnbeta.com/articles/tech/623601.htm</td>\n",
       "    </tr>\n",
       "    <tr>\n",
       "      <th>3</th>\n",
       "      <td>89614</td>\n",
       "      <td>NaN</td>\n",
       "      <td>新华社</td>\n",
       "      <td>这是6月18日在葡萄牙中部大佩德罗冈地区拍摄的被森林大火烧毁的汽车新华社记者张立云摄</td>\n",
       "      <td>{\"type\":\"国际新闻\",\"site\":\"环球\",\"commentNum\":\"0\",\"j...</td>\n",
       "      <td>葡森林火灾造成至少62人死亡 政府宣布进入紧急状态（组图）</td>\n",
       "      <td>http://world.huanqiu.com/hot/2017-06/10866126....</td>\n",
       "    </tr>\n",
       "    <tr>\n",
       "      <th>4</th>\n",
       "      <td>89613</td>\n",
       "      <td>胡淑丽_MN7479</td>\n",
       "      <td>深圳大件事</td>\n",
       "      <td>原标题44岁女子跑深圳约会网友被拒暴雨中裸身奔走深圳交警微博称昨日清晨交警发现有一女子赤裸上...</td>\n",
       "      <td>{\"type\":\"新闻\",\"site\":\"网易热门\",\"commentNum\":\"978\",...</td>\n",
       "      <td>44岁女子约网友被拒暴雨中裸奔 交警为其披衣相随</td>\n",
       "      <td>http://news.163.com/17/0618/00/CN617P3Q0001875...</td>\n",
       "    </tr>\n",
       "  </tbody>\n",
       "</table>\n",
       "</div>"
      ],
      "text/plain": [
       "      id      author                  source  \\\n",
       "0  89617         NaN  快科技@http://www.kkj.cn/   \n",
       "1  89616         NaN  快科技@http://www.kkj.cn/   \n",
       "2  89615         NaN  快科技@http://www.kkj.cn/   \n",
       "3  89614         NaN                     新华社   \n",
       "4  89613  胡淑丽_MN7479                   深圳大件事   \n",
       "\n",
       "                                             content  \\\n",
       "0  此外自本周6月12日起除小米手机6等15款机型外其余机型已暂停更新发布含开发版体验版内测稳定...   \n",
       "1  骁龙835作为唯一通过Windows10桌面平台认证的ARM处理器高通强调不会因为只考虑性能...   \n",
       "2  此前的一加3T搭载的是3400mAh电池DashCharge快充规格为5V4A至于电池缩水可...   \n",
       "3         这是6月18日在葡萄牙中部大佩德罗冈地区拍摄的被森林大火烧毁的汽车新华社记者张立云摄   \n",
       "4  原标题44岁女子跑深圳约会网友被拒暴雨中裸身奔走深圳交警微博称昨日清晨交警发现有一女子赤裸上...   \n",
       "\n",
       "                                             feature  \\\n",
       "0  {\"type\":\"科技\",\"site\":\"cnbeta\",\"commentNum\":\"37\"...   \n",
       "1  {\"type\":\"科技\",\"site\":\"cnbeta\",\"commentNum\":\"15\"...   \n",
       "2  {\"type\":\"科技\",\"site\":\"cnbeta\",\"commentNum\":\"18\"...   \n",
       "3  {\"type\":\"国际新闻\",\"site\":\"环球\",\"commentNum\":\"0\",\"j...   \n",
       "4  {\"type\":\"新闻\",\"site\":\"网易热门\",\"commentNum\":\"978\",...   \n",
       "\n",
       "                           title  \\\n",
       "0           小米MIUI 9首批机型曝光：共计15款   \n",
       "1     骁龙835在Windows 10上的性能表现有望改善   \n",
       "2      一加手机5细节曝光：3300mAh、充半小时用1天   \n",
       "3  葡森林火灾造成至少62人死亡 政府宣布进入紧急状态（组图）   \n",
       "4       44岁女子约网友被拒暴雨中裸奔 交警为其披衣相随   \n",
       "\n",
       "                                                 url  \n",
       "0     http://www.cnbeta.com/articles/tech/623597.htm  \n",
       "1     http://www.cnbeta.com/articles/tech/623599.htm  \n",
       "2     http://www.cnbeta.com/articles/tech/623601.htm  \n",
       "3  http://world.huanqiu.com/hot/2017-06/10866126....  \n",
       "4  http://news.163.com/17/0618/00/CN617P3Q0001875...  "
      ]
     },
     "execution_count": 30,
     "metadata": {},
     "output_type": "execute_result"
    }
   ],
   "source": [
    "content.head()"
   ]
  },
  {
   "cell_type": "code",
   "execution_count": 31,
   "metadata": {
    "ExecuteTime": {
     "end_time": "2019-07-03T06:06:57.568503Z",
     "start_time": "2019-07-03T06:06:57.563515Z"
    }
   },
   "outputs": [],
   "source": [
    "from collections import Counter"
   ]
  },
  {
   "cell_type": "code",
   "execution_count": 32,
   "metadata": {
    "ExecuteTime": {
     "end_time": "2019-07-03T06:07:13.342328Z",
     "start_time": "2019-07-03T06:07:13.292463Z"
    }
   },
   "outputs": [],
   "source": [
    "all_articles = ''.join(content.content.tolist())"
   ]
  },
  {
   "cell_type": "code",
   "execution_count": 33,
   "metadata": {
    "ExecuteTime": {
     "end_time": "2019-07-03T06:07:20.773759Z",
     "start_time": "2019-07-03T06:07:14.716701Z"
    }
   },
   "outputs": [],
   "source": [
    "import jieba"
   ]
  },
  {
   "cell_type": "code",
   "execution_count": 34,
   "metadata": {
    "ExecuteTime": {
     "end_time": "2019-07-03T06:10:39.213938Z",
     "start_time": "2019-07-03T06:07:30.784698Z"
    }
   },
   "outputs": [
    {
     "name": "stderr",
     "output_type": "stream",
     "text": [
      "Building prefix dict from the default dictionary ...\n",
      "Loading model from cache C:\\Users\\acer9527\\AppData\\Local\\Temp\\jieba.cache\n",
      "Loading model cost 0.774 seconds.\n",
      "Prefix dict has been built succesfully.\n"
     ]
    }
   ],
   "source": [
    "all_words_list = jieba.lcut(all_articles)"
   ]
  },
  {
   "cell_type": "code",
   "execution_count": 35,
   "metadata": {
    "ExecuteTime": {
     "end_time": "2019-07-03T06:11:08.506743Z",
     "start_time": "2019-07-03T06:11:05.873693Z"
    }
   },
   "outputs": [],
   "source": [
    "counter = Counter(all_words_list)"
   ]
  },
  {
   "cell_type": "code",
   "execution_count": 36,
   "metadata": {
    "ExecuteTime": {
     "end_time": "2019-07-03T06:11:11.202709Z",
     "start_time": "2019-07-03T06:11:11.147847Z"
    }
   },
   "outputs": [
    {
     "data": {
      "text/plain": [
       "[('的', 703716),\n",
       " ('n', 378454),\n",
       " ('在', 263597),\n",
       " ('月', 189330),\n",
       " ('日', 166267),\n",
       " ('新华社', 142462),\n",
       " ('和', 134061),\n",
       " ('年', 123105),\n",
       " ('了', 121939),\n",
       " ('是', 100914)]"
      ]
     },
     "execution_count": 36,
     "metadata": {},
     "output_type": "execute_result"
    }
   ],
   "source": [
    "counter.most_common(10)"
   ]
  },
  {
   "cell_type": "code",
   "execution_count": 37,
   "metadata": {
    "ExecuteTime": {
     "end_time": "2019-07-03T06:11:16.224642Z",
     "start_time": "2019-07-03T06:11:16.107766Z"
    }
   },
   "outputs": [],
   "source": [
    "frequences = [f for w,f in counter.most_common(100)]\n",
    "log_frequences = [np.log(f) for w,f in counter.most_common(100)]\n",
    "x = [i for i in range(100)]"
   ]
  },
  {
   "cell_type": "code",
   "execution_count": 38,
   "metadata": {
    "ExecuteTime": {
     "end_time": "2019-07-03T06:11:21.093924Z",
     "start_time": "2019-07-03T06:11:19.711935Z"
    }
   },
   "outputs": [
    {
     "name": "stderr",
     "output_type": "stream",
     "text": [
      "UsageError: Line magic function `%matplotlibt` not found.\n"
     ]
    }
   ],
   "source": [
    "import matplotlib.pyplot as plt\n",
    "import numpy as np\n",
    "%matplotlibt inline"
   ]
  },
  {
   "cell_type": "code",
   "execution_count": 39,
   "metadata": {
    "ExecuteTime": {
     "end_time": "2019-07-03T06:11:28.517557Z",
     "start_time": "2019-07-03T06:11:27.704915Z"
    }
   },
   "outputs": [
    {
     "data": {
      "text/plain": [
       "[<matplotlib.lines.Line2D at 0x1494c5e8940>]"
      ]
     },
     "execution_count": 39,
     "metadata": {},
     "output_type": "execute_result"
    },
    {
     "data": {
      "image/png": "[encoded data removed]",
      "text/plain": [
       "<Figure size 432x288 with 1 Axes>"
      ]
     },
     "metadata": {
      "needs_background": "light"
     },
     "output_type": "display_data"
    }
   ],
   "source": [
    "plt.plot(x,frequences)"
   ]
  },
  {
   "cell_type": "code",
   "execution_count": 40,
   "metadata": {
    "ExecuteTime": {
     "end_time": "2019-07-03T06:11:31.436578Z",
     "start_time": "2019-07-03T06:11:31.287973Z"
    }
   },
   "outputs": [
    {
     "data": {
      "text/plain": [
       "[<matplotlib.lines.Line2D at 0x1494ddb31d0>]"
      ]
     },
     "execution_count": 40,
     "metadata": {},
     "output_type": "execute_result"
    },
    {
     "data": {
      "image/png": "[encoded data removed]",
      "text/plain": [
       "<Figure size 432x288 with 1 Axes>"
      ]
     },
     "metadata": {
      "needs_background": "light"
     },
     "output_type": "display_data"
    }
   ],
   "source": [
    "plt.plot(x,log_frequences)"
   ]
  },
  {
   "cell_type": "code",
   "execution_count": 41,
   "metadata": {
    "ExecuteTime": {
     "end_time": "2019-07-03T06:15:51.835787Z",
     "start_time": "2019-07-03T06:15:51.827809Z"
    }
   },
   "outputs": [
    {
     "data": {
      "text/plain": [
       "17522839"
      ]
     },
     "execution_count": 41,
     "metadata": {},
     "output_type": "execute_result"
    }
   ],
   "source": [
    "sum(counter.values())"
   ]
  },
  {
   "cell_type": "code",
   "execution_count": 42,
   "metadata": {
    "ExecuteTime": {
     "end_time": "2019-07-03T06:16:02.005451Z",
     "start_time": "2019-07-03T06:16:02.001463Z"
    }
   },
   "outputs": [],
   "source": [
    "\n",
    "def prob_1(word,words_freq_counter):\n",
    "    return counter[word] / sum(words_freq_counter.values())"
   ]
  },
  {
   "cell_type": "code",
   "execution_count": 43,
   "metadata": {
    "ExecuteTime": {
     "end_time": "2019-07-03T06:17:02.092471Z",
     "start_time": "2019-07-03T06:17:02.084491Z"
    }
   },
   "outputs": [
    {
     "data": {
      "text/plain": [
       "0.0011403403295550452"
      ]
     },
     "execution_count": 43,
     "metadata": {},
     "output_type": "execute_result"
    }
   ],
   "source": [
    "prob_1('我们',counter)"
   ]
  },
  {
   "cell_type": "code",
   "execution_count": 44,
   "metadata": {
    "ExecuteTime": {
     "end_time": "2019-07-03T06:17:08.295536Z",
     "start_time": "2019-07-03T06:17:08.287564Z"
    }
   },
   "outputs": [
    {
     "data": {
      "text/plain": [
       "['此外', '自', '本周', '6', '月', '12', '日起', '除', '小米', '手机']"
      ]
     },
     "execution_count": 44,
     "metadata": {},
     "output_type": "execute_result"
    }
   ],
   "source": [
    "all_words_list[:10]"
   ]
  },
  {
   "cell_type": "code",
   "execution_count": 45,
   "metadata": {
    "ExecuteTime": {
     "end_time": "2019-07-03T06:17:14.686364Z",
     "start_time": "2019-07-03T06:17:14.674392Z"
    }
   },
   "outputs": [
    {
     "data": {
      "text/plain": [
       "5.706837801796843e-07"
      ]
     },
     "execution_count": 45,
     "metadata": {},
     "output_type": "execute_result"
    }
   ],
   "source": [
    "prob_1('吹牛',counter)"
   ]
  },
  {
   "cell_type": "code",
   "execution_count": 46,
   "metadata": {
    "ExecuteTime": {
     "end_time": "2019-07-03T06:17:24.582348Z",
     "start_time": "2019-07-03T06:17:21.674158Z"
    }
   },
   "outputs": [],
   "source": [
    "all_words=[str(word) for word in all_words_list]"
   ]
  },
  {
   "cell_type": "code",
   "execution_count": 47,
   "metadata": {
    "ExecuteTime": {
     "end_time": "2019-07-03T06:21:04.065809Z",
     "start_time": "2019-07-03T06:20:57.081199Z"
    }
   },
   "outputs": [],
   "source": [
    "# 这种做法没有考虑 在文本提出是已经把所有的文本数据拼接场一条文本了，\n",
    "# 这就有许多原本没有连续的词组成了2元词组（第一个词在前一个文本末尾，第二个词在下一文本的开始）的情况\n",
    "all_word_2gram = [''.join(all_words_list[i:i+2]) for i in range(len(all_words_list[:-2])) ]"
   ]
  },
  {
   "cell_type": "code",
   "execution_count": 48,
   "metadata": {
    "ExecuteTime": {
     "end_time": "2019-07-03T06:21:13.455684Z",
     "start_time": "2019-07-03T06:21:13.432776Z"
    }
   },
   "outputs": [
    {
     "data": {
      "text/plain": [
       "['此外自', '自本周', '本周6', '6月', '月12', '12日起', '日起除', '除小米', '小米手机', '手机6']"
      ]
     },
     "execution_count": 48,
     "metadata": {},
     "output_type": "execute_result"
    }
   ],
   "source": [
    "all_word_2gram[:10]"
   ]
  },
  {
   "cell_type": "code",
   "execution_count": 49,
   "metadata": {
    "ExecuteTime": {
     "end_time": "2019-07-03T06:21:20.614519Z",
     "start_time": "2019-07-03T06:21:20.610525Z"
    }
   },
   "outputs": [],
   "source": [
    "import pickle"
   ]
  },
  {
   "cell_type": "code",
   "execution_count": 54,
   "metadata": {
    "ExecuteTime": {
     "end_time": "2019-07-02T01:40:25.417615Z",
     "start_time": "2019-07-02T01:40:25.413239Z"
    }
   },
   "outputs": [],
   "source": [
    "# with open('../data/all_word_1gram.dat','wb') as f:   \n",
    "#     #以写模式打开二进制文件\n",
    "#     pickle.dump(dicts,f)"
   ]
  },
  {
   "cell_type": "code",
   "execution_count": 50,
   "metadata": {
    "ExecuteTime": {
     "end_time": "2019-07-03T06:26:17.404815Z",
     "start_time": "2019-07-03T06:26:11.825925Z"
    }
   },
   "outputs": [],
   "source": [
    "counter_2gram=Counter(all_word_2gram)\n",
    "dicts_2gram = dict(counter_2gram)"
   ]
  },
  {
   "cell_type": "code",
   "execution_count": 51,
   "metadata": {
    "ExecuteTime": {
     "end_time": "2019-07-03T06:26:28.998818Z",
     "start_time": "2019-07-03T06:26:28.426349Z"
    }
   },
   "outputs": [
    {
     "data": {
      "text/plain": [
       "[('n新华社', 73453),\n",
       " ('2017年', 61477),\n",
       " ('外代二线', 61301),\n",
       " ('日n', 52255),\n",
       " ('新华社照片', 50401),\n",
       " ('5月', 37957),\n",
       " ('4月', 34550),\n",
       " ('新华社记者', 30864),\n",
       " ('２０', 27166),\n",
       " ('日在', 27154)]"
      ]
     },
     "execution_count": 51,
     "metadata": {},
     "output_type": "execute_result"
    }
   ],
   "source": [
    "counter_2gram.most_common(10)"
   ]
  },
  {
   "cell_type": "code",
   "execution_count": 52,
   "metadata": {
    "ExecuteTime": {
     "end_time": "2019-07-03T06:27:12.821658Z",
     "start_time": "2019-07-03T06:27:12.724952Z"
    }
   },
   "outputs": [
    {
     "data": {
      "text/plain": [
       "17522837"
      ]
     },
     "execution_count": 52,
     "metadata": {},
     "output_type": "execute_result"
    }
   ],
   "source": [
    "sum(counter_2gram.values())"
   ]
  },
  {
   "cell_type": "code",
   "execution_count": 53,
   "metadata": {
    "ExecuteTime": {
     "end_time": "2019-07-03T06:27:23.860150Z",
     "start_time": "2019-07-03T06:27:23.855160Z"
    }
   },
   "outputs": [],
   "source": [
    "# with open('../data/all_words_2gram.dat','wb') as f:   \n",
    "#     #以写模式打开二进制文件\n",
    "#     pickle.dump(dicts_2gram,f)"
   ]
  },
  {
   "cell_type": "code",
   "execution_count": 57,
   "metadata": {
    "ExecuteTime": {
     "end_time": "2019-07-02T01:41:45.505114Z",
     "start_time": "2019-07-02T01:41:45.502122Z"
    }
   },
   "outputs": [],
   "source": [
    "# with open('../data/all_words.txt','w') as f:  \n",
    "#     f.write(' '.join(all_words))"
   ]
  },
  {
   "cell_type": "code",
   "execution_count": 54,
   "metadata": {
    "ExecuteTime": {
     "end_time": "2019-07-03T06:30:29.565783Z",
     "start_time": "2019-07-03T06:30:29.536880Z"
    }
   },
   "outputs": [],
   "source": [
    "def prob_2(word1,word2,Vocabulary_counter):\n",
    "    if word1+word2 in Vocabulary_counter:\n",
    "        return Vocabulary_counter[word1+word2] / sum(Vocabulary_counter.values())\n",
    "    return 1/sum(Vocabulary_counter.values())"
   ]
  },
  {
   "cell_type": "code",
   "execution_count": 55,
   "metadata": {
    "ExecuteTime": {
     "end_time": "2019-07-03T06:30:47.800475Z",
     "start_time": "2019-07-03T06:30:47.705763Z"
    }
   },
   "outputs": [
    {
     "data": {
      "text/plain": [
       "3.070279087798397e-05"
      ]
     },
     "execution_count": 55,
     "metadata": {},
     "output_type": "execute_result"
    }
   ],
   "source": [
    "prob_2('我们', '在', counter_2gram)"
   ]
  },
  {
   "cell_type": "code",
   "execution_count": 56,
   "metadata": {
    "ExecuteTime": {
     "end_time": "2019-07-03T06:31:00.524194Z",
     "start_time": "2019-07-03T06:31:00.392531Z"
    }
   },
   "outputs": [
    {
     "data": {
      "text/plain": [
       "2.853419226578436e-07"
      ]
     },
     "execution_count": 56,
     "metadata": {},
     "output_type": "execute_result"
    }
   ],
   "source": [
    "prob_2('在', '吃饭',counter_2gram)"
   ]
  },
  {
   "cell_type": "code",
   "execution_count": 57,
   "metadata": {
    "ExecuteTime": {
     "end_time": "2019-07-03T06:32:10.648926Z",
     "start_time": "2019-07-03T06:32:10.578103Z"
    }
   },
   "outputs": [
    {
     "data": {
      "text/plain": [
       "4.5654707625254973e-07"
      ]
     },
     "execution_count": 57,
     "metadata": {},
     "output_type": "execute_result"
    }
   ],
   "source": [
    "prob_2('在', '打球', counter_2gram)"
   ]
  },
  {
   "cell_type": "code",
   "execution_count": 58,
   "metadata": {
    "ExecuteTime": {
     "end_time": "2019-07-03T06:32:54.742153Z",
     "start_time": "2019-07-03T06:32:54.520782Z"
    }
   },
   "outputs": [],
   "source": [
    "\n",
    "def get_probablity(sentence,Vocabulary_counter):\n",
    "    \"\"\" get the probablity by two gram\n",
    "    \"\"\"\n",
    "    \n",
    "    default_probility = 1 / sum(Vocabulary_counter.values())\n",
    "    \n",
    "    # extract words and number from the sentence\n",
    "    clearn_data = data_preprocessinng(sentence)\n",
    "    \n",
    "    # token use jieba\n",
    "    words_list = jieba.lcut(clearn_data)\n",
    "    \n",
    "    sentencece_prob = 1\n",
    "    \n",
    "    for i in range(len(words_list)-1):\n",
    "\n",
    "        probablity = prob_2(words_list[i], words_list[i+1],Vocabulary_counter)\n",
    "        \n",
    "        if probablity == 0:\n",
    "            probablity = default_probility\n",
    "            \n",
    "        sentencece_prob *= probablity\n",
    "    \n",
    "    return sentencece_prob"
   ]
  },
  {
   "cell_type": "code",
   "execution_count": 60,
   "metadata": {
    "ExecuteTime": {
     "end_time": "2019-07-03T06:33:31.141925Z",
     "start_time": "2019-07-03T06:33:30.400982Z"
    }
   },
   "outputs": [
    {
     "data": {
      "text/plain": [
       "1.7650841459293196e-33"
      ]
     },
     "execution_count": 60,
     "metadata": {},
     "output_type": "execute_result"
    }
   ],
   "source": [
    "get_probablity('我今天抽奖抽到100万元',counter_2gram)"
   ]
  },
  {
   "cell_type": "code",
   "execution_count": 61,
   "metadata": {
    "ExecuteTime": {
     "end_time": "2019-07-03T06:33:44.430337Z",
     "start_time": "2019-07-03T06:33:43.640723Z"
    }
   },
   "outputs": [
    {
     "data": {
      "text/plain": [
       "6.901904682421091e-41"
      ]
     },
     "execution_count": 61,
     "metadata": {},
     "output_type": "execute_result"
    }
   ],
   "source": [
    "get_probablity('我今天买体育彩票中到10元',counter_2gram)"
   ]
  },
  {
   "cell_type": "code",
   "execution_count": null,
   "metadata": {},
   "outputs": [],
   "source": [
    "# 为啥10块钱的概率更低呢？？？？"
   ]
  },
  {
   "cell_type": "code",
   "execution_count": 62,
   "metadata": {
    "ExecuteTime": {
     "end_time": "2019-07-03T06:34:19.839304Z",
     "start_time": "2019-07-03T06:34:14.697658Z"
    }
   },
   "outputs": [
    {
     "name": "stdout",
     "output_type": "stream",
     "text": [
      "sentence: 一个篮球看见一个好看的女人 with prob: 3.24990586847936e-40\n",
      "sentence: 这个好看的好看的小猫听着一个小小的小小的女人 with prob: 1.1275422882964387e-70\n",
      "sentence: 一个好看的小猫看着一个女人 with prob: 4.775371888377836e-40\n",
      "sentence: 这个蓝色的篮球看着一个小猫 with prob: 7.94513552030456e-41\n",
      "sentence: 这个桌子坐在一个篮球 with prob: 6.364049749054255e-29\n",
      "sentence: 这个篮球听着这个蓝色的好看的小小的蓝色的桌子 with prob: 5.765035199622463e-78\n",
      "sentence: 一个蓝色的女人看见一个桌子 with prob: 3.385318612999333e-40\n",
      "sentence: 一个好看的女人看着这个小小的好看的女人 with prob: 1.917911682959835e-57\n",
      "sentence: 一个桌子坐在一个小猫 with prob: 6.364049749054255e-29\n",
      "sentence: 这个蓝色的蓝色的好看的好看的小小的小小的小猫听着一个蓝色的桌子 with prob: 1.1203628012545565e-108\n"
     ]
    }
   ],
   "source": [
    "for sen in [generate(gram=grammer, target='sentence') for _ in range(10)]:\n",
    "    print('sentence: {} with prob: {}'.format(sen, get_probablity(sen, counter_2gram)))"
   ]
  },
  {
   "cell_type": "code",
   "execution_count": 64,
   "metadata": {
    "ExecuteTime": {
     "end_time": "2019-07-03T06:35:24.603738Z",
     "start_time": "2019-07-03T06:35:21.220298Z"
    }
   },
   "outputs": [
    {
     "name": "stdout",
     "output_type": "stream",
     "text": [
      "今天晚上请你吃大餐，我们一起吃日料 is more possible\n",
      "---- 今天晚上请你吃大餐，我们一起吃日料 with probility 3.4947370316323536e-59\n",
      "---- 明天晚上请你吃大餐，我们一起吃苹果 with probility 2.7957896253058823e-59\n",
      "真是一只好看的小猫 is more possible\n",
      "---- 真事一只好看的小猫 with probility 4.648781289690389e-34\n",
      "---- 真是一只好看的小猫 with probility 8.145983678789447e-27\n",
      "今晚我去吃火锅 is more possible\n",
      "---- 今晚我去吃火锅 with probility 3.457002398789628e-20\n",
      "---- 今晚火锅去吃我 with probility 5.515509782513688e-28\n",
      "养乐多绿来一杯 is more possible\n",
      "---- 洋葱奶昔来一杯 with probility 1.858603440209477e-22\n",
      "---- 养乐多绿来一杯 with probility 3.2568005130429914e-15\n"
     ]
    }
   ],
   "source": [
    "need_compared = [\n",
    "    \"今天晚上请你吃大餐，我们一起吃日料 明天晚上请你吃大餐，我们一起吃苹果\",\n",
    "    \"真事一只好看的小猫 真是一只好看的小猫\",\n",
    "    \"今晚我去吃火锅 今晚火锅去吃我\",\n",
    "    \"洋葱奶昔来一杯 养乐多绿来一杯\"\n",
    "]\n",
    "\n",
    "for s in need_compared:\n",
    "    s1, s2 = s.split()\n",
    "    p1, p2 = get_probablity(s1, counter_2gram), get_probablity(s2, counter_2gram)\n",
    "    \n",
    "    better = s1 if p1 > p2 else s2\n",
    "    \n",
    "    print('{} is more possible'.format(better))\n",
    "    print('-'*4 + ' {} with probility {}'.format(s1, p1))\n",
    "    print('-'*4 + ' {} with probility {}'.format(s2, p2))"
   ]
  },
  {
   "cell_type": "code",
   "execution_count": 68,
   "metadata": {
    "ExecuteTime": {
     "end_time": "2019-07-03T06:38:46.219596Z",
     "start_time": "2019-07-03T06:38:46.215611Z"
    }
   },
   "outputs": [],
   "source": [
    "Self_introduction_gram = \"\"\"\n",
    "self_info = 姓名 程度副词* 擅长 特点\n",
    "姓名 = 华晨宇 | 毛不易\n",
    "程度副词* = null | 程度副词 程度副词*\n",
    "程度副词 = 很 | 非常 | 特别 | 极其\n",
    "擅长 = 喜欢 | 善于 | 擅长\n",
    "特点 = 作词 | 作曲 | 喝酒 | 怼人\n",
    "\"\"\""
   ]
  },
  {
   "cell_type": "code",
   "execution_count": 69,
   "metadata": {
    "ExecuteTime": {
     "end_time": "2019-07-03T06:38:58.548049Z",
     "start_time": "2019-07-03T06:38:58.541067Z"
    }
   },
   "outputs": [],
   "source": [
    "def generate_n(grammar, target, n):\n",
    "    \"\"\"产生n条语句\"\"\"\n",
    "    result = []\n",
    "    for i in range(n):\n",
    "        sentence = generate(gram=grammar, target=target)\n",
    "        result.append(sentence)\n",
    "        \n",
    "    return result\n"
   ]
  },
  {
   "cell_type": "code",
   "execution_count": 70,
   "metadata": {
    "ExecuteTime": {
     "end_time": "2019-07-03T06:39:11.239181Z",
     "start_time": "2019-07-03T06:39:11.232200Z"
    }
   },
   "outputs": [
    {
     "data": {
      "text/plain": [
       "{'self_info': [['姓名', '程度副词*', '擅长', '特点']],\n",
       " '姓名': [['华晨宇'], ['毛不易']],\n",
       " '程度副词*': [['null'], ['程度副词', '程度副词*']],\n",
       " '程度副词': [['很'], ['非常'], ['特别'], ['极其']],\n",
       " '擅长': [['喜欢'], ['善于'], ['擅长']],\n",
       " '特点': [['作词'], ['作曲'], ['喝酒'], ['怼人']]}"
      ]
     },
     "execution_count": 70,
     "metadata": {},
     "output_type": "execute_result"
    }
   ],
   "source": [
    "self_definition_grammer = create_grammer(Self_introduction_gram,split='=')\n",
    "self_definition_grammer"
   ]
  },
  {
   "cell_type": "code",
   "execution_count": 72,
   "metadata": {
    "ExecuteTime": {
     "end_time": "2019-07-03T06:41:06.433880Z",
     "start_time": "2019-07-03T06:41:06.423908Z"
    }
   },
   "outputs": [
    {
     "data": {
      "text/plain": [
       "['华晨宇非常非常极其非常喜欢喝酒',\n",
       " '毛不易喜欢作词',\n",
       " '毛不易喜欢作词',\n",
       " '华晨宇极其特别喜欢作词',\n",
       " '华晨宇非常非常极其非常很喜欢喝酒',\n",
       " '毛不易非常善于作曲',\n",
       " '华晨宇特别喜欢作词',\n",
       " '毛不易善于作词',\n",
       " '毛不易很非常特别喜欢喝酒',\n",
       " '华晨宇非常善于作曲']"
      ]
     },
     "execution_count": 72,
     "metadata": {},
     "output_type": "execute_result"
    }
   ],
   "source": [
    "generate_n(self_definition_grammer,'self_info',10)"
   ]
  },
  {
   "cell_type": "markdown",
   "metadata": {},
   "source": [
    "# 使用新数据源完成语言模型的训练"
   ]
  },
  {
   "cell_type": "code",
   "execution_count": 73,
   "metadata": {
    "ExecuteTime": {
     "end_time": "2019-07-03T06:42:11.528354Z",
     "start_time": "2019-07-03T06:42:10.961718Z"
    }
   },
   "outputs": [
    {
     "name": "stdout",
     "output_type": "stream",
     "text": [
      "Wall time: 196 ms\n"
     ]
    }
   ],
   "source": [
    "%%time\n",
    "contences_list = []\n",
    "with open(\"../data/train.txt\",'r+',encoding='utf8') as f:\n",
    "    lines = f.readlines()\n",
    "    for line in lines:\n",
    "        try:\n",
    "            f1,f2,f3,f4 = line.split('++$++')\n",
    "            contences_list.append([f1,f2,f3,f4])\n",
    "        except:\n",
    "            print(line)\n",
    "            continue"
   ]
  },
  {
   "cell_type": "code",
   "execution_count": 74,
   "metadata": {
    "ExecuteTime": {
     "end_time": "2019-07-03T06:42:24.295616Z",
     "start_time": "2019-07-03T06:42:24.290471Z"
    }
   },
   "outputs": [
    {
     "data": {
      "text/plain": [
       "12889"
      ]
     },
     "execution_count": 74,
     "metadata": {},
     "output_type": "execute_result"
    }
   ],
   "source": [
    "len(contences_list)"
   ]
  },
  {
   "cell_type": "code",
   "execution_count": 75,
   "metadata": {
    "ExecuteTime": {
     "end_time": "2019-07-03T06:42:36.850771Z",
     "start_time": "2019-07-03T06:42:36.845806Z"
    }
   },
   "outputs": [
    {
     "data": {
      "text/plain": [
       "[['0 ',\n",
       "  ' disability-insurance ',\n",
       "  ' 法律要求残疾保险吗？ ',\n",
       "  ' Is  Disability  Insurance  Required  By  Law?\\n'],\n",
       " ['1 ',\n",
       "  ' life-insurance ',\n",
       "  ' 债权人可以在死后人寿保险吗？ ',\n",
       "  ' Can  Creditors  Take  Life  Insurance  After  Death?\\n'],\n",
       " ['2 ',\n",
       "  ' renters-insurance ',\n",
       "  ' 旅行者保险有租赁保险吗？ ',\n",
       "  ' Does  Travelers  Insurance  Have  Renters  Insurance?\\n'],\n",
       " ['3 ',\n",
       "  ' auto-insurance ',\n",
       "  ' 我可以开一辆没有保险的新车吗？ ',\n",
       "  ' Can  I  Drive  A  New  Car  Home  Without  Insurance?\\n'],\n",
       " ['4 ',\n",
       "  ' life-insurance ',\n",
       "  ' 人寿保险的现金转出价值是否应纳税？ ',\n",
       "  ' Is  The  Cash  Surrender  Value  Of  Life  Insurance  Taxable?\\n']]"
      ]
     },
     "execution_count": 75,
     "metadata": {},
     "output_type": "execute_result"
    }
   ],
   "source": [
    "contences_list[:5]"
   ]
  },
  {
   "cell_type": "code",
   "execution_count": 76,
   "metadata": {
    "ExecuteTime": {
     "end_time": "2019-07-03T06:42:49.256905Z",
     "start_time": "2019-07-03T06:42:49.253912Z"
    }
   },
   "outputs": [],
   "source": [
    "import pandas as pd"
   ]
  },
  {
   "cell_type": "code",
   "execution_count": 77,
   "metadata": {
    "ExecuteTime": {
     "end_time": "2019-07-03T06:43:01.440535Z",
     "start_time": "2019-07-03T06:43:01.318828Z"
    }
   },
   "outputs": [
    {
     "data": {
      "text/plain": [
       "(12889, 4)"
      ]
     },
     "execution_count": 77,
     "metadata": {},
     "output_type": "execute_result"
    }
   ],
   "source": [
    "df_data = pd.DataFrame(contences_list,columns=['No','categ','desc_zn','desc_en'])\n",
    "df_data.shape"
   ]
  },
  {
   "cell_type": "code",
   "execution_count": 78,
   "metadata": {
    "ExecuteTime": {
     "end_time": "2019-07-03T06:43:14.208824Z",
     "start_time": "2019-07-03T06:43:14.070162Z"
    }
   },
   "outputs": [
    {
     "data": {
      "text/html": [
       "<div>\n",
       "<style scoped>\n",
       "    .dataframe tbody tr th:only-of-type {\n",
       "        vertical-align: middle;\n",
       "    }\n",
       "\n",
       "    .dataframe tbody tr th {\n",
       "        vertical-align: top;\n",
       "    }\n",
       "\n",
       "    .dataframe thead th {\n",
       "        text-align: right;\n",
       "    }\n",
       "</style>\n",
       "<table border=\"1\" class=\"dataframe\">\n",
       "  <thead>\n",
       "    <tr style=\"text-align: right;\">\n",
       "      <th></th>\n",
       "      <th>No</th>\n",
       "      <th>categ</th>\n",
       "      <th>desc_zn</th>\n",
       "      <th>desc_en</th>\n",
       "    </tr>\n",
       "  </thead>\n",
       "  <tbody>\n",
       "    <tr>\n",
       "      <th>0</th>\n",
       "      <td>0</td>\n",
       "      <td>disability-insurance</td>\n",
       "      <td>法律要求残疾保险吗？</td>\n",
       "      <td>Is  Disability  Insurance  Required  By  Law?\\n</td>\n",
       "    </tr>\n",
       "    <tr>\n",
       "      <th>1</th>\n",
       "      <td>1</td>\n",
       "      <td>life-insurance</td>\n",
       "      <td>债权人可以在死后人寿保险吗？</td>\n",
       "      <td>Can  Creditors  Take  Life  Insurance  After ...</td>\n",
       "    </tr>\n",
       "    <tr>\n",
       "      <th>2</th>\n",
       "      <td>2</td>\n",
       "      <td>renters-insurance</td>\n",
       "      <td>旅行者保险有租赁保险吗？</td>\n",
       "      <td>Does  Travelers  Insurance  Have  Renters  In...</td>\n",
       "    </tr>\n",
       "    <tr>\n",
       "      <th>3</th>\n",
       "      <td>3</td>\n",
       "      <td>auto-insurance</td>\n",
       "      <td>我可以开一辆没有保险的新车吗？</td>\n",
       "      <td>Can  I  Drive  A  New  Car  Home  Without  In...</td>\n",
       "    </tr>\n",
       "    <tr>\n",
       "      <th>4</th>\n",
       "      <td>4</td>\n",
       "      <td>life-insurance</td>\n",
       "      <td>人寿保险的现金转出价值是否应纳税？</td>\n",
       "      <td>Is  The  Cash  Surrender  Value  Of  Life  In...</td>\n",
       "    </tr>\n",
       "  </tbody>\n",
       "</table>\n",
       "</div>"
      ],
      "text/plain": [
       "   No                   categ              desc_zn  \\\n",
       "0  0    disability-insurance           法律要求残疾保险吗？    \n",
       "1  1          life-insurance       债权人可以在死后人寿保险吗？    \n",
       "2  2       renters-insurance         旅行者保险有租赁保险吗？    \n",
       "3  3          auto-insurance      我可以开一辆没有保险的新车吗？    \n",
       "4  4          life-insurance    人寿保险的现金转出价值是否应纳税？    \n",
       "\n",
       "                                             desc_en  \n",
       "0    Is  Disability  Insurance  Required  By  Law?\\n  \n",
       "1   Can  Creditors  Take  Life  Insurance  After ...  \n",
       "2   Does  Travelers  Insurance  Have  Renters  In...  \n",
       "3   Can  I  Drive  A  New  Car  Home  Without  In...  \n",
       "4   Is  The  Cash  Surrender  Value  Of  Life  In...  "
      ]
     },
     "execution_count": 78,
     "metadata": {},
     "output_type": "execute_result"
    }
   ],
   "source": [
    "df_data.head()"
   ]
  },
  {
   "cell_type": "code",
   "execution_count": 79,
   "metadata": {
    "ExecuteTime": {
     "end_time": "2019-07-03T06:43:26.289612Z",
     "start_time": "2019-07-03T06:43:26.284626Z"
    }
   },
   "outputs": [
    {
     "data": {
      "text/plain": [
       "Index(['No', 'categ', 'desc_zn', 'desc_en'], dtype='object')"
      ]
     },
     "execution_count": 79,
     "metadata": {},
     "output_type": "execute_result"
    }
   ],
   "source": [
    "df_data.columns"
   ]
  },
  {
   "cell_type": "code",
   "execution_count": 80,
   "metadata": {
    "ExecuteTime": {
     "end_time": "2019-07-03T06:43:38.617469Z",
     "start_time": "2019-07-03T06:43:38.466738Z"
    }
   },
   "outputs": [],
   "source": [
    "df_data.drop(['No'],axis=1,inplace=True)"
   ]
  },
  {
   "cell_type": "code",
   "execution_count": 81,
   "metadata": {
    "ExecuteTime": {
     "end_time": "2019-07-03T06:43:50.985485Z",
     "start_time": "2019-07-03T06:43:50.898680Z"
    }
   },
   "outputs": [
    {
     "data": {
      "text/plain": [
       " life-insurance                 3328\n",
       " medicare-insurance             1770\n",
       " auto-insurance                 1659\n",
       " health-insurance               1542\n",
       " home-insurance                 1340\n",
       " renters-insurance               800\n",
       " disability-insurance            751\n",
       " annuities                       611\n",
       " retirement-plans                525\n",
       " long-term-care-insurance        427\n",
       " critical-illness-insurance      107\n",
       " other-insurance                  29\n",
       "Name: categ, dtype: int64"
      ]
     },
     "execution_count": 81,
     "metadata": {},
     "output_type": "execute_result"
    }
   ],
   "source": [
    "df_data.categ.value_counts()"
   ]
  },
  {
   "cell_type": "code",
   "execution_count": 82,
   "metadata": {
    "ExecuteTime": {
     "end_time": "2019-07-03T06:44:03.060711Z",
     "start_time": "2019-07-03T06:44:03.053723Z"
    }
   },
   "outputs": [],
   "source": [
    "topics_list = df_data.categ.value_counts().index.tolist()"
   ]
  },
  {
   "cell_type": "code",
   "execution_count": 83,
   "metadata": {
    "ExecuteTime": {
     "end_time": "2019-07-03T06:44:15.224340Z",
     "start_time": "2019-07-03T06:44:15.219348Z"
    }
   },
   "outputs": [
    {
     "data": {
      "text/plain": [
       "[' life-insurance ',\n",
       " ' medicare-insurance ',\n",
       " ' auto-insurance ',\n",
       " ' health-insurance ',\n",
       " ' home-insurance ',\n",
       " ' renters-insurance ',\n",
       " ' disability-insurance ',\n",
       " ' annuities ',\n",
       " ' retirement-plans ',\n",
       " ' long-term-care-insurance ',\n",
       " ' critical-illness-insurance ',\n",
       " ' other-insurance ']"
      ]
     },
     "execution_count": 83,
     "metadata": {},
     "output_type": "execute_result"
    }
   ],
   "source": [
    "topics_list"
   ]
  },
  {
   "cell_type": "code",
   "execution_count": 84,
   "metadata": {
    "ExecuteTime": {
     "end_time": "2019-07-03T06:44:27.386865Z",
     "start_time": "2019-07-03T06:44:27.382876Z"
    }
   },
   "outputs": [],
   "source": [
    "topics_list = [x.strip() for x in topics_list]"
   ]
  },
  {
   "cell_type": "code",
   "execution_count": 85,
   "metadata": {
    "ExecuteTime": {
     "end_time": "2019-07-03T06:44:39.917363Z",
     "start_time": "2019-07-03T06:44:39.495273Z"
    }
   },
   "outputs": [],
   "source": [
    "df_data['categ'] = df_data['categ'].apply(lambda x: x.strip())"
   ]
  },
  {
   "cell_type": "code",
   "execution_count": 86,
   "metadata": {
    "ExecuteTime": {
     "end_time": "2019-07-03T06:44:52.345661Z",
     "start_time": "2019-07-03T06:44:52.118252Z"
    }
   },
   "outputs": [
    {
     "name": "stdout",
     "output_type": "stream",
     "text": [
      "life-insurance\n",
      "3328\n",
      "medicare-insurance\n",
      "1770\n",
      "auto-insurance\n",
      "1659\n",
      "health-insurance\n",
      "1542\n",
      "home-insurance\n",
      "1340\n",
      "renters-insurance\n",
      "800\n",
      "disability-insurance\n",
      "751\n",
      "annuities\n",
      "611\n",
      "retirement-plans\n",
      "525\n",
      "long-term-care-insurance\n",
      "427\n",
      "critical-illness-insurance\n",
      "107\n",
      "other-insurance\n",
      "29\n"
     ]
    }
   ],
   "source": [
    "grams= {'life-insurance':None,\n",
    " 'medicare-insurance':None,\n",
    " 'auto-insurance':None,\n",
    " 'health-insurance':None,\n",
    " 'home-insurance':None,\n",
    " 'renters-insurance':None,\n",
    " 'disability-insurance':None,\n",
    " 'annuities':None,\n",
    " 'retirement-plans':None,\n",
    " 'long-term-care-insurance':None,\n",
    " 'critical-illness-insurance':None,\n",
    " 'other-insurance':None}\n",
    "for topic in topics_list:\n",
    "    print(topic)\n",
    "    list_name = topic + '_list'\n",
    "    list_name = df_data[df_data['categ'] == topic ].desc_zn.values.tolist()\n",
    "    print(len(list_name))\n",
    "#     values_str = '|'.join(list_name)\n",
    "    grams[topic]=list_name"
   ]
  },
  {
   "cell_type": "code",
   "execution_count": 120,
   "metadata": {
    "ExecuteTime": {
     "end_time": "2019-07-03T07:37:14.815559Z",
     "start_time": "2019-07-03T07:37:14.810608Z"
    }
   },
   "outputs": [],
   "source": [
    "grams['topics'] = topics_list"
   ]
  },
  {
   "cell_type": "code",
   "execution_count": 87,
   "metadata": {
    "ExecuteTime": {
     "end_time": "2019-07-03T06:45:06.072769Z",
     "start_time": "2019-07-03T06:45:06.066788Z"
    }
   },
   "outputs": [],
   "source": [
    "all_questions = df_data['desc_zn'].tolist()"
   ]
  },
  {
   "cell_type": "code",
   "execution_count": 88,
   "metadata": {
    "ExecuteTime": {
     "end_time": "2019-07-03T06:45:18.209322Z",
     "start_time": "2019-07-03T06:45:18.201361Z"
    }
   },
   "outputs": [
    {
     "data": {
      "text/html": [
       "<div>\n",
       "<style scoped>\n",
       "    .dataframe tbody tr th:only-of-type {\n",
       "        vertical-align: middle;\n",
       "    }\n",
       "\n",
       "    .dataframe tbody tr th {\n",
       "        vertical-align: top;\n",
       "    }\n",
       "\n",
       "    .dataframe thead th {\n",
       "        text-align: right;\n",
       "    }\n",
       "</style>\n",
       "<table border=\"1\" class=\"dataframe\">\n",
       "  <thead>\n",
       "    <tr style=\"text-align: right;\">\n",
       "      <th></th>\n",
       "      <th>categ</th>\n",
       "      <th>desc_zn</th>\n",
       "      <th>desc_en</th>\n",
       "    </tr>\n",
       "  </thead>\n",
       "  <tbody>\n",
       "    <tr>\n",
       "      <th>0</th>\n",
       "      <td>disability-insurance</td>\n",
       "      <td>法律要求残疾保险吗？</td>\n",
       "      <td>Is  Disability  Insurance  Required  By  Law?\\n</td>\n",
       "    </tr>\n",
       "    <tr>\n",
       "      <th>1</th>\n",
       "      <td>life-insurance</td>\n",
       "      <td>债权人可以在死后人寿保险吗？</td>\n",
       "      <td>Can  Creditors  Take  Life  Insurance  After ...</td>\n",
       "    </tr>\n",
       "    <tr>\n",
       "      <th>2</th>\n",
       "      <td>renters-insurance</td>\n",
       "      <td>旅行者保险有租赁保险吗？</td>\n",
       "      <td>Does  Travelers  Insurance  Have  Renters  In...</td>\n",
       "    </tr>\n",
       "    <tr>\n",
       "      <th>3</th>\n",
       "      <td>auto-insurance</td>\n",
       "      <td>我可以开一辆没有保险的新车吗？</td>\n",
       "      <td>Can  I  Drive  A  New  Car  Home  Without  In...</td>\n",
       "    </tr>\n",
       "    <tr>\n",
       "      <th>4</th>\n",
       "      <td>life-insurance</td>\n",
       "      <td>人寿保险的现金转出价值是否应纳税？</td>\n",
       "      <td>Is  The  Cash  Surrender  Value  Of  Life  In...</td>\n",
       "    </tr>\n",
       "  </tbody>\n",
       "</table>\n",
       "</div>"
      ],
      "text/plain": [
       "                  categ              desc_zn  \\\n",
       "0  disability-insurance          法律要求残疾保险吗？    \n",
       "1        life-insurance      债权人可以在死后人寿保险吗？    \n",
       "2     renters-insurance        旅行者保险有租赁保险吗？    \n",
       "3        auto-insurance     我可以开一辆没有保险的新车吗？    \n",
       "4        life-insurance   人寿保险的现金转出价值是否应纳税？    \n",
       "\n",
       "                                             desc_en  \n",
       "0    Is  Disability  Insurance  Required  By  Law?\\n  \n",
       "1   Can  Creditors  Take  Life  Insurance  After ...  \n",
       "2   Does  Travelers  Insurance  Have  Renters  In...  \n",
       "3   Can  I  Drive  A  New  Car  Home  Without  In...  \n",
       "4   Is  The  Cash  Surrender  Value  Of  Life  In...  "
      ]
     },
     "execution_count": 88,
     "metadata": {},
     "output_type": "execute_result"
    }
   ],
   "source": [
    " df_data.head()"
   ]
  },
  {
   "cell_type": "code",
   "execution_count": 89,
   "metadata": {
    "ExecuteTime": {
     "end_time": "2019-07-03T06:45:54.579903Z",
     "start_time": "2019-07-03T06:45:54.574951Z"
    }
   },
   "outputs": [],
   "source": [
    "def data_preprocess(all_questions):\n",
    "    \"\"\"清除句子中的无效字符\n",
    "       返回清洗后的语句列表，这里没有将清洗后的句子拼接成一个句子，主要是考虑2元词考虑\n",
    "    \"\"\" \n",
    "    all_questions_clean = []\n",
    "    for line in all_questions:\n",
    "        try:\n",
    "            all_questions_clean.append(''.join(re.findall('\\w+', line)))\n",
    "        except TypeError:\n",
    "            print(line)\n",
    "    return all_questions_clean"
   ]
  },
  {
   "cell_type": "code",
   "execution_count": 90,
   "metadata": {
    "ExecuteTime": {
     "end_time": "2019-07-03T06:46:07.597327Z",
     "start_time": "2019-07-03T06:46:07.590325Z"
    }
   },
   "outputs": [],
   "source": [
    "def token(all_questions_clean):\n",
    "    \"\"\"将句子分词\n",
    "       返回切词后的一元词列表和2元词列表\n",
    "    \"\"\" \n",
    "    all_words_1gram = []\n",
    "    all_words_2gram = []\n",
    "    for line in all_questions_clean:\n",
    "        try:\n",
    "            words_list = jieba.lcut(line)\n",
    "            all_words_1gram.extend(words_list)\n",
    "            for i in range(len(words_list)-1):\n",
    "                all_words_2gram.append(words_list[i]+words_list[i+1])\n",
    "            \n",
    "        except :\n",
    "            print(line)\n",
    "    return all_words_1gram, all_words_2gram"
   ]
  },
  {
   "cell_type": "code",
   "execution_count": 91,
   "metadata": {
    "ExecuteTime": {
     "end_time": "2019-07-03T06:46:38.331656Z",
     "start_time": "2019-07-03T06:46:38.281758Z"
    }
   },
   "outputs": [
    {
     "data": {
      "text/plain": [
       "str"
      ]
     },
     "execution_count": 91,
     "metadata": {},
     "output_type": "execute_result"
    }
   ],
   "source": [
    "temp = ''.join(re.findall('\\w+', \"人寿保险的现金转出价值是否应纳税?\"))\n",
    "type(temp)"
   ]
  },
  {
   "cell_type": "code",
   "execution_count": 92,
   "metadata": {
    "ExecuteTime": {
     "end_time": "2019-07-03T06:46:51.074200Z",
     "start_time": "2019-07-03T06:46:50.509123Z"
    }
   },
   "outputs": [],
   "source": [
    "_1gram,_2gram = token([\"人寿保险的现金转出价值是否应纳税?\"])"
   ]
  },
  {
   "cell_type": "code",
   "execution_count": 93,
   "metadata": {
    "ExecuteTime": {
     "end_time": "2019-07-03T06:47:36.968185Z",
     "start_time": "2019-07-03T06:47:36.960243Z"
    }
   },
   "outputs": [
    {
     "data": {
      "text/plain": [
       "['人寿保险', '的', '现金', '转', '出', '价值', '是否', '应', '纳税', '?']"
      ]
     },
     "execution_count": 93,
     "metadata": {},
     "output_type": "execute_result"
    }
   ],
   "source": [
    "_1gram"
   ]
  },
  {
   "cell_type": "code",
   "execution_count": 94,
   "metadata": {
    "ExecuteTime": {
     "end_time": "2019-07-03T06:47:49.775403Z",
     "start_time": "2019-07-03T06:47:49.770415Z"
    }
   },
   "outputs": [
    {
     "data": {
      "text/plain": [
       "['人寿保险的', '的现金', '现金转', '转出', '出价值', '价值是否', '是否应', '应纳税', '纳税?']"
      ]
     },
     "execution_count": 94,
     "metadata": {},
     "output_type": "execute_result"
    }
   ],
   "source": [
    "_2gram"
   ]
  },
  {
   "cell_type": "code",
   "execution_count": 95,
   "metadata": {
    "ExecuteTime": {
     "end_time": "2019-07-03T06:49:07.828386Z",
     "start_time": "2019-07-03T06:49:04.881666Z"
    }
   },
   "outputs": [],
   "source": [
    "# 清洗句子\n",
    "all_questions_clean = data_preprocess(all_questions)\n",
    "# 切词\n",
    "tokens_1gram, tokens_2gram = token(all_questions_clean)"
   ]
  },
  {
   "cell_type": "code",
   "execution_count": 96,
   "metadata": {
    "ExecuteTime": {
     "end_time": "2019-07-03T06:49:20.748343Z",
     "start_time": "2019-07-03T06:49:20.742357Z"
    }
   },
   "outputs": [
    {
     "data": {
      "text/plain": [
       "['法律要求残疾保险吗',\n",
       " '债权人可以在死后人寿保险吗',\n",
       " '旅行者保险有租赁保险吗',\n",
       " '我可以开一辆没有保险的新车吗',\n",
       " '人寿保险的现金转出价值是否应纳税',\n",
       " '如何报告年金收入',\n",
       " 'AAA家庭保险涵盖什么',\n",
       " '什么是简单的退休计划',\n",
       " '社会保险残疾保险是什么',\n",
       " '汽车保险是否预付']"
      ]
     },
     "execution_count": 96,
     "metadata": {},
     "output_type": "execute_result"
    }
   ],
   "source": [
    "all_questions_clean[:10]"
   ]
  },
  {
   "cell_type": "code",
   "execution_count": 97,
   "metadata": {
    "ExecuteTime": {
     "end_time": "2019-07-03T06:50:05.175717Z",
     "start_time": "2019-07-03T06:50:05.170732Z"
    }
   },
   "outputs": [
    {
     "data": {
      "text/plain": [
       "76281"
      ]
     },
     "execution_count": 97,
     "metadata": {},
     "output_type": "execute_result"
    }
   ],
   "source": [
    "len(tokens_1gram)"
   ]
  },
  {
   "cell_type": "code",
   "execution_count": 98,
   "metadata": {
    "ExecuteTime": {
     "end_time": "2019-07-03T06:50:17.726694Z",
     "start_time": "2019-07-03T06:50:17.721698Z"
    }
   },
   "outputs": [
    {
     "data": {
      "text/plain": [
       "['法律', '要求', '残疾', '保险', '吗', '债权人', '可以', '在', '死', '后']"
      ]
     },
     "execution_count": 98,
     "metadata": {},
     "output_type": "execute_result"
    }
   ],
   "source": [
    "tokens_1gram[:10]"
   ]
  },
  {
   "cell_type": "code",
   "execution_count": 99,
   "metadata": {
    "ExecuteTime": {
     "end_time": "2019-07-03T06:50:57.764772Z",
     "start_time": "2019-07-03T06:50:57.759786Z"
    }
   },
   "outputs": [
    {
     "data": {
      "text/plain": [
       "63392"
      ]
     },
     "execution_count": 99,
     "metadata": {},
     "output_type": "execute_result"
    }
   ],
   "source": [
    "len(tokens_2gram)"
   ]
  },
  {
   "cell_type": "code",
   "execution_count": 100,
   "metadata": {
    "ExecuteTime": {
     "end_time": "2019-07-03T06:51:10.348616Z",
     "start_time": "2019-07-03T06:51:10.343628Z"
    }
   },
   "outputs": [
    {
     "data": {
      "text/plain": [
       "['法律要求', '要求残疾', '残疾保险', '保险吗', '债权人可以', '可以在', '在死', '死后', '后人寿保险', '人寿保险吗']"
      ]
     },
     "execution_count": 100,
     "metadata": {},
     "output_type": "execute_result"
    }
   ],
   "source": [
    "tokens_2gram[:10]"
   ]
  },
  {
   "cell_type": "code",
   "execution_count": 101,
   "metadata": {
    "ExecuteTime": {
     "end_time": "2019-07-03T06:51:28.553374Z",
     "start_time": "2019-07-03T06:51:28.526483Z"
    }
   },
   "outputs": [],
   "source": [
    "tokens_1gram_counter = Counter(tokens_1gram)\n",
    "tokens_2gram_counter = Counter(tokens_2gram)"
   ]
  },
  {
   "cell_type": "code",
   "execution_count": 102,
   "metadata": {
    "ExecuteTime": {
     "end_time": "2019-07-03T06:51:40.971604Z",
     "start_time": "2019-07-03T06:51:40.963627Z"
    }
   },
   "outputs": [
    {
     "data": {
      "text/plain": [
       "[('保险', 5013),\n",
       " ('的', 3220),\n",
       " ('人寿保险', 2962),\n",
       " ('什么', 2677),\n",
       " ('吗', 2479),\n",
       " ('是', 2347),\n",
       " ('我', 2054),\n",
       " ('是否', 1862),\n",
       " ('可以', 1704),\n",
       " ('健康', 1513)]"
      ]
     },
     "execution_count": 102,
     "metadata": {},
     "output_type": "execute_result"
    }
   ],
   "source": [
    "tokens_1gram_counter.most_common(10)"
   ]
  },
  {
   "cell_type": "code",
   "execution_count": 103,
   "metadata": {
    "ExecuteTime": {
     "end_time": "2019-07-03T06:51:53.355601Z",
     "start_time": "2019-07-03T06:51:53.343601Z"
    }
   },
   "outputs": [
    {
     "data": {
      "text/plain": [
       "[('健康保险', 1349),\n",
       " ('什么是', 1149),\n",
       " ('保险是否', 958),\n",
       " ('我的', 726),\n",
       " ('残疾保险', 659),\n",
       " ('房主保险', 603),\n",
       " ('我可以', 529),\n",
       " ('保险吗', 511),\n",
       " ('是否覆盖', 504),\n",
       " ('年金', 462)]"
      ]
     },
     "execution_count": 103,
     "metadata": {},
     "output_type": "execute_result"
    }
   ],
   "source": [
    "tokens_2gram_counter.most_common(10)"
   ]
  },
  {
   "cell_type": "code",
   "execution_count": 104,
   "metadata": {
    "ExecuteTime": {
     "end_time": "2019-07-03T06:52:06.742310Z",
     "start_time": "2019-07-03T06:52:06.738317Z"
    }
   },
   "outputs": [
    {
     "data": {
      "text/plain": [
       "0.018125315497223623"
      ]
     },
     "execution_count": 104,
     "metadata": {},
     "output_type": "execute_result"
    }
   ],
   "source": [
    "prob_2('什么','是', tokens_2gram_counter)"
   ]
  },
  {
   "cell_type": "code",
   "execution_count": 105,
   "metadata": {
    "ExecuteTime": {
     "end_time": "2019-07-03T06:52:19.993832Z",
     "start_time": "2019-07-03T06:52:19.988807Z"
    }
   },
   "outputs": [
    {
     "data": {
      "text/plain": [
       "0.009512241292276628"
      ]
     },
     "execution_count": 105,
     "metadata": {},
     "output_type": "execute_result"
    }
   ],
   "source": [
    "prob_2('房主','保险',tokens_2gram_counter)"
   ]
  },
  {
   "cell_type": "code",
   "execution_count": 106,
   "metadata": {
    "ExecuteTime": {
     "end_time": "2019-07-03T06:52:32.924623Z",
     "start_time": "2019-07-03T06:52:32.919637Z"
    }
   },
   "outputs": [
    {
     "data": {
      "text/plain": [
       "0.021280287733467945"
      ]
     },
     "execution_count": 106,
     "metadata": {},
     "output_type": "execute_result"
    }
   ],
   "source": [
    "prob_2('健康','保险',tokens_2gram_counter)"
   ]
  },
  {
   "cell_type": "code",
   "execution_count": 107,
   "metadata": {
    "ExecuteTime": {
     "end_time": "2019-07-03T06:57:04.178791Z",
     "start_time": "2019-07-03T06:57:04.158849Z"
    }
   },
   "outputs": [
    {
     "name": "stdout",
     "output_type": "stream",
     "text": [
      "法律要求残疾保险吗 is more possible\n",
      "---- 法律要求残疾保险吗 with probility 1.4597098523318443e-13\n",
      "---- 宪法要求残疾宝险吗 with probility 6.192445379334435e-20\n",
      "我可以开一辆没有保险的新车吗 is more possible\n",
      "---- 我可以开一辆没有保险的新车吗 with probility 1.8690198767124465e-29\n",
      "---- 一辆没有保险的新车可以开上路吗 with probility 4.4163985744623034e-33\n",
      "什么时候要注册医疗保险 is more possible\n",
      "---- 什么时候要注册医疗保险 with probility 6.24272803581463e-15\n",
      "---- 什么时候要注册医疗抱险 with probility 3.1767151018418066e-21\n",
      "为什么要为汽车保险复钱 is more possible\n",
      "---- 为什么要为汽车保险付钱 with probility 2.675136403872476e-16\n",
      "---- 为什么要为汽车保险复钱 with probility 2.675136403872476e-16\n"
     ]
    }
   ],
   "source": [
    "need_compared = [\n",
    "    \"法律要求残疾保险吗 宪法要求残疾宝险吗\",\n",
    "    \"我可以开一辆没有保险的新车吗 一辆没有保险的新车可以开上路吗\",\n",
    "    \"什么时候要注册医疗保险 什么时候要注册医疗抱险\",\n",
    "    \"为什么要为汽车保险付钱 为什么要为汽车保险复钱\"\n",
    "]\n",
    "\n",
    "for s in need_compared:\n",
    "    s1, s2 = s.split()\n",
    "    p1, p2 = get_probablity(s1,tokens_2gram_counter), get_probablity(s2,tokens_2gram_counter)\n",
    "    \n",
    "    better = s1 if p1 > p2 else s2\n",
    "    \n",
    "    print('{} is more possible'.format(better))\n",
    "    print('-'*4 + ' {} with probility {}'.format(s1, p1))\n",
    "    print('-'*4 + ' {} with probility {}'.format(s2, p2))"
   ]
  },
  {
   "cell_type": "code",
   "execution_count": 116,
   "metadata": {
    "ExecuteTime": {
     "end_time": "2019-07-03T07:08:03.648055Z",
     "start_time": "2019-07-03T07:08:03.642073Z"
    }
   },
   "outputs": [],
   "source": [
    "def generate_best(grammar, counter_ngram, target, n):\n",
    "    result = []\n",
    "    sentences = generate_n(grammar, target, n)\n",
    "    \n",
    "    for sentence in sentences:\n",
    "        probability = get_probablity(sentence,tokens_2gram_counter)\n",
    "        result.append((sentence,probability))\n",
    "        \n",
    "    print(result)\n",
    "    return max(result,key=lambda x:x[1])"
   ]
  },
  {
   "cell_type": "markdown",
   "metadata": {
    "ExecuteTime": {
     "end_time": "2019-07-03T07:08:15.480421Z",
     "start_time": "2019-07-03T07:08:15.133348Z"
    }
   },
   "source": [
    "generate_best(self_definition_grammer, tokens_2gram_counter, 'self_info', 5) "
   ]
  },
  {
   "cell_type": "markdown",
   "metadata": {},
   "source": [
    "Q: 这个模型有什么问题？ 你准备如何提升？"
   ]
  },
  {
   "cell_type": "markdown",
   "metadata": {},
   "source": [
    "Ans: 1.语言模型用到的预料和生成句子不是一个领域的，所以结果有偏差。我想用这个语料，用在保险相关的问答系统是不是更合适一些"
   ]
  },
  {
   "cell_type": "code",
   "execution_count": 121,
   "metadata": {
    "ExecuteTime": {
     "end_time": "2019-07-03T07:37:27.209421Z",
     "start_time": "2019-07-03T07:37:27.205432Z"
    }
   },
   "outputs": [
    {
     "data": {
      "text/plain": [
       "dict_keys(['life-insurance', 'medicare-insurance', 'auto-insurance', 'health-insurance', 'home-insurance', 'renters-insurance', 'disability-insurance', 'annuities', 'retirement-plans', 'long-term-care-insurance', 'critical-illness-insurance', 'other-insurance', 'topics'])"
      ]
     },
     "execution_count": 121,
     "metadata": {},
     "output_type": "execute_result"
    }
   ],
   "source": [
    "grams.keys()"
   ]
  },
  {
   "cell_type": "code",
   "execution_count": 123,
   "metadata": {
    "ExecuteTime": {
     "end_time": "2019-07-03T07:38:11.357399Z",
     "start_time": "2019-07-03T07:38:11.351409Z"
    }
   },
   "outputs": [
    {
     "data": {
      "text/plain": [
       "{'self_info': [['姓名', '程度副词*', '擅长', '特点']],\n",
       " '姓名': [['华晨宇'], ['毛不易']],\n",
       " '程度副词*': [['null'], ['程度副词', '程度副词*']],\n",
       " '程度副词': [['很'], ['非常'], ['特别'], ['极其']],\n",
       " '擅长': [['喜欢'], ['善于'], ['擅长']],\n",
       " '特点': [['作词'], ['作曲'], ['喝酒'], ['怼人']]}"
      ]
     },
     "execution_count": 123,
     "metadata": {},
     "output_type": "execute_result"
    }
   ],
   "source": [
    "self_definition_grammer"
   ]
  },
  {
   "cell_type": "code",
   "execution_count": 124,
   "metadata": {
    "ExecuteTime": {
     "end_time": "2019-07-03T07:40:17.287880Z",
     "start_time": "2019-07-03T07:40:16.798186Z"
    }
   },
   "outputs": [
    {
     "name": "stdout",
     "output_type": "stream",
     "text": [
      "[('auto-insurance', 1), ('life-insurance', 1), ('critical-illness-insurance', 1), ('critical-illness-insurance', 1), ('auto-insurance', 1)]\n"
     ]
    },
    {
     "data": {
      "text/plain": [
       "('auto-insurance', 1)"
      ]
     },
     "execution_count": 124,
     "metadata": {},
     "output_type": "execute_result"
    }
   ],
   "source": [
    "generate_best(grams, tokens_2gram_counter, 'topics', 5) "
   ]
  },
  {
   "cell_type": "code",
   "execution_count": 125,
   "metadata": {
    "ExecuteTime": {
     "end_time": "2019-07-03T07:41:59.170525Z",
     "start_time": "2019-07-03T07:41:59.165547Z"
    }
   },
   "outputs": [
    {
     "data": {
      "text/plain": [
       "['health-insurance',\n",
       " 'medicare-insurance',\n",
       " 'health-insurance',\n",
       " 'medicare-insurance',\n",
       " 'renters-insurance']"
      ]
     },
     "execution_count": 125,
     "metadata": {},
     "output_type": "execute_result"
    }
   ],
   "source": [
    "generate_n(grams, 'topics', 5)"
   ]
  },
  {
   "cell_type": "code",
   "execution_count": null,
   "metadata": {},
   "outputs": [],
   "source": [
    "def generate_n(grammar, target, n):\n",
    "    \"\"\"产生n条语句\"\"\"\n",
    "    result = []\n",
    "    for i in range(n):\n",
    "        sentence = generate(gram=grammar, target=target)\n",
    "        result.append(sentence)\n",
    "        \n",
    "    return result"
   ]
  },
  {
   "cell_type": "code",
   "execution_count": null,
   "metadata": {},
   "outputs": [],
   "source": [
    "def generate(gram, target):\n",
    "    if target not in gram:\n",
    "        return target\n",
    "    expaned = [generate(gram, t) for t in random.choice(gram[target])]\n",
    "    \n",
    "    return ''.join([e if e !='/n' else '\\n' for e in expaned if e != 'null'])"
   ]
  },
  {
   "cell_type": "code",
   "execution_count": 133,
   "metadata": {
    "ExecuteTime": {
     "end_time": "2019-07-03T07:48:37.284627Z",
     "start_time": "2019-07-03T07:48:37.279641Z"
    }
   },
   "outputs": [
    {
     "data": {
      "text/plain": [
       "' HIPAA在健康保险的未来发挥什么作用？ '"
      ]
     },
     "execution_count": 133,
     "metadata": {},
     "output_type": "execute_result"
    }
   ],
   "source": [
    "random.choice(grams[random.choice(grams['topics'])])"
   ]
  },
  {
   "cell_type": "code",
   "execution_count": 134,
   "metadata": {
    "ExecuteTime": {
     "end_time": "2019-07-03T07:50:40.684057Z",
     "start_time": "2019-07-03T07:50:40.632166Z"
    }
   },
   "outputs": [
    {
     "name": "stdout",
     "output_type": "stream",
     "text": [
      "other-insurance - >  我很快就毕业了。我应该考虑作为保险代理人的职业吗？ \n",
      "annuities - >  你可以投降一个年金吗？ \n",
      "renters-insurance - >  租客保险是否包括破损物品？ \n",
      "life-insurance - >  为什么人寿保险不是一个好的储蓄计划？ \n",
      "health-insurance - >  健康保险是否支付汽车意外伤害？ \n",
      "health-insurance - >  私人健康保险是否覆盖Tummy Tuck？ \n",
      "disability-insurance - >  什么是残疾保险设计替代？ \n",
      "health-insurance - >  儿童在伊利诺伊州多久可以养父母健康保险？ \n",
      "health-insurance - >  如果您有两项健康保险政策，该如何运作？ \n",
      "renters-insurance - >  租赁者保险多长时间？ \n"
     ]
    }
   ],
   "source": [
    "for i in range(10):\n",
    "    topic=random.choice(grams['topics'])\n",
    "    question = random.choice(grams[topic])\n",
    "    print(topic, '- >', question)"
   ]
  },
  {
   "cell_type": "code",
   "execution_count": null,
   "metadata": {},
   "outputs": [],
   "source": []
  }
 ],
 "metadata": {
  "hide_input": false,
  "kernelspec": {
   "display_name": "Python 3",
   "language": "python",
   "name": "python3"
  },
  "language_info": {
   "codemirror_mode": {
    "name": "ipython",
    "version": 3
   },
   "file_extension": ".py",
   "mimetype": "text/x-python",
   "name": "python",
   "nbconvert_exporter": "python",
   "pygments_lexer": "ipython3",
   "version": "3.7.1"
  },
  "toc": {
   "base_numbering": 1,
   "nav_menu": {},
   "number_sections": true,
   "sideBar": true,
   "skip_h1_title": false,
   "title_cell": "Table of Contents",
   "title_sidebar": "Contents",
   "toc_cell": false,
   "toc_position": {},
   "toc_section_display": true,
   "toc_window_display": false
  },
  "varInspector": {
   "cols": {
    "lenName": 16,
    "lenType": 16,
    "lenVar": 40
   },
   "kernels_config": {
    "python": {
     "delete_cmd_postfix": "",
     "delete_cmd_prefix": "del ",
     "library": "var_list.py",
     "varRefreshCmd": "print(var_dic_list())"
    },
    "r": {
     "delete_cmd_postfix": ") ",
     "delete_cmd_prefix": "rm(",
     "library": "var_list.r",
     "varRefreshCmd": "cat(var_dic_list()) "
    }
   },
   "types_to_exclude": [
    "module",
    "function",
    "builtin_function_or_method",
    "instance",
    "_Feature"
   ],
   "window_display": false
  }
 },
 "nbformat": 4,
 "nbformat_minor": 2
}
