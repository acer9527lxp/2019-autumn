{
 "cells": [
  {
   "cell_type": "code",
   "execution_count": 27,
   "metadata": {
    "ExecuteTime": {
     "end_time": "2019-10-01T01:25:49.996050Z",
     "start_time": "2019-10-01T01:25:49.990752Z"
    }
   },
   "outputs": [],
   "source": [
    "import random\n"
   ]
  },
  {
   "cell_type": "code",
   "execution_count": 30,
   "metadata": {
    "ExecuteTime": {
     "end_time": "2019-10-01T01:27:26.451060Z",
     "start_time": "2019-10-01T01:27:26.446378Z"
    }
   },
   "outputs": [],
   "source": [
    "simple_grammar = \"\"\"\n",
    "sentence => noun_phrase verb_phrase\n",
    "noun_phrase => Article Adj* noun\n",
    "Adj* => Adj | Adj Adj*\n",
    "verb_phrase => verb noun_phrase\n",
    "Article =>  一个 | 这个\n",
    "noun =>   女人 |  篮球 | 桌子 | 小猫\n",
    "verb => 看着   |  坐在 |  听着 | 看见\n",
    "Adj =>  蓝色的 | 好看的 | 小小的\n",
    "\"\"\""
   ]
  },
  {
   "cell_type": "code",
   "execution_count": 21,
   "metadata": {
    "ExecuteTime": {
     "end_time": "2019-10-01T01:22:38.188045Z",
     "start_time": "2019-10-01T01:22:38.182054Z"
    }
   },
   "outputs": [],
   "source": [
    "hello_rules = '''\n",
    "say_hello = names hello tail \n",
    "names = name names | name\n",
    "name = Jhon | Mike | 老梁 | 老刘 \n",
    "hello = 你好 | 您来啦 | 快请进\n",
    "tail = 呀 | ！\n",
    "'''"
   ]
  },
  {
   "cell_type": "code",
   "execution_count": 25,
   "metadata": {
    "ExecuteTime": {
     "end_time": "2019-10-01T01:24:52.981905Z",
     "start_time": "2019-10-01T01:24:52.969937Z"
    }
   },
   "outputs": [
    {
     "data": {
      "text/plain": [
       "'Jhon老梁老梁你好！'"
      ]
     },
     "execution_count": 25,
     "metadata": {},
     "output_type": "execute_result"
    }
   ],
   "source": [
    "def generate(grammar_rules, target):\n",
    "    if target in grammar_rules:\n",
    "        candidates = grammar_rules[target]\n",
    "        candidate = random.choice(candidates)\n",
    "        return ''.join(generate(grammar_rules, target=c.strip()) for c in candidate.split())\n",
    "    else:\n",
    "        return target\n",
    "    \n",
    "def get_generation_by_gram(grammar_str:str, target, stmt_split='=', or_split='|'):\n",
    "    '''grammar_str:语法树\n",
    "       target：\n",
    "       stmt_split：分隔符\n",
    "       or_split：分隔符 \n",
    "    '''\n",
    "    rules = dict()\n",
    "    for line in grammar_str.split('\\n'):\n",
    "        if not line:\n",
    "            continue\n",
    "        stmt, expr = line.split(stmt_split)\n",
    "        rules[stmt.strip()] = expr.split(or_split)\n",
    "        \n",
    "    generated = generate(rules, target=target)\n",
    "    \n",
    "    return generated\n",
    "            \n",
    "# rules = get_generation_by_gram(hello_rules, 'say_hello', stmt_split='=', or_split='|')      \n",
    "# generate(rules, 'say_hello')   \n",
    "get_generation_by_gram(hello_rules, 'say_hello', stmt_split='=', or_split='|')  "
   ]
  },
  {
   "cell_type": "code",
   "execution_count": 31,
   "metadata": {
    "ExecuteTime": {
     "end_time": "2019-10-01T01:27:29.845405Z",
     "start_time": "2019-10-01T01:27:29.837051Z"
    }
   },
   "outputs": [
    {
     "data": {
      "text/plain": [
       "'一个好看的蓝色的女人坐在这个蓝色的好看的好看的小猫'"
      ]
     },
     "execution_count": 31,
     "metadata": {},
     "output_type": "execute_result"
    }
   ],
   "source": [
    "get_generation_by_gram(simple_grammar, 'sentence', stmt_split='=>', or_split='|')  "
   ]
  },
  {
   "cell_type": "code",
   "execution_count": 45,
   "metadata": {
    "ExecuteTime": {
     "end_time": "2019-10-01T01:37:35.762077Z",
     "start_time": "2019-10-01T01:37:35.753186Z"
    }
   },
   "outputs": [
    {
     "name": "stdout",
     "output_type": "stream",
     "text": [
      "if(a3>=a){b0d=c}\n",
      "if(2>=1){if(c<dd){00=3}}\n",
      "if(2d==dd){if(a0>=3){1=1}}\n",
      "if(130cd){if(dab){a0=22}}\n",
      "if(c3c12<3){1dca2d3=bc}\n",
      "if(20<=1b){22=2}\n",
      "if(2<0cbc){1d2301a=1a}\n",
      "if(b<c){if(cb1d2){cb0=1}}\n",
      "if(3<=a0){22aa=c}\n",
      "if(c<30b){if(3>=bac){b=ad}}\n",
      "if(2b2a0){3=bb}\n",
      "if(a<=1c){if(b3>=20){0012=b2ca023}}\n",
      "if(c1c1>=2){if(11==c){if(3da<=2){if(3==d1d){a=3}}}}\n",
      "if(0a){2c=a}\n",
      "if(c<0a){a=03}\n",
      "if(ddddc0){3=a2}\n",
      "if(210<=331cc){1=b}\n",
      "if(2>=2bd){if(c<=1030bb){if(dcc){if(a<=13){if(203==c){a1a=130}}}}}\n",
      "if(d==1ca){b=d}\n",
      "if(bdbbdd2dd){if(d>=c3b){if(cd0==21){if(22){a=dd}}}}\n"
     ]
    }
   ],
   "source": [
    "simple_programming = '''\n",
    "if_stmt => if ( cond ) { stmt }\n",
    "cond => var op var\n",
    "op => | == | < | >= | <= \n",
    "stmt => assign | if_stmt\n",
    "assign => var = var\n",
    "var =>  char var | char\n",
    "char => a | b |  c | d | 0 | 1 | 2 | 3\n",
    "'''\n",
    "for i in range(20):\n",
    "    print(get_generation_by_gram(simple_programming, 'if_stmt', stmt_split='=>', or_split='|')  )"
   ]
  },
  {
   "cell_type": "code",
   "execution_count": 47,
   "metadata": {
    "ExecuteTime": {
     "end_time": "2019-10-01T01:39:40.328504Z",
     "start_time": "2019-10-01T01:39:40.318622Z"
    }
   },
   "outputs": [
    {
     "name": "stdout",
     "output_type": "stream",
     "text": [
      "Jhon \n",
      " Mike \n",
      " 老梁\n",
      "Jhon \n",
      "Jhon \n",
      " Mike \n",
      "Jhon \n",
      " 老梁\n",
      "Jhon \n",
      "Jhon \n"
     ]
    }
   ],
   "source": [
    "def name():\n",
    "    return random.choice('Jhon | Mike | 老梁'.split('|'))\n",
    "for i in range(10):\n",
    "    print(name())"
   ]
  },
  {
   "cell_type": "code",
   "execution_count": 48,
   "metadata": {
    "ExecuteTime": {
     "end_time": "2019-10-01T01:40:24.079432Z",
     "start_time": "2019-10-01T01:40:24.069925Z"
    }
   },
   "outputs": [
    {
     "name": "stdout",
     "output_type": "stream",
     "text": [
      " 快请进\n",
      " 您来啦 \n",
      "你好 \n",
      "你好 \n",
      " 快请进\n",
      " 您来啦 \n",
      " 快请进\n",
      " 快请进\n",
      "你好 \n",
      " 快请进\n"
     ]
    }
   ],
   "source": [
    "def hello():\n",
    "    return random.choice('你好 | 您来啦 | 快请进'.split('|'))\n",
    "for i in range(10):\n",
    "    print(hello())"
   ]
  },
  {
   "cell_type": "code",
   "execution_count": 49,
   "metadata": {
    "ExecuteTime": {
     "end_time": "2019-10-01T01:41:33.243646Z",
     "start_time": "2019-10-01T01:41:33.236706Z"
    }
   },
   "outputs": [
    {
     "name": "stdout",
     "output_type": "stream",
     "text": [
      " 老梁 你好 \n",
      " 老梁 你好 \n",
      "Jhon   您来啦 \n",
      " Mike   您来啦 \n",
      " Mike   快请进\n"
     ]
    }
   ],
   "source": [
    "def say_hello():\n",
    "    return name()+ ' ' + hello()\n",
    "for i in range(5):\n",
    "    print(say_hello())"
   ]
  },
  {
   "cell_type": "code",
   "execution_count": 50,
   "metadata": {
    "ExecuteTime": {
     "end_time": "2019-10-01T11:02:42.481210Z",
     "start_time": "2019-10-01T11:02:42.474274Z"
    }
   },
   "outputs": [],
   "source": [
    "corpus = \"./article_9k.txt\""
   ]
  },
  {
   "cell_type": "code",
   "execution_count": 61,
   "metadata": {
    "ExecuteTime": {
     "end_time": "2019-10-01T11:11:48.425602Z",
     "start_time": "2019-10-01T11:11:48.089504Z"
    }
   },
   "outputs": [
    {
     "name": "stdout",
     "output_type": "stream",
     "text": [
      "Wall time: 331 ms\n"
     ]
    }
   ],
   "source": [
    "%%time\n",
    "contents = open(corpus,encoding='utf-8').read()\n",
    "type(contents)"
   ]
  },
  {
   "cell_type": "code",
   "execution_count": 62,
   "metadata": {
    "ExecuteTime": {
     "end_time": "2019-10-01T11:11:51.101412Z",
     "start_time": "2019-10-01T11:11:51.095428Z"
    }
   },
   "outputs": [
    {
     "data": {
      "text/plain": [
       "33425826"
      ]
     },
     "execution_count": 62,
     "metadata": {},
     "output_type": "execute_result"
    }
   ],
   "source": [
    "len(contents)"
   ]
  },
  {
   "cell_type": "code",
   "execution_count": 63,
   "metadata": {
    "ExecuteTime": {
     "end_time": "2019-10-01T11:12:01.512695Z",
     "start_time": "2019-10-01T11:12:01.506749Z"
    }
   },
   "outputs": [
    {
     "data": {
      "text/plain": [
       "'此外自本周6月12日'"
      ]
     },
     "execution_count": 63,
     "metadata": {},
     "output_type": "execute_result"
    }
   ],
   "source": [
    "contents[:10]"
   ]
  },
  {
   "cell_type": "code",
   "execution_count": 64,
   "metadata": {
    "ExecuteTime": {
     "end_time": "2019-10-01T11:12:25.110634Z",
     "start_time": "2019-10-01T11:12:16.290326Z"
    }
   },
   "outputs": [],
   "source": [
    "import jieba"
   ]
  },
  {
   "cell_type": "code",
   "execution_count": 65,
   "metadata": {
    "ExecuteTime": {
     "end_time": "2019-10-01T11:13:06.349972Z",
     "start_time": "2019-10-01T11:13:06.343989Z"
    }
   },
   "outputs": [],
   "source": [
    "max_length = 1000000 \n",
    "sub_file = contents[:max_length]"
   ]
  },
  {
   "cell_type": "code",
   "execution_count": 68,
   "metadata": {
    "ExecuteTime": {
     "end_time": "2019-10-01T11:23:37.968485Z",
     "start_time": "2019-10-01T11:21:14.808717Z"
    }
   },
   "outputs": [
    {
     "name": "stderr",
     "output_type": "stream",
     "text": [
      "Building prefix dict from the default dictionary ...\n",
      "Dumping model to file cache C:\\Users\\acer9527\\AppData\\Local\\Temp\\jieba.cache\n",
      "Loading model cost 1.609 seconds.\n",
      "Prefix dict has been built succesfully.\n"
     ]
    },
    {
     "name": "stdout",
     "output_type": "stream",
     "text": [
      "Wall time: 2min 23s\n"
     ]
    }
   ],
   "source": [
    "%%time\n",
    "# 用jieba 分词\n",
    "TOKENS = jieba.lcut(contents)\n",
    "type(TOKENS)"
   ]
  },
  {
   "cell_type": "code",
   "execution_count": 69,
   "metadata": {
    "ExecuteTime": {
     "end_time": "2019-10-01T11:24:16.749978Z",
     "start_time": "2019-10-01T11:24:16.744961Z"
    }
   },
   "outputs": [
    {
     "data": {
      "text/plain": [
       "list"
      ]
     },
     "execution_count": 69,
     "metadata": {},
     "output_type": "execute_result"
    }
   ],
   "source": [
    "type(TOKENS)"
   ]
  },
  {
   "cell_type": "code",
   "execution_count": 70,
   "metadata": {
    "ExecuteTime": {
     "end_time": "2019-10-01T11:24:29.275711Z",
     "start_time": "2019-10-01T11:24:29.223850Z"
    }
   },
   "outputs": [
    {
     "data": {
      "text/plain": [
       "['此外', '自', '本周', '6', '月', '12', '日起', '除', '小米', '手机']"
      ]
     },
     "execution_count": 70,
     "metadata": {},
     "output_type": "execute_result"
    }
   ],
   "source": [
    "TOKENS[:10]"
   ]
  },
  {
   "cell_type": "code",
   "execution_count": 71,
   "metadata": {
    "ExecuteTime": {
     "end_time": "2019-10-01T11:25:48.099332Z",
     "start_time": "2019-10-01T11:25:48.080483Z"
    }
   },
   "outputs": [
    {
     "name": "stderr",
     "output_type": "stream",
     "text": [
      "UsageError: Line magic function `%` not found.\n"
     ]
    }
   ],
   "source": [
    "from collections import Counter\n",
    "import matplotlib.pyplot as plt\n",
    "% %matplotlib inline"
   ]
  },
  {
   "cell_type": "code",
   "execution_count": 72,
   "metadata": {
    "ExecuteTime": {
     "end_time": "2019-10-01T11:26:27.614634Z",
     "start_time": "2019-10-01T11:26:25.093965Z"
    }
   },
   "outputs": [],
   "source": [
    "words_count = Counter(TOKENS)"
   ]
  },
  {
   "cell_type": "code",
   "execution_count": 73,
   "metadata": {
    "ExecuteTime": {
     "end_time": "2019-10-01T11:26:56.776780Z",
     "start_time": "2019-10-01T11:26:56.719904Z"
    }
   },
   "outputs": [
    {
     "data": {
      "text/plain": [
       "[('的', 703716),\n",
       " ('n', 382020),\n",
       " ('在', 263597),\n",
       " ('月', 189330),\n",
       " ('日', 166300),\n",
       " ('新华社', 142462),\n",
       " ('和', 134061),\n",
       " ('年', 123106),\n",
       " ('了', 121938),\n",
       " ('是', 100909)]"
      ]
     },
     "execution_count": 73,
     "metadata": {},
     "output_type": "execute_result"
    }
   ],
   "source": [
    "words_count.most_common(10)"
   ]
  },
  {
   "cell_type": "code",
   "execution_count": 74,
   "metadata": {
    "ExecuteTime": {
     "end_time": "2019-10-01T11:28:32.911275Z",
     "start_time": "2019-10-01T11:28:32.721748Z"
    }
   },
   "outputs": [],
   "source": [
    "words_with_freqences = [f for w,f in words_count.most_common()]"
   ]
  },
  {
   "cell_type": "code",
   "execution_count": 75,
   "metadata": {
    "ExecuteTime": {
     "end_time": "2019-10-01T11:28:54.926243Z",
     "start_time": "2019-10-01T11:28:54.920295Z"
    }
   },
   "outputs": [
    {
     "data": {
      "text/plain": [
       "[703716,\n",
       " 382020,\n",
       " 263597,\n",
       " 189330,\n",
       " 166300,\n",
       " 142462,\n",
       " 134061,\n",
       " 123106,\n",
       " 121938,\n",
       " 100909]"
      ]
     },
     "execution_count": 75,
     "metadata": {},
     "output_type": "execute_result"
    }
   ],
   "source": [
    "words_with_freqences[:10]"
   ]
  },
  {
   "cell_type": "code",
   "execution_count": 76,
   "metadata": {
    "ExecuteTime": {
     "end_time": "2019-10-01T11:29:10.327839Z",
     "start_time": "2019-10-01T11:29:10.323850Z"
    }
   },
   "outputs": [],
   "source": [
    "import numpy as np"
   ]
  },
  {
   "cell_type": "code",
   "execution_count": 77,
   "metadata": {
    "ExecuteTime": {
     "end_time": "2019-10-01T11:29:42.510997Z",
     "start_time": "2019-10-01T11:29:41.475410Z"
    }
   },
   "outputs": [
    {
     "data": {
      "text/plain": [
       "[<matplotlib.lines.Line2D at 0x15b9d334ba8>]"
      ]
     },
     "execution_count": 77,
     "metadata": {},
     "output_type": "execute_result"
    },
    {
     "data": {
      "image/png": "[encoded data removed]",
      "text/plain": [
       "<Figure size 432x288 with 1 Axes>"
      ]
     },
     "metadata": {
      "needs_background": "light"
     },
     "output_type": "display_data"
    }
   ],
   "source": [
    "plt.plot(np.log(words_with_freqences))"
   ]
  },
  {
   "cell_type": "code",
   "execution_count": 78,
   "metadata": {
    "ExecuteTime": {
     "end_time": "2019-10-01T11:30:59.164070Z",
     "start_time": "2019-10-01T11:30:59.159118Z"
    }
   },
   "outputs": [
    {
     "data": {
      "text/plain": [
       "['一加', '手机', '5', '要', '做', '市面', '最', '轻薄']"
      ]
     },
     "execution_count": 78,
     "metadata": {},
     "output_type": "execute_result"
    }
   ],
   "source": [
    "jieba.lcut('一加手机5要做市面最轻薄')"
   ]
  },
  {
   "cell_type": "code",
   "execution_count": 80,
   "metadata": {
    "ExecuteTime": {
     "end_time": "2019-10-01T11:33:08.319034Z",
     "start_time": "2019-10-01T11:33:02.844590Z"
    }
   },
   "outputs": [
    {
     "name": "stdout",
     "output_type": "stream",
     "text": [
      "Wall time: 5.37 s\n"
     ]
    }
   ],
   "source": [
    "%%time\n",
    "# 前一个和后一个拼接起来 形成2gram\n",
    "_2_gram_words = [TOKENS[i] +TOKENS[i+1] for i in range(len(TOKENS)-1)]"
   ]
  },
  {
   "cell_type": "code",
   "execution_count": 81,
   "metadata": {
    "ExecuteTime": {
     "end_time": "2019-10-01T11:33:38.268072Z",
     "start_time": "2019-10-01T11:33:38.207266Z"
    }
   },
   "outputs": [
    {
     "data": {
      "text/plain": [
       "['此外自', '自本周', '本周6', '6月', '月12', '12日起', '日起除', '除小米', '小米手机', '手机6']"
      ]
     },
     "execution_count": 81,
     "metadata": {},
     "output_type": "execute_result"
    }
   ],
   "source": [
    "_2_gram_words[:10]"
   ]
  },
  {
   "cell_type": "code",
   "execution_count": 82,
   "metadata": {
    "ExecuteTime": {
     "end_time": "2019-10-01T11:34:32.960045Z",
     "start_time": "2019-10-01T11:34:27.531694Z"
    }
   },
   "outputs": [],
   "source": [
    "_2_gram_words_count = Counter(_2_gram_words)"
   ]
  },
  {
   "cell_type": "code",
   "execution_count": 83,
   "metadata": {
    "ExecuteTime": {
     "end_time": "2019-10-01T11:35:46.960404Z",
     "start_time": "2019-10-01T11:35:46.845746Z"
    }
   },
   "outputs": [
    {
     "data": {
      "text/plain": [
       "('流年', 1)"
      ]
     },
     "execution_count": 83,
     "metadata": {},
     "output_type": "execute_result"
    }
   ],
   "source": [
    "words_count.most_common()[-1]"
   ]
  },
  {
   "cell_type": "code",
   "execution_count": 84,
   "metadata": {
    "ExecuteTime": {
     "end_time": "2019-10-01T11:48:20.386629Z",
     "start_time": "2019-10-01T11:48:20.017572Z"
    }
   },
   "outputs": [],
   "source": [
    "def get_1_gram_count(word):\n",
    "    '''获取1_gram的词频'''\n",
    "    if word not in words_count:\n",
    "        return words_count.most_common()[-1][-1]\n",
    "    else:\n",
    "        return words_count[word]\n",
    "    \n",
    "def get_2_gram_count(word):\n",
    "    '''获取2_gram的词频'''\n",
    "    if word not in _2_gram_words_count:\n",
    "        return _2_gram_words_count.most_common()[-1][-1]\n",
    "    else:\n",
    "        return _2_gram_words_count[word]"
   ]
  },
  {
   "cell_type": "code",
   "execution_count": 86,
   "metadata": {
    "ExecuteTime": {
     "end_time": "2019-10-01T11:58:28.745915Z",
     "start_time": "2019-10-01T11:58:28.739969Z"
    }
   },
   "outputs": [],
   "source": [
    "def get_gram_count(word, wc):\n",
    "    '''word:abs需要查询的词\n",
    "        wc: word count\n",
    "        融合了N_gram的方法 \n",
    "    '''\n",
    "    if word in wc:\n",
    "        return wc[word]\n",
    "    else:\n",
    "        return wc.most_common()[-1][-1]"
   ]
  },
  {
   "cell_type": "code",
   "execution_count": 87,
   "metadata": {
    "ExecuteTime": {
     "end_time": "2019-10-01T11:58:49.069279Z",
     "start_time": "2019-10-01T11:58:49.063292Z"
    }
   },
   "outputs": [
    {
     "data": {
      "text/plain": [
       "2"
      ]
     },
     "execution_count": 87,
     "metadata": {},
     "output_type": "execute_result"
    }
   ],
   "source": [
    "get_gram_count('xxx', words_count)"
   ]
  },
  {
   "cell_type": "code",
   "execution_count": 88,
   "metadata": {
    "ExecuteTime": {
     "end_time": "2019-10-01T11:59:09.030325Z",
     "start_time": "2019-10-01T11:59:05.887400Z"
    }
   },
   "outputs": [
    {
     "data": {
      "text/plain": [
       "1"
      ]
     },
     "execution_count": 88,
     "metadata": {},
     "output_type": "execute_result"
    }
   ],
   "source": [
    "get_gram_count('xxx', _2_gram_words_count)"
   ]
  },
  {
   "cell_type": "code",
   "execution_count": 93,
   "metadata": {
    "ExecuteTime": {
     "end_time": "2019-10-01T12:12:24.889337Z",
     "start_time": "2019-10-01T12:12:24.880392Z"
    }
   },
   "outputs": [],
   "source": [
    "def two_gram_model(sentence):\n",
    "    ''' 获取二元词的概率\n",
    "    sentence:\n",
    "    '''\n",
    "    # 切词\n",
    "    token = jieba.lcut(sentence)\n",
    "    \n",
    "    probability = 1 \n",
    "    \n",
    "    for i in range(len(token)-1 ):\n",
    "        word = token[i]\n",
    "        \n",
    "        next_word = token[i+1]\n",
    "        \n",
    "        _two_gram_c = get_gram_count(word+next_word, _2_gram_words_count)\n",
    "        \n",
    "        _one_gram_c = get_gram_count(next_word, words_count)# 为什么是 next_word？？\n",
    "        \n",
    "        pro = _two_gram_c / _one_gram_c  # 不应该是 _2_gram_words_count 词典大小吗？？\n",
    "        \n",
    "        probability *= pro \n",
    "        \n",
    "    return probability"
   ]
  },
  {
   "cell_type": "code",
   "execution_count": 94,
   "metadata": {
    "ExecuteTime": {
     "end_time": "2019-10-01T12:12:26.950819Z",
     "start_time": "2019-10-01T12:12:26.942840Z"
    }
   },
   "outputs": [
    {
     "data": {
      "text/plain": [
       "4.741787766101897e-37"
      ]
     },
     "execution_count": 94,
     "metadata": {},
     "output_type": "execute_result"
    }
   ],
   "source": [
    "two_gram_model('此外自本周6月12日起除小米手机6等15款机型')  "
   ]
  },
  {
   "cell_type": "code",
   "execution_count": 95,
   "metadata": {
    "ExecuteTime": {
     "end_time": "2019-10-01T12:12:44.713594Z",
     "start_time": "2019-10-01T12:12:42.236223Z"
    }
   },
   "outputs": [
    {
     "data": {
      "text/plain": [
       "6.239387998125227e-10"
      ]
     },
     "execution_count": 95,
     "metadata": {},
     "output_type": "execute_result"
    }
   ],
   "source": [
    "two_gram_model('前天早上吃晚饭的时候')"
   ]
  },
  {
   "cell_type": "code",
   "execution_count": 96,
   "metadata": {
    "ExecuteTime": {
     "end_time": "2019-10-01T12:13:10.736076Z",
     "start_time": "2019-10-01T12:13:08.237761Z"
    }
   },
   "outputs": [
    {
     "data": {
      "text/plain": [
       "2.3509374521948863e-13"
      ]
     },
     "execution_count": 96,
     "metadata": {},
     "output_type": "execute_result"
    }
   ],
   "source": [
    "two_gram_model('前天早上吃早饭的时候')"
   ]
  },
  {
   "cell_type": "markdown",
   "metadata": {},
   "source": [
    "不科学呀？？ 是语料库太小吗？"
   ]
  },
  {
   "cell_type": "code",
   "execution_count": 97,
   "metadata": {
    "ExecuteTime": {
     "end_time": "2019-10-01T12:14:19.015583Z",
     "start_time": "2019-10-01T12:14:17.733058Z"
    }
   },
   "outputs": [
    {
     "data": {
      "text/plain": [
       "8.497849335963889e-07"
      ]
     },
     "execution_count": 97,
     "metadata": {},
     "output_type": "execute_result"
    }
   ],
   "source": [
    "two_gram_model('我请你吃火锅')"
   ]
  },
  {
   "cell_type": "code",
   "execution_count": 98,
   "metadata": {
    "ExecuteTime": {
     "end_time": "2019-10-01T12:14:31.583761Z",
     "start_time": "2019-10-01T12:14:29.093424Z"
    }
   },
   "outputs": [
    {
     "data": {
      "text/plain": [
       "4.872460383977198e-10"
      ]
     },
     "execution_count": 98,
     "metadata": {},
     "output_type": "execute_result"
    }
   ],
   "source": [
    "two_gram_model('我请你吃日料大餐')"
   ]
  },
  {
   "cell_type": "code",
   "execution_count": 99,
   "metadata": {
    "ExecuteTime": {
     "end_time": "2019-10-01T12:14:42.961339Z",
     "start_time": "2019-10-01T12:14:42.922485Z"
    }
   },
   "outputs": [
    {
     "data": {
      "text/plain": [
       "1.364629466681511e-07"
      ]
     },
     "execution_count": 99,
     "metadata": {},
     "output_type": "execute_result"
    }
   ],
   "source": [
    "two_gram_model('这个人来自清华大学')"
   ]
  },
  {
   "cell_type": "code",
   "execution_count": 100,
   "metadata": {
    "ExecuteTime": {
     "end_time": "2019-10-01T12:14:56.268668Z",
     "start_time": "2019-10-01T12:14:53.786310Z"
    }
   },
   "outputs": [
    {
     "data": {
      "text/plain": [
       "4.607121764623602e-10"
      ]
     },
     "execution_count": 100,
     "metadata": {},
     "output_type": "execute_result"
    }
   ],
   "source": [
    "two_gram_model('这个人来自秦华大学')"
   ]
  },
  {
   "cell_type": "code",
   "execution_count": 101,
   "metadata": {
    "ExecuteTime": {
     "end_time": "2019-10-01T12:15:13.715487Z",
     "start_time": "2019-10-01T12:15:11.139387Z"
    }
   },
   "outputs": [
    {
     "data": {
      "text/plain": [
       "1.3702130336795815e-09"
      ]
     },
     "execution_count": 101,
     "metadata": {},
     "output_type": "execute_result"
    }
   ],
   "source": [
    "two_gram_model('这个花特别好看')"
   ]
  },
  {
   "cell_type": "code",
   "execution_count": 102,
   "metadata": {
    "ExecuteTime": {
     "end_time": "2019-10-01T12:15:21.095583Z",
     "start_time": "2019-10-01T12:15:19.867868Z"
    }
   },
   "outputs": [
    {
     "data": {
      "text/plain": [
       "6.397130259238779e-11"
      ]
     },
     "execution_count": 102,
     "metadata": {},
     "output_type": "execute_result"
    }
   ],
   "source": [
    "two_gram_model('花这特别好看')"
   ]
  },
  {
   "cell_type": "code",
   "execution_count": 104,
   "metadata": {
    "ExecuteTime": {
     "end_time": "2019-10-01T12:24:00.345826Z",
     "start_time": "2019-10-01T12:23:20.195226Z"
    }
   },
   "outputs": [
    {
     "name": "stdout",
     "output_type": "stream",
     "text": [
      "sentence: 一个好看的小小的蓝色的小小的好看的蓝色的好看的桌子看着一个蓝色的蓝色的女人 with prob: 5.864781225119841e-56\n",
      "sentence: 一个小小的小小的女人坐在这个蓝色的女人 with prob: 3.889873641611419e-20\n",
      "sentence: 一个小小的篮球看着这个好看的小小的蓝色的好看的桌子 with prob: 2.1069122667728008e-33\n",
      "sentence: 这个蓝色的桌子听着一个小小的女人 with prob: 2.8228058993693106e-19\n",
      "sentence: 这个好看的女人坐在这个小小的篮球 with prob: 1.5131188435662271e-19\n",
      "sentence: 一个蓝色的蓝色的蓝色的小小的小猫看见这个蓝色的小小的小小的篮球 with prob: 7.196777743646927e-42\n",
      "sentence: 一个蓝色的篮球听着这个小小的女人 with prob: 7.42540882845475e-21\n",
      "sentence: 一个蓝色的女人看着这个小小的蓝色的小猫 with prob: 1.5582269932121198e-21\n",
      "sentence: 一个蓝色的桌子看见一个小小的小小的小小的好看的蓝色的好看的小小的小小的女人 with prob: 1.8349005693757115e-44\n",
      "sentence: 一个小小的蓝色的小小的好看的小小的好看的小小的蓝色的篮球看着一个小小的蓝色的篮球 with prob: 6.427572003095734e-53\n"
     ]
    }
   ],
   "source": [
    "for sen in [get_generation_by_gram(simple_grammar,'sentence', stmt_split='=>', or_split='|') for _ in range(10)]:\n",
    "    print('sentence: {} with prob: {}'.format(sen, two_gram_model(sen)))"
   ]
  },
  {
   "cell_type": "code",
   "execution_count": 105,
   "metadata": {
    "ExecuteTime": {
     "end_time": "2019-10-01T12:27:13.374958Z",
     "start_time": "2019-10-01T12:26:36.077757Z"
    }
   },
   "outputs": [
    {
     "name": "stdout",
     "output_type": "stream",
     "text": [
      "明天晚上请你吃大餐，我们一起吃苹果 is more possible\n",
      "---- 今天晚上请你吃大餐，我们一起吃日料 with probility 6.427572003095734e-53\n",
      "---- 明天晚上请你吃大餐，我们一起吃苹果 with probility 6.427572003095734e-53\n",
      "真是一只好看的小猫 is more possible\n",
      "---- 真事一只好看的小猫 with probility 6.427572003095734e-53\n",
      "---- 真是一只好看的小猫 with probility 6.427572003095734e-53\n",
      "今晚火锅去吃我 is more possible\n",
      "---- 今晚我去吃火锅 with probility 6.427572003095734e-53\n",
      "---- 今晚火锅去吃我 with probility 6.427572003095734e-53\n",
      "养乐多绿来一杯 is more possible\n",
      "---- 洋葱奶昔来一杯 with probility 6.427572003095734e-53\n",
      "---- 养乐多绿来一杯 with probility 6.427572003095734e-53\n"
     ]
    }
   ],
   "source": [
    "sentences_compared = [\n",
    "    \"今天晚上请你吃大餐，我们一起吃日料 明天晚上请你吃大餐，我们一起吃苹果\",\n",
    "    \"真事一只好看的小猫 真是一只好看的小猫\",\n",
    "    \"今晚我去吃火锅 今晚火锅去吃我\",\n",
    "    \"洋葱奶昔来一杯 养乐多绿来一杯\"\n",
    "]\n",
    "\n",
    "for s in sentences_compared:\n",
    "    s1, s2 = s.split()\n",
    "    p1, p2 =  two_gram_model(sen),two_gram_model(sen)\n",
    "    \n",
    "    better = s1 if p1 > p2 else s2\n",
    "    \n",
    "    print('{} is more possible'.format(better))\n",
    "    print('-'*4 + ' {} with probility {}'.format(s1, p1))\n",
    "    print('-'*4 + ' {} with probility {}'.format(s2, p2))"
   ]
  },
  {
   "cell_type": "markdown",
   "metadata": {},
   "source": [
    "感觉结果和想象中的不一样呢？"
   ]
  },
  {
   "cell_type": "markdown",
   "metadata": {},
   "source": [
    "# 定义你自己的语法"
   ]
  },
  {
   "cell_type": "code",
   "execution_count": 115,
   "metadata": {
    "ExecuteTime": {
     "end_time": "2019-10-01T13:49:47.023099Z",
     "start_time": "2019-10-01T13:49:47.016119Z"
    }
   },
   "outputs": [
    {
     "data": {
      "text/plain": [
       "'项羽很善于统兵打仗'"
      ]
     },
     "execution_count": 115,
     "metadata": {},
     "output_type": "execute_result"
    }
   ],
   "source": [
    "Self_gram = \"\"\"\n",
    "person_info = 姓名 程度副词* 擅长 特点\n",
    "姓名 = 刘邦 | 韩信| 项羽\n",
    "程度副词* =  程度副词|  程度副词*\n",
    "程度副词 = 很 | 非常 | 特别 | 极其\n",
    "擅长 = 喜欢 | 善于 | 擅长\n",
    "特点 = 统兵打仗 | 统帅 | 打仗 | 屠杀功臣| 自以为是| 分封诸侯\n",
    "\"\"\"\n",
    "get_generation_by_gram(Self_gram, 'person_info', stmt_split='=', or_split='|')  "
   ]
  },
  {
   "cell_type": "code",
   "execution_count": 111,
   "metadata": {
    "ExecuteTime": {
     "end_time": "2019-10-01T13:37:42.767095Z",
     "start_time": "2019-10-01T13:37:42.706290Z"
    }
   },
   "outputs": [],
   "source": [
    "def get_generation_n_by_gram(grammar, target, n):\n",
    "    \"\"\"根据语法树产生n条语句\"\"\"\n",
    "    result = []\n",
    "    for i in range(n):\n",
    "        sentence = get_generation_by_gram(grammar, target=target, stmt_split='=', or_split='|') \n",
    "        result.append(sentence)\n",
    "        \n",
    "    return result\n",
    "sentences_n = get_generation_n_by_gram(Self_gram, 'person_info', 5)"
   ]
  },
  {
   "cell_type": "code",
   "execution_count": 112,
   "metadata": {
    "ExecuteTime": {
     "end_time": "2019-10-01T13:37:47.192288Z",
     "start_time": "2019-10-01T13:37:47.187269Z"
    }
   },
   "outputs": [
    {
     "data": {
      "text/plain": [
       "['项羽极其喜欢打仗', '韩信非常善于统兵打仗', '项羽特别喜欢自以为是', '刘邦特别善于统帅', '项羽很喜欢屠杀功臣']"
      ]
     },
     "execution_count": 112,
     "metadata": {},
     "output_type": "execute_result"
    }
   ],
   "source": [
    "sentences_n"
   ]
  },
  {
   "cell_type": "markdown",
   "metadata": {},
   "source": [
    "# 获得最优质的的语言"
   ]
  },
  {
   "cell_type": "code",
   "execution_count": 116,
   "metadata": {
    "ExecuteTime": {
     "end_time": "2019-10-01T13:50:15.891119Z",
     "start_time": "2019-10-01T13:49:51.480437Z"
    }
   },
   "outputs": [
    {
     "name": "stdout",
     "output_type": "stream",
     "text": [
      "best: ('刘邦非常喜欢打仗', 6.427572003095734e-53) \n",
      "\n",
      "---- 刘邦非常喜欢打仗 with probility 6.427572003095734e-53\n",
      "---- 刘邦极其喜欢统兵打仗 with probility 6.427572003095734e-53\n",
      "---- 项羽非常喜欢打仗 with probility 6.427572003095734e-53\n",
      "---- 项羽特别善于自以为是 with probility 6.427572003095734e-53\n",
      "---- 韩信很喜欢统帅 with probility 6.427572003095734e-53\n"
     ]
    }
   ],
   "source": [
    "def generate_best(grammar, target, n):\n",
    "    '''该函数输入一个语法 + 语言模型，能够生成n个句子，并能选择一个最合理的句子\n",
    "    '''\n",
    "    sentences = []\n",
    "    for i in range(n):\n",
    "        sentence = get_generation_by_gram(grammar, target=target, stmt_split='=', or_split='|') \n",
    "        sentences.append(sentence)\n",
    "        \n",
    "    result = [(sentence, two_gram_model(sen)) for sentence in sentences]\n",
    "    \n",
    "    sorted(result, key=lambda x: x[1], reverse=True)\n",
    "    \n",
    "    return result[0],result\n",
    "best,all_result = generate_best(Self_gram, 'person_info', 5)\n",
    "print(\"best:\",best,'\\n')\n",
    "for item in all_result:\n",
    "    print('-'*4 + ' {} with probility {}'.format(item[0], item[1]))"
   ]
  },
  {
   "cell_type": "markdown",
   "metadata": {},
   "source": [
    "# 2. 使用新数据源完成语言模型的训练"
   ]
  },
  {
   "cell_type": "code",
   "execution_count": 117,
   "metadata": {
    "ExecuteTime": {
     "end_time": "2019-10-01T13:57:00.137768Z",
     "start_time": "2019-10-01T13:56:57.727264Z"
    }
   },
   "outputs": [],
   "source": [
    "import pandas as pd "
   ]
  },
  {
   "cell_type": "code",
   "execution_count": 118,
   "metadata": {
    "ExecuteTime": {
     "end_time": "2019-10-01T13:57:40.508066Z",
     "start_time": "2019-10-01T13:57:39.338857Z"
    }
   },
   "outputs": [
    {
     "name": "stderr",
     "output_type": "stream",
     "text": [
      "D:\\ProgramData\\Anaconda3\\lib\\site-packages\\IPython\\core\\interactiveshell.py:3020: DtypeWarning: Columns (0,4) have mixed types. Specify dtype option on import or set low_memory=False.\n",
      "  interactivity=interactivity, compiler=compiler, result=result)\n"
     ]
    }
   ],
   "source": [
    "copurs_data = pd.read_csv(\"./movie_comments.csv\")"
   ]
  },
  {
   "cell_type": "code",
   "execution_count": 122,
   "metadata": {
    "ExecuteTime": {
     "end_time": "2019-10-01T13:59:06.533251Z",
     "start_time": "2019-10-01T13:59:06.527274Z"
    }
   },
   "outputs": [
    {
     "data": {
      "text/plain": [
       "(261497, 5)"
      ]
     },
     "execution_count": 122,
     "metadata": {},
     "output_type": "execute_result"
    }
   ],
   "source": [
    "copurs_data.shape"
   ]
  },
  {
   "cell_type": "code",
   "execution_count": 119,
   "metadata": {
    "ExecuteTime": {
     "end_time": "2019-10-01T13:57:50.724083Z",
     "start_time": "2019-10-01T13:57:50.718128Z"
    }
   },
   "outputs": [
    {
     "data": {
      "text/plain": [
       "id         object\n",
       "link       object\n",
       "name       object\n",
       "comment    object\n",
       "star       object\n",
       "dtype: object"
      ]
     },
     "execution_count": 119,
     "metadata": {},
     "output_type": "execute_result"
    }
   ],
   "source": [
    "copurs_data.dtypes"
   ]
  },
  {
   "cell_type": "code",
   "execution_count": 120,
   "metadata": {
    "ExecuteTime": {
     "end_time": "2019-10-01T13:58:04.472985Z",
     "start_time": "2019-10-01T13:58:04.394160Z"
    }
   },
   "outputs": [
    {
     "data": {
      "text/html": [
       "<div>\n",
       "<style scoped>\n",
       "    .dataframe tbody tr th:only-of-type {\n",
       "        vertical-align: middle;\n",
       "    }\n",
       "\n",
       "    .dataframe tbody tr th {\n",
       "        vertical-align: top;\n",
       "    }\n",
       "\n",
       "    .dataframe thead th {\n",
       "        text-align: right;\n",
       "    }\n",
       "</style>\n",
       "<table border=\"1\" class=\"dataframe\">\n",
       "  <thead>\n",
       "    <tr style=\"text-align: right;\">\n",
       "      <th></th>\n",
       "      <th>id</th>\n",
       "      <th>link</th>\n",
       "      <th>name</th>\n",
       "      <th>comment</th>\n",
       "      <th>star</th>\n",
       "    </tr>\n",
       "  </thead>\n",
       "  <tbody>\n",
       "    <tr>\n",
       "      <th>0</th>\n",
       "      <td>1</td>\n",
       "      <td>https://movie.douban.com/subject/26363254/</td>\n",
       "      <td>战狼2</td>\n",
       "      <td>吴京意淫到了脑残的地步，看了恶心想吐</td>\n",
       "      <td>1</td>\n",
       "    </tr>\n",
       "    <tr>\n",
       "      <th>1</th>\n",
       "      <td>2</td>\n",
       "      <td>https://movie.douban.com/subject/26363254/</td>\n",
       "      <td>战狼2</td>\n",
       "      <td>首映礼看的。太恐怖了这个电影，不讲道理的，完全就是吴京在实现他这个小粉红的英雄梦。各种装备轮...</td>\n",
       "      <td>2</td>\n",
       "    </tr>\n",
       "    <tr>\n",
       "      <th>2</th>\n",
       "      <td>3</td>\n",
       "      <td>https://movie.douban.com/subject/26363254/</td>\n",
       "      <td>战狼2</td>\n",
       "      <td>吴京的炒作水平不输冯小刚，但小刚至少不会用主旋律来炒作…吴京让人看了不舒服，为了主旋律而主旋...</td>\n",
       "      <td>2</td>\n",
       "    </tr>\n",
       "    <tr>\n",
       "      <th>3</th>\n",
       "      <td>4</td>\n",
       "      <td>https://movie.douban.com/subject/26363254/</td>\n",
       "      <td>战狼2</td>\n",
       "      <td>凭良心说，好看到不像《战狼1》的续集，完虐《湄公河行动》。</td>\n",
       "      <td>4</td>\n",
       "    </tr>\n",
       "    <tr>\n",
       "      <th>4</th>\n",
       "      <td>5</td>\n",
       "      <td>https://movie.douban.com/subject/26363254/</td>\n",
       "      <td>战狼2</td>\n",
       "      <td>中二得很</td>\n",
       "      <td>1</td>\n",
       "    </tr>\n",
       "  </tbody>\n",
       "</table>\n",
       "</div>"
      ],
      "text/plain": [
       "  id                                        link name  \\\n",
       "0  1  https://movie.douban.com/subject/26363254/  战狼2   \n",
       "1  2  https://movie.douban.com/subject/26363254/  战狼2   \n",
       "2  3  https://movie.douban.com/subject/26363254/  战狼2   \n",
       "3  4  https://movie.douban.com/subject/26363254/  战狼2   \n",
       "4  5  https://movie.douban.com/subject/26363254/  战狼2   \n",
       "\n",
       "                                             comment star  \n",
       "0                                 吴京意淫到了脑残的地步，看了恶心想吐    1  \n",
       "1  首映礼看的。太恐怖了这个电影，不讲道理的，完全就是吴京在实现他这个小粉红的英雄梦。各种装备轮...    2  \n",
       "2  吴京的炒作水平不输冯小刚，但小刚至少不会用主旋律来炒作…吴京让人看了不舒服，为了主旋律而主旋...    2  \n",
       "3                      凭良心说，好看到不像《战狼1》的续集，完虐《湄公河行动》。    4  \n",
       "4                                               中二得很    1  "
      ]
     },
     "execution_count": 120,
     "metadata": {},
     "output_type": "execute_result"
    }
   ],
   "source": [
    "copurs_data.head()"
   ]
  },
  {
   "cell_type": "code",
   "execution_count": 121,
   "metadata": {
    "ExecuteTime": {
     "end_time": "2019-10-01T13:58:29.015926Z",
     "start_time": "2019-10-01T13:58:28.989960Z"
    }
   },
   "outputs": [
    {
     "data": {
      "text/plain": [
       "2760"
      ]
     },
     "execution_count": 121,
     "metadata": {},
     "output_type": "execute_result"
    }
   ],
   "source": [
    "copurs_data.name.nunique()"
   ]
  },
  {
   "cell_type": "code",
   "execution_count": 123,
   "metadata": {
    "ExecuteTime": {
     "end_time": "2019-10-01T14:01:56.153635Z",
     "start_time": "2019-10-01T14:01:56.149678Z"
    }
   },
   "outputs": [],
   "source": [
    "import re\n",
    "def data_preprocessinng(content):\n",
    "    '''去除文本中的非汉字字符'''\n",
    "    return ''.join(re.findall('\\w+',content))"
   ]
  },
  {
   "cell_type": "code",
   "execution_count": 127,
   "metadata": {
    "ExecuteTime": {
     "end_time": "2019-10-01T14:04:34.247016Z",
     "start_time": "2019-10-01T14:04:33.519963Z"
    }
   },
   "outputs": [
    {
     "name": "stdout",
     "output_type": "stream",
     "text": [
      "Wall time: 722 ms\n"
     ]
    }
   ],
   "source": [
    "%%time\n",
    "# 文本清洗 去除非汉字字符\n",
    "copurs_data['comment'] = copurs_data['comment'].apply(lambda x: data_preprocessinng(str(x)))"
   ]
  },
  {
   "cell_type": "code",
   "execution_count": 128,
   "metadata": {
    "ExecuteTime": {
     "end_time": "2019-10-01T14:05:18.947683Z",
     "start_time": "2019-10-01T14:05:18.935744Z"
    }
   },
   "outputs": [
    {
     "data": {
      "text/html": [
       "<div>\n",
       "<style scoped>\n",
       "    .dataframe tbody tr th:only-of-type {\n",
       "        vertical-align: middle;\n",
       "    }\n",
       "\n",
       "    .dataframe tbody tr th {\n",
       "        vertical-align: top;\n",
       "    }\n",
       "\n",
       "    .dataframe thead th {\n",
       "        text-align: right;\n",
       "    }\n",
       "</style>\n",
       "<table border=\"1\" class=\"dataframe\">\n",
       "  <thead>\n",
       "    <tr style=\"text-align: right;\">\n",
       "      <th></th>\n",
       "      <th>id</th>\n",
       "      <th>link</th>\n",
       "      <th>name</th>\n",
       "      <th>comment</th>\n",
       "      <th>star</th>\n",
       "    </tr>\n",
       "  </thead>\n",
       "  <tbody>\n",
       "    <tr>\n",
       "      <th>0</th>\n",
       "      <td>1</td>\n",
       "      <td>https://movie.douban.com/subject/26363254/</td>\n",
       "      <td>战狼2</td>\n",
       "      <td>吴京意淫到了脑残的地步看了恶心想吐</td>\n",
       "      <td>1</td>\n",
       "    </tr>\n",
       "    <tr>\n",
       "      <th>1</th>\n",
       "      <td>2</td>\n",
       "      <td>https://movie.douban.com/subject/26363254/</td>\n",
       "      <td>战狼2</td>\n",
       "      <td>首映礼看的太恐怖了这个电影不讲道理的完全就是吴京在实现他这个小粉红的英雄梦各种装备轮番上场视...</td>\n",
       "      <td>2</td>\n",
       "    </tr>\n",
       "    <tr>\n",
       "      <th>2</th>\n",
       "      <td>3</td>\n",
       "      <td>https://movie.douban.com/subject/26363254/</td>\n",
       "      <td>战狼2</td>\n",
       "      <td>吴京的炒作水平不输冯小刚但小刚至少不会用主旋律来炒作吴京让人看了不舒服为了主旋律而主旋律为了...</td>\n",
       "      <td>2</td>\n",
       "    </tr>\n",
       "    <tr>\n",
       "      <th>3</th>\n",
       "      <td>4</td>\n",
       "      <td>https://movie.douban.com/subject/26363254/</td>\n",
       "      <td>战狼2</td>\n",
       "      <td>凭良心说好看到不像战狼1的续集完虐湄公河行动</td>\n",
       "      <td>4</td>\n",
       "    </tr>\n",
       "    <tr>\n",
       "      <th>4</th>\n",
       "      <td>5</td>\n",
       "      <td>https://movie.douban.com/subject/26363254/</td>\n",
       "      <td>战狼2</td>\n",
       "      <td>中二得很</td>\n",
       "      <td>1</td>\n",
       "    </tr>\n",
       "  </tbody>\n",
       "</table>\n",
       "</div>"
      ],
      "text/plain": [
       "  id                                        link name  \\\n",
       "0  1  https://movie.douban.com/subject/26363254/  战狼2   \n",
       "1  2  https://movie.douban.com/subject/26363254/  战狼2   \n",
       "2  3  https://movie.douban.com/subject/26363254/  战狼2   \n",
       "3  4  https://movie.douban.com/subject/26363254/  战狼2   \n",
       "4  5  https://movie.douban.com/subject/26363254/  战狼2   \n",
       "\n",
       "                                             comment star  \n",
       "0                                  吴京意淫到了脑残的地步看了恶心想吐    1  \n",
       "1  首映礼看的太恐怖了这个电影不讲道理的完全就是吴京在实现他这个小粉红的英雄梦各种装备轮番上场视...    2  \n",
       "2  吴京的炒作水平不输冯小刚但小刚至少不会用主旋律来炒作吴京让人看了不舒服为了主旋律而主旋律为了...    2  \n",
       "3                             凭良心说好看到不像战狼1的续集完虐湄公河行动    4  \n",
       "4                                               中二得很    1  "
      ]
     },
     "execution_count": 128,
     "metadata": {},
     "output_type": "execute_result"
    }
   ],
   "source": [
    "copurs_data.head()"
   ]
  },
  {
   "cell_type": "code",
   "execution_count": 129,
   "metadata": {
    "ExecuteTime": {
     "end_time": "2019-10-01T14:07:17.594249Z",
     "start_time": "2019-10-01T14:07:17.548373Z"
    }
   },
   "outputs": [
    {
     "name": "stdout",
     "output_type": "stream",
     "text": [
      "Wall time: 41.9 ms\n"
     ]
    }
   ],
   "source": [
    "%%time\n",
    "# 提取所有comments\n",
    "all_comment = ''.join(copurs_data.comment.tolist())"
   ]
  },
  {
   "cell_type": "code",
   "execution_count": 130,
   "metadata": {
    "ExecuteTime": {
     "end_time": "2019-10-01T14:10:18.366725Z",
     "start_time": "2019-10-01T14:09:22.252402Z"
    }
   },
   "outputs": [
    {
     "name": "stdout",
     "output_type": "stream",
     "text": [
      "Wall time: 56.1 s\n"
     ]
    }
   ],
   "source": [
    "%%time\n",
    "# 切词\n",
    "all_token_list = jieba.lcut(all_comment)"
   ]
  },
  {
   "cell_type": "code",
   "execution_count": 131,
   "metadata": {
    "ExecuteTime": {
     "end_time": "2019-10-01T14:11:27.505506Z",
     "start_time": "2019-10-01T14:11:23.064355Z"
    }
   },
   "outputs": [],
   "source": [
    "# 生成2gram语料\n",
    "_2_gram_words_new = [all_token_list[i] +all_token_list[i+1] for i in range(len(all_token_list)-1)]\n",
    "_2_gram_words_count = Counter(_2_gram_words_new)"
   ]
  },
  {
   "cell_type": "code",
   "execution_count": 132,
   "metadata": {
    "ExecuteTime": {
     "end_time": "2019-10-01T14:17:36.157735Z",
     "start_time": "2019-10-01T14:17:35.478517Z"
    }
   },
   "outputs": [],
   "source": [
    "_1_gram_words_count = Counter(all_token_list)"
   ]
  },
  {
   "cell_type": "code",
   "execution_count": 133,
   "metadata": {
    "ExecuteTime": {
     "end_time": "2019-10-01T14:18:12.588755Z",
     "start_time": "2019-10-01T14:18:12.583780Z"
    }
   },
   "outputs": [],
   "source": [
    "def prob_1(word,words_freq_counter):\n",
    "    '''1gram'''\n",
    "    return _1_gram_words_count[word] / sum(words_freq_counter.values()) if word in _1_gram_words_count else 1/sum(words_freq_counter.values())"
   ]
  },
  {
   "cell_type": "code",
   "execution_count": 134,
   "metadata": {
    "ExecuteTime": {
     "end_time": "2019-10-01T14:18:15.212737Z",
     "start_time": "2019-10-01T14:18:15.194782Z"
    }
   },
   "outputs": [
    {
     "data": {
      "text/plain": [
       "0.001309328166445808"
      ]
     },
     "execution_count": 134,
     "metadata": {},
     "output_type": "execute_result"
    }
   ],
   "source": [
    "prob_1('我们',_1_gram_words_count)"
   ]
  },
  {
   "cell_type": "code",
   "execution_count": 135,
   "metadata": {
    "ExecuteTime": {
     "end_time": "2019-10-01T14:18:28.982198Z",
     "start_time": "2019-10-01T14:18:28.971237Z"
    }
   },
   "outputs": [
    {
     "data": {
      "text/plain": [
       "['吴京', '意淫', '到', '了', '脑残', '的', '地步', '看', '了', '恶心']"
      ]
     },
     "execution_count": 135,
     "metadata": {},
     "output_type": "execute_result"
    }
   ],
   "source": [
    "all_token_list[:10]"
   ]
  },
  {
   "cell_type": "code",
   "execution_count": 136,
   "metadata": {
    "ExecuteTime": {
     "end_time": "2019-10-01T14:18:38.761314Z",
     "start_time": "2019-10-01T14:18:38.754368Z"
    }
   },
   "outputs": [
    {
     "data": {
      "text/plain": [
       "6.685931062701999e-06"
      ]
     },
     "execution_count": 136,
     "metadata": {},
     "output_type": "execute_result"
    }
   ],
   "source": [
    "prob_1('吹牛',_1_gram_words_count)"
   ]
  },
  {
   "cell_type": "code",
   "execution_count": 138,
   "metadata": {
    "ExecuteTime": {
     "end_time": "2019-10-01T14:34:32.744596Z",
     "start_time": "2019-10-01T14:34:19.349439Z"
    }
   },
   "outputs": [
    {
     "name": "stdout",
     "output_type": "stream",
     "text": [
      "best: ('韩信很喜欢统兵打仗', 3.8711555103316493e-47) \n",
      "\n",
      "---- 韩信很喜欢统兵打仗 with probility 3.8711555103316493e-47\n",
      "---- 刘邦极其善于统帅 with probility 3.8711555103316493e-47\n",
      "---- 项羽极其善于统兵打仗 with probility 3.8711555103316493e-47\n",
      "---- 刘邦很喜欢分封诸侯 with probility 3.8711555103316493e-47\n",
      "---- 刘邦非常喜欢屠杀功臣 with probility 3.8711555103316493e-47\n"
     ]
    }
   ],
   "source": [
    "# 改进2gram函数：使得它对所有新的2gram语料库兼容 General purpose\n",
    "def two_gram_model_general(sentence,_1_gram_words_count,  _2_gram_words_count):\n",
    "    ''' 获取二元词的概率\n",
    "    sentence:\n",
    "    '''\n",
    "    # 切词\n",
    "    token = jieba.lcut(sentence)\n",
    "    \n",
    "    probability = 1 \n",
    "    \n",
    "    for i in range(len(token)-1 ):\n",
    "        word = token[i]\n",
    "        \n",
    "        next_word = token[i+1]\n",
    "        \n",
    "        _two_gram_c = get_gram_count(word+next_word, _2_gram_words_count)\n",
    "        \n",
    "        _one_gram_c = get_gram_count(next_word, _1_gram_words_count)# 为什么是 next_word？？\n",
    "        \n",
    "        pro = _two_gram_c / _one_gram_c  # 不应该是 _2_gram_words_count 词典大小吗？？\n",
    "        \n",
    "        probability *= pro \n",
    "        \n",
    "    return probability\n",
    "\n",
    "def generate_best_general(grammar, target, n):\n",
    "    '''该函数输入一个语法 + 语言模型，能够生成n个句子，并能选择一个最合理的句子\n",
    "    '''\n",
    "    sentences = []\n",
    "    for i in range(n):\n",
    "        sentence = get_generation_by_gram(grammar, target=target, stmt_split='=', or_split='|') \n",
    "        sentences.append(sentence)\n",
    "        \n",
    "    result = [(sentence, two_gram_model_general(sen,_1_gram_words_count ,_2_gram_words_count)) for sentence in sentences]\n",
    "    \n",
    "    sorted(result, key=lambda x: x[1], reverse=True)\n",
    "    \n",
    "    return result[0],result\n",
    "\n",
    "best,all_result = generate_best_general(Self_gram, 'person_info', 5)\n",
    "print(\"best:\",best,'\\n')\n",
    "for item in all_result:\n",
    "    print('-'*4 + ' {} with probility {}'.format(item[0], item[1]))"
   ]
  },
  {
   "cell_type": "code",
   "execution_count": 139,
   "metadata": {
    "ExecuteTime": {
     "end_time": "2019-10-01T14:38:26.073976Z",
     "start_time": "2019-10-01T14:38:13.219373Z"
    }
   },
   "outputs": [
    {
     "name": "stdout",
     "output_type": "stream",
     "text": [
      "best: ('高晓松null喜欢损人', 3.8711555103316493e-47) \n",
      "\n",
      "---- 高晓松null喜欢损人 with probility 3.8711555103316493e-47\n",
      "---- 于谦null喜欢拍电影 with probility 3.8711555103316493e-47\n",
      "---- 于谦很很null喜欢作词 with probility 3.8711555103316493e-47\n",
      "---- 高晓松null善于作词 with probility 3.8711555103316493e-47\n",
      "---- 高晓松极其非常null喜欢说相声 with probility 3.8711555103316493e-47\n"
     ]
    }
   ],
   "source": [
    "new_gram = \"\"\"\n",
    "person_info = 姓名 程度副词* 擅长 特点\n",
    "姓名 =高晓松 | 岳云鹏| 于谦\n",
    "程度副词* = null | 程度副词 程度副词*\n",
    "程度副词 = 很 | 非常 | 特别 | 极其\n",
    "擅长 = 喜欢 | 善于 | 擅长\n",
    "特点 = 作词 | 作曲 | 喝酒 | 损人| 说相声| 拍电影\n",
    "\"\"\"\n",
    "best,all_result = generate_best_general(new_gram, 'person_info', 5)\n",
    "print(\"best:\",best,'\\n')\n",
    "for item in all_result:\n",
    "    print('-'*4 + ' {} with probility {}'.format(item[0], item[1]))"
   ]
  },
  {
   "cell_type": "code",
   "execution_count": 140,
   "metadata": {
    "ExecuteTime": {
     "end_time": "2019-10-01T14:41:41.723859Z",
     "start_time": "2019-10-01T14:41:29.056712Z"
    }
   },
   "outputs": [
    {
     "name": "stdout",
     "output_type": "stream",
     "text": [
      "宪法要求残疾宝险吗 is more possible\n",
      "---- 法律要求残疾保险吗 with probility 8.942967370295762e-10\n",
      "---- 宪法要求残疾宝险吗 with probility 2.325171516276898e-08\n",
      "我可以开一辆没有保险的新车吗 is more possible\n",
      "---- 我可以开一辆没有保险的新车吗 with probility 6.116516203026569e-20\n",
      "---- 一辆没有保险的新车可以开上路吗 with probility 6.379097665053176e-22\n",
      "什么时候要注册医疗保险 is more possible\n",
      "---- 什么时候要注册医疗保险 with probility 9.613614912671232e-06\n",
      "---- 什么时候要注册医疗抱险 with probility 3.3150396250590456e-07\n",
      "为什么要为汽车保险复钱 is more possible\n",
      "---- 为什么要为汽车保险付钱 with probility 5.93737898352752e-05\n",
      "---- 为什么要为汽车保险复钱 with probility 0.000296868949176376\n"
     ]
    }
   ],
   "source": [
    "need_compared = [\n",
    "    \"法律要求残疾保险吗 宪法要求残疾宝险吗\",\n",
    "    \"我可以开一辆没有保险的新车吗 一辆没有保险的新车可以开上路吗\",\n",
    "    \"什么时候要注册医疗保险 什么时候要注册医疗抱险\",\n",
    "    \"为什么要为汽车保险付钱 为什么要为汽车保险复钱\"\n",
    "]\n",
    "\n",
    "for s in need_compared:\n",
    "    s1, s2 = s.split()\n",
    "    p1, p2 = two_gram_model_general(s1,_1_gram_words_count,  _2_gram_words_count),two_gram_model_general(s2,_1_gram_words_count,  _2_gram_words_count)\n",
    "\n",
    "    better = s1 if p1 > p2 else s2\n",
    "    \n",
    "    print('{} is more possible'.format(better))\n",
    "    print('-'*4 + ' {} with probility {}'.format(s1, p1))\n",
    "    print('-'*4 + ' {} with probility {}'.format(s2, p2))"
   ]
  },
  {
   "cell_type": "code",
   "execution_count": null,
   "metadata": {},
   "outputs": [],
   "source": []
  },
  {
   "cell_type": "markdown",
   "metadata": {
    "ExecuteTime": {
     "end_time": "2019-07-03T07:08:15.480421Z",
     "start_time": "2019-07-03T07:08:15.133348Z"
    }
   },
   "source": [
    "generate_best(self_definition_grammer, tokens_2gram_counter, 'self_info', 5) "
   ]
  },
  {
   "cell_type": "markdown",
   "metadata": {},
   "source": [
    "Q: 这个模型有什么问题？ 你准备如何提升？"
   ]
  },
  {
   "cell_type": "markdown",
   "metadata": {},
   "source": [
    "Ans: 1.语言模型用到的预料和生成句子不是一个领域的，所以结果有偏差."
   ]
  },
  {
   "cell_type": "markdown",
   "metadata": {},
   "source": [
    "# (Optional) 完成基于Pattern Match的语句问答"
   ]
  },
  {
   "cell_type": "code",
   "execution_count": null,
   "metadata": {},
   "outputs": [],
   "source": []
  }
 ],
 "metadata": {
  "hide_input": false,
  "kernelspec": {
   "display_name": "Python 3",
   "language": "python",
   "name": "python3"
  },
  "language_info": {
   "codemirror_mode": {
    "name": "ipython",
    "version": 3
   },
   "file_extension": ".py",
   "mimetype": "text/x-python",
   "name": "python",
   "nbconvert_exporter": "python",
   "pygments_lexer": "ipython3",
   "version": "3.7.1"
  },
  "toc": {
   "base_numbering": 1,
   "nav_menu": {},
   "number_sections": true,
   "sideBar": true,
   "skip_h1_title": false,
   "title_cell": "Table of Contents",
   "title_sidebar": "Contents",
   "toc_cell": false,
   "toc_position": {},
   "toc_section_display": true,
   "toc_window_display": false
  },
  "varInspector": {
   "cols": {
    "lenName": 16,
    "lenType": 16,
    "lenVar": 40
   },
   "kernels_config": {
    "python": {
     "delete_cmd_postfix": "",
     "delete_cmd_prefix": "del ",
     "library": "var_list.py",
     "varRefreshCmd": "print(var_dic_list())"
    },
    "r": {
     "delete_cmd_postfix": ") ",
     "delete_cmd_prefix": "rm(",
     "library": "var_list.r",
     "varRefreshCmd": "cat(var_dic_list()) "
    }
   },
   "types_to_exclude": [
    "module",
    "function",
    "builtin_function_or_method",
    "instance",
    "_Feature"
   ],
   "window_display": false
  }
 },
 "nbformat": 4,
 "nbformat_minor": 2
}
