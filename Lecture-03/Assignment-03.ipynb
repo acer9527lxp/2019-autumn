{
 "cells": [
  {
   "cell_type": "markdown",
   "metadata": {},
   "source": [
    "# Part-1 Programming Review 编程回顾"
   ]
  },
  {
   "cell_type": "code",
   "execution_count": 75,
   "metadata": {
    "ExecuteTime": {
     "end_time": "2019-11-02T14:02:18.370635Z",
     "start_time": "2019-11-02T14:02:18.352695Z"
    }
   },
   "outputs": [],
   "source": [
    "import pandas as pd \n",
    "from icecream import ic\n",
    "import random\n",
    "import numpy as np \n",
    "import matplotlib.pyplot as plt \n",
    "from collections import Counter\n",
    "from sklearn.linear_model import LinearRegression\n",
    "from scipy.spatial.distance import cosine\n",
    "from collections import defaultdict\n",
    "%matplotlib inline"
   ]
  },
  {
   "cell_type": "markdown",
   "metadata": {
    "heading_collapsed": true
   },
   "source": [
    "##    Re-code the Linear-Regression Model using scikit-learning"
   ]
  },
  {
   "cell_type": "code",
   "execution_count": 5,
   "metadata": {
    "ExecuteTime": {
     "end_time": "2019-11-02T01:28:46.300680Z",
     "start_time": "2019-11-02T01:28:46.291702Z"
    },
    "hidden": true,
    "scrolled": true
   },
   "outputs": [
    {
     "data": {
      "text/plain": [
       "array([[0.74927823, 0.87028077],\n",
       "       [0.99334514, 0.36486086],\n",
       "       [0.06633811, 0.68707902],\n",
       "       [0.09821254, 0.5823763 ],\n",
       "       [0.22113012, 0.55348568],\n",
       "       [0.2353623 , 0.67954797],\n",
       "       [0.04099875, 0.68491693],\n",
       "       [0.98036426, 0.72143849],\n",
       "       [0.13266872, 0.39899688],\n",
       "       [0.20259792, 0.00466061],\n",
       "       [0.52192868, 0.82005086],\n",
       "       [0.72963582, 0.74755574],\n",
       "       [0.40367087, 0.0854062 ],\n",
       "       [0.45007012, 0.96562285],\n",
       "       [0.66211785, 0.25285068],\n",
       "       [0.91928351, 0.29304742],\n",
       "       [0.15987901, 0.70083869],\n",
       "       [0.72641938, 0.42855076],\n",
       "       [0.86567305, 0.47586628],\n",
       "       [0.95379072, 0.41205803]])"
      ]
     },
     "execution_count": 5,
     "metadata": {},
     "output_type": "execute_result"
    }
   ],
   "source": [
    "random_data = np.random.random((20,2))\n",
    "random_data"
   ]
  },
  {
   "cell_type": "code",
   "execution_count": 6,
   "metadata": {
    "ExecuteTime": {
     "end_time": "2019-11-02T01:29:46.450250Z",
     "start_time": "2019-11-02T01:29:46.447257Z"
    },
    "hidden": true
   },
   "outputs": [],
   "source": [
    "X = random_data[:,0]\n",
    "y = random_data[:,1]"
   ]
  },
  {
   "cell_type": "code",
   "execution_count": 7,
   "metadata": {
    "ExecuteTime": {
     "end_time": "2019-11-02T01:31:15.164089Z",
     "start_time": "2019-11-02T01:31:15.156053Z"
    },
    "hidden": true
   },
   "outputs": [
    {
     "data": {
      "text/plain": [
       "141.0"
      ]
     },
     "execution_count": 7,
     "metadata": {},
     "output_type": "execute_result"
    }
   ],
   "source": [
    "def assumuing_function(x):\n",
    "    return 13.4 * x + 5 + random.randint(-5,5)\n",
    "assumuing_function(10)"
   ]
  },
  {
   "cell_type": "code",
   "execution_count": 8,
   "metadata": {
    "ExecuteTime": {
     "end_time": "2019-11-02T01:32:27.753981Z",
     "start_time": "2019-11-02T01:32:26.823244Z"
    },
    "hidden": true
   },
   "outputs": [
    {
     "data": {
      "text/plain": [
       "<matplotlib.collections.PathCollection at 0x21a6fcf32b0>"
      ]
     },
     "execution_count": 8,
     "metadata": {},
     "output_type": "execute_result"
    },
    {
     "data": {
      "image/png": "[encoded data removed]",
      "text/plain": [
       "<Figure size 432x288 with 1 Axes>"
      ]
     },
     "metadata": {
      "needs_background": "light"
     },
     "output_type": "display_data"
    }
   ],
   "source": [
    "# 真实值\n",
    "y = [assumuing_function(x) for x in X]\n",
    "plt.scatter(X, y )"
   ]
  },
  {
   "cell_type": "code",
   "execution_count": 9,
   "metadata": {
    "ExecuteTime": {
     "end_time": "2019-11-02T01:34:49.472037Z",
     "start_time": "2019-11-02T01:34:49.123684Z"
    },
    "hidden": true
   },
   "outputs": [],
   "source": [
    "y = np.array(y)\n",
    "LR = LinearRegression().fit(X.reshape(-1,1), y )"
   ]
  },
  {
   "cell_type": "code",
   "execution_count": 14,
   "metadata": {
    "ExecuteTime": {
     "end_time": "2019-11-02T01:38:32.743161Z",
     "start_time": "2019-11-02T01:38:32.694328Z"
    },
    "hidden": true
   },
   "outputs": [
    {
     "name": "stderr",
     "output_type": "stream",
     "text": [
      "ic| LR.coef_: array([13.3567209])\n",
      "    LR.intercept_: 5.821883568234949\n",
      "    LR.fit_intercept: True\n"
     ]
    },
    {
     "data": {
      "text/plain": [
       "(array([13.3567209]), 5.821883568234949, True)"
      ]
     },
     "execution_count": 14,
     "metadata": {},
     "output_type": "execute_result"
    }
   ],
   "source": [
    "ic(LR.coef_,LR.intercept_,LR.fit_intercept)"
   ]
  },
  {
   "cell_type": "code",
   "execution_count": 13,
   "metadata": {
    "ExecuteTime": {
     "end_time": "2019-11-02T01:38:10.657399Z",
     "start_time": "2019-11-02T01:38:10.600541Z"
    },
    "hidden": true
   },
   "outputs": [
    {
     "data": {
      "text/plain": [
       "0.6629883488923246"
      ]
     },
     "execution_count": 13,
     "metadata": {},
     "output_type": "execute_result"
    }
   ],
   "source": [
    "LR.score(X.reshape(-1,1), y )"
   ]
  },
  {
   "cell_type": "code",
   "execution_count": 16,
   "metadata": {
    "ExecuteTime": {
     "end_time": "2019-11-02T01:41:29.749788Z",
     "start_time": "2019-11-02T01:41:29.739857Z"
    },
    "hidden": true
   },
   "outputs": [
    {
     "data": {
      "text/plain": [
       "array([139.38909257, 166.10253438, 206.17269708])"
      ]
     },
     "execution_count": 16,
     "metadata": {},
     "output_type": "execute_result"
    }
   ],
   "source": [
    "#计算你预测值\n",
    "def predict(x,lr_model):\n",
    "    '''利用传入的LR模型计算预测值'''\n",
    "    return lr_model.coef_ * x + LR.intercept_\n",
    "predict([10,12,15],LR)"
   ]
  },
  {
   "cell_type": "code",
   "execution_count": 35,
   "metadata": {
    "ExecuteTime": {
     "end_time": "2019-11-02T01:56:26.474121Z",
     "start_time": "2019-11-02T01:56:26.326528Z"
    },
    "hidden": true
   },
   "outputs": [
    {
     "data": {
      "text/plain": [
       "[<matplotlib.lines.Line2D at 0x21a72083c18>]"
      ]
     },
     "execution_count": 35,
     "metadata": {},
     "output_type": "execute_result"
    },
    {
     "data": {
      "image/png": "[encoded data removed]",
      "text/plain": [
       "<Figure size 432x288 with 1 Axes>"
      ]
     },
     "metadata": {
      "needs_background": "light"
     },
     "output_type": "display_data"
    }
   ],
   "source": [
    "plt.scatter(X,y)\n",
    "plt.plot(X, predict(X,LR),color='red',marker='o', linestyle='dashed', linewidth=2, markersize=10)"
   ]
  },
  {
   "cell_type": "markdown",
   "metadata": {
    "heading_collapsed": true
   },
   "source": [
    "## . Complete the unfinished KNN Model using pure python to solve the previous Line-Regression problem"
   ]
  },
  {
   "cell_type": "code",
   "execution_count": 34,
   "metadata": {
    "ExecuteTime": {
     "end_time": "2019-11-02T03:57:43.828579Z",
     "start_time": "2019-11-02T03:57:43.815623Z"
    },
    "code_folding": [],
    "hidden": true
   },
   "outputs": [],
   "source": [
    "def model(x,y):\n",
    "    '''根据输入的 x,y 数据产出点样本点'''\n",
    "    return [(x_i, y_i) for x_i,y_i in zip(x,y)]\n",
    "\n",
    "def distance(point_1,point_2):\n",
    "    return cosine(point_1, point_2)\n",
    "distance((0,1),(1,0))\n",
    "\n",
    "def predict(X, y, x, k=5, job_type='C'):\n",
    "    '''把输入的样本点，按照最近的5个邻居归类\n",
    "    \n",
    "    job_type: C:calssification, R:regressionn'''\n",
    "    \n",
    "    most_similars = sorted(model(X,y), key=lambda xi:distance(xi[0],x))[:k]\n",
    "\n",
    "    if job_type == 'C':\n",
    "        return Counter([y for x,y in most_similars]).most_common(1)[0][0]\n",
    "    elif job_type == 'R':\n",
    "        return np.array([y for x,y in most_similars]).mean()\n",
    "    else:\n",
    "        print(f\"sorry not support job_type:{job_type}. please use 'C' for classification and 'R' for regreeion\")\n",
    "        exit(0)"
   ]
  },
  {
   "cell_type": "code",
   "execution_count": 33,
   "metadata": {
    "ExecuteTime": {
     "end_time": "2019-11-02T03:57:26.941089Z",
     "start_time": "2019-11-02T03:57:26.928128Z"
    },
    "hidden": true
   },
   "outputs": [
    {
     "name": "stdout",
     "output_type": "stream",
     "text": [
      "[0, 1, 1, 0, 1] 0.6\n"
     ]
    },
    {
     "data": {
      "text/plain": [
       "0.6"
      ]
     },
     "execution_count": 33,
     "metadata": {},
     "output_type": "execute_result"
    }
   ],
   "source": [
    "X,y = [(1,1),(1,2),(3,5),(5,5),(2,3),(5,5)],[0,0,1,1,0,1]\n",
    "x=[2,2]\n",
    "predict(X,y, x, k=5, job_type='R')"
   ]
  },
  {
   "cell_type": "code",
   "execution_count": null,
   "metadata": {
    "hidden": true
   },
   "outputs": [],
   "source": []
  },
  {
   "cell_type": "markdown",
   "metadata": {
    "heading_collapsed": true
   },
   "source": [
    "## . Re-code the Decision Tree, which could sort the features by salience."
   ]
  },
  {
   "cell_type": "code",
   "execution_count": 38,
   "metadata": {
    "ExecuteTime": {
     "end_time": "2019-11-02T04:14:42.766166Z",
     "start_time": "2019-11-02T04:14:42.669426Z"
    },
    "hidden": true
   },
   "outputs": [
    {
     "name": "stderr",
     "output_type": "stream",
     "text": [
      "ic| entropy([0,1,1,1]): 0.5623351446188083\n",
      "ic| entropy([1,2,2,2]): 0.5623351446188083\n"
     ]
    },
    {
     "data": {
      "text/plain": [
       "0.5623351446188083"
      ]
     },
     "execution_count": 38,
     "metadata": {},
     "output_type": "execute_result"
    }
   ],
   "source": [
    "def entropy(elements):\n",
    "    '''计算熵'''\n",
    "    counter = Counter(list(elements))\n",
    "    probs = [counter[c]/len(elements) for c in set(elements)]\n",
    "    return -sum(p * np.log(p) for p in probs)\n",
    "\n",
    "ic(entropy([0,1,1,1]))\n",
    "ic(entropy([1,2,2,2]))"
   ]
  },
  {
   "cell_type": "code",
   "execution_count": 39,
   "metadata": {
    "ExecuteTime": {
     "end_time": "2019-11-02T04:15:04.855211Z",
     "start_time": "2019-11-02T04:15:04.776450Z"
    },
    "hidden": true
   },
   "outputs": [
    {
     "name": "stderr",
     "output_type": "stream",
     "text": [
      "ic| entropy([0,1,3,1]): 1.0397207708399179\n",
      "ic| entropy([1,2,2,2]): 0.5623351446188083\n"
     ]
    },
    {
     "data": {
      "text/plain": [
       "0.5623351446188083"
      ]
     },
     "execution_count": 39,
     "metadata": {},
     "output_type": "execute_result"
    }
   ],
   "source": [
    "ic(entropy([0,1,3,1]))\n",
    "ic(entropy([1,2,2,2]))"
   ]
  },
  {
   "cell_type": "code",
   "execution_count": 40,
   "metadata": {
    "ExecuteTime": {
     "end_time": "2019-11-02T04:16:21.763954Z",
     "start_time": "2019-11-02T04:16:21.580450Z"
    },
    "hidden": true
   },
   "outputs": [
    {
     "data": {
      "text/html": [
       "<div>\n",
       "<style scoped>\n",
       "    .dataframe tbody tr th:only-of-type {\n",
       "        vertical-align: middle;\n",
       "    }\n",
       "\n",
       "    .dataframe tbody tr th {\n",
       "        vertical-align: top;\n",
       "    }\n",
       "\n",
       "    .dataframe thead th {\n",
       "        text-align: right;\n",
       "    }\n",
       "</style>\n",
       "<table border=\"1\" class=\"dataframe\">\n",
       "  <thead>\n",
       "    <tr style=\"text-align: right;\">\n",
       "      <th></th>\n",
       "      <th>gender</th>\n",
       "      <th>income</th>\n",
       "      <th>family_number</th>\n",
       "      <th>bought</th>\n",
       "    </tr>\n",
       "  </thead>\n",
       "  <tbody>\n",
       "    <tr>\n",
       "      <th>0</th>\n",
       "      <td>F</td>\n",
       "      <td>+10</td>\n",
       "      <td>1</td>\n",
       "      <td>1</td>\n",
       "    </tr>\n",
       "    <tr>\n",
       "      <th>1</th>\n",
       "      <td>F</td>\n",
       "      <td>-10</td>\n",
       "      <td>1</td>\n",
       "      <td>1</td>\n",
       "    </tr>\n",
       "    <tr>\n",
       "      <th>2</th>\n",
       "      <td>F</td>\n",
       "      <td>+10</td>\n",
       "      <td>2</td>\n",
       "      <td>1</td>\n",
       "    </tr>\n",
       "    <tr>\n",
       "      <th>3</th>\n",
       "      <td>F</td>\n",
       "      <td>+10</td>\n",
       "      <td>1</td>\n",
       "      <td>0</td>\n",
       "    </tr>\n",
       "    <tr>\n",
       "      <th>4</th>\n",
       "      <td>M</td>\n",
       "      <td>+10</td>\n",
       "      <td>1</td>\n",
       "      <td>0</td>\n",
       "    </tr>\n",
       "    <tr>\n",
       "      <th>5</th>\n",
       "      <td>M</td>\n",
       "      <td>+10</td>\n",
       "      <td>1</td>\n",
       "      <td>0</td>\n",
       "    </tr>\n",
       "    <tr>\n",
       "      <th>6</th>\n",
       "      <td>M</td>\n",
       "      <td>-10</td>\n",
       "      <td>2</td>\n",
       "      <td>1</td>\n",
       "    </tr>\n",
       "  </tbody>\n",
       "</table>\n",
       "</div>"
      ],
      "text/plain": [
       "  gender income  family_number  bought\n",
       "0      F    +10              1       1\n",
       "1      F    -10              1       1\n",
       "2      F    +10              2       1\n",
       "3      F    +10              1       0\n",
       "4      M    +10              1       0\n",
       "5      M    +10              1       0\n",
       "6      M    -10              2       1"
      ]
     },
     "execution_count": 40,
     "metadata": {},
     "output_type": "execute_result"
    }
   ],
   "source": [
    "mock_data = {\n",
    "    'gender':['F', 'F', 'F', 'F', 'M', 'M', 'M'],\n",
    "    'income': ['+10', '-10', '+10', '+10', '+10', '+10', '-10'],\n",
    "    'family_number': [1, 1, 2, 1, 1, 1, 2],\n",
    "    'bought': [1, 1, 1, 0, 0, 0, 1],\n",
    "}\n",
    "\n",
    "dataset = pd.DataFrame.from_dict(mock_data)\n",
    "dataset"
   ]
  },
  {
   "cell_type": "code",
   "execution_count": 41,
   "metadata": {
    "ExecuteTime": {
     "end_time": "2019-11-02T04:16:46.402347Z",
     "start_time": "2019-11-02T04:16:46.397361Z"
    },
    "hidden": true
   },
   "outputs": [
    {
     "data": {
      "text/plain": [
       "{1, 2}"
      ]
     },
     "execution_count": 41,
     "metadata": {},
     "output_type": "execute_result"
    }
   ],
   "source": [
    "set(dataset['family_number'])"
   ]
  },
  {
   "cell_type": "code",
   "execution_count": 42,
   "metadata": {
    "ExecuteTime": {
     "end_time": "2019-11-02T04:17:19.186178Z",
     "start_time": "2019-11-02T04:17:17.148285Z"
    },
    "hidden": true
   },
   "outputs": [
    {
     "data": {
      "text/plain": [
       "[1, 1, 0, 0, 0]"
      ]
     },
     "execution_count": 42,
     "metadata": {},
     "output_type": "execute_result"
    }
   ],
   "source": [
    "sub_split_1 = dataset[dataset['family_number'] == 1]['bought'].tolist()\n",
    "sub_split_1"
   ]
  },
  {
   "cell_type": "code",
   "execution_count": 43,
   "metadata": {
    "ExecuteTime": {
     "end_time": "2019-11-02T04:17:47.551105Z",
     "start_time": "2019-11-02T04:17:45.521285Z"
    },
    "hidden": true
   },
   "outputs": [
    {
     "data": {
      "text/plain": [
       "[1, 1]"
      ]
     },
     "execution_count": 43,
     "metadata": {},
     "output_type": "execute_result"
    }
   ],
   "source": [
    "sub_split_2 = dataset[dataset['family_number'] != 1]['bought'].tolist()\n",
    "sub_split_2"
   ]
  },
  {
   "cell_type": "code",
   "execution_count": 44,
   "metadata": {
    "ExecuteTime": {
     "end_time": "2019-11-02T04:18:30.315635Z",
     "start_time": "2019-11-02T04:18:30.144094Z"
    },
    "hidden": true
   },
   "outputs": [
    {
     "name": "stderr",
     "output_type": "stream",
     "text": [
      "ic| _sub_split_1: [0, 0, 1]\n",
      "ic| _sub_split_2: [1, 1, 1, 0]\n"
     ]
    },
    {
     "data": {
      "text/plain": [
       "[1, 1, 1, 0]"
      ]
     },
     "execution_count": 44,
     "metadata": {},
     "output_type": "execute_result"
    }
   ],
   "source": [
    "_sub_split_1 = dataset[dataset['gender'] != 'F']['bought'].tolist()\n",
    "ic(_sub_split_1)\n",
    "_sub_split_2 = dataset[dataset['gender'] != 'M']['bought'].tolist()\n",
    "ic(_sub_split_2)"
   ]
  },
  {
   "cell_type": "code",
   "execution_count": 45,
   "metadata": {
    "ExecuteTime": {
     "end_time": "2019-11-02T04:18:59.341667Z",
     "start_time": "2019-11-02T04:18:59.333724Z"
    },
    "hidden": true
   },
   "outputs": [
    {
     "data": {
      "text/plain": [
       "1.198849312913621"
      ]
     },
     "execution_count": 45,
     "metadata": {},
     "output_type": "execute_result"
    }
   ],
   "source": [
    "entropy(_sub_split_1) + entropy(_sub_split_2)"
   ]
  },
  {
   "cell_type": "code",
   "execution_count": 46,
   "metadata": {
    "ExecuteTime": {
     "end_time": "2019-11-02T04:19:01.010234Z",
     "start_time": "2019-11-02T04:19:01.002263Z"
    },
    "hidden": true
   },
   "outputs": [
    {
     "data": {
      "text/plain": [
       "0.6730116670092565"
      ]
     },
     "execution_count": 46,
     "metadata": {},
     "output_type": "execute_result"
    }
   ],
   "source": [
    "entropy(sub_split_1) + entropy(sub_split_2)"
   ]
  },
  {
   "cell_type": "code",
   "execution_count": 50,
   "metadata": {
    "ExecuteTime": {
     "end_time": "2019-11-02T04:56:40.832141Z",
     "start_time": "2019-11-02T04:56:40.824195Z"
    },
    "hidden": true
   },
   "outputs": [],
   "source": [
    "def find_the_min_spilter(training_data:pd.DataFrame, target:str)-> str:\n",
    "    x_fields = set(training_data.columns.tolist()) - {target}\n",
    "    \n",
    "    spliter = None\n",
    "    min_entropy = float('inf')\n",
    "    \n",
    "    for f in x_fields:\n",
    "        ic(f)\n",
    "        values = set(training_data[f])\n",
    "        for v in values:\n",
    "            sub_split_1 = training_data[training_data[f] == v][target].tolist()\n",
    "            ic(sub_split_1)\n",
    "            entropy_1 = entropy(sub_split_1)\n",
    "            ic(entropy_1)\n",
    "            sub_split_2 = training_data[training_data[f] != v][target].tolist()\n",
    "            ic(sub_split_2)\n",
    "            entropy_2 = entropy(sub_split_2)\n",
    "            ic(entropy_2)\n",
    "            entropy_totaal = entropy_1 + entropy_2\n",
    "            if entropy_totaal < min_entropy:\n",
    "                min_entropy = entropy_totaal\n",
    "                spliter = (f,v)\n",
    "    print(f'spliter is: {spliter}')\n",
    "    print(f'the min entropy is:{min_entropy}')\n",
    "    \n",
    "    return spliter"
   ]
  },
  {
   "cell_type": "code",
   "execution_count": 51,
   "metadata": {
    "ExecuteTime": {
     "end_time": "2019-11-02T04:56:43.070157Z",
     "start_time": "2019-11-02T04:56:41.662920Z"
    },
    "hidden": true
   },
   "outputs": [
    {
     "name": "stderr",
     "output_type": "stream",
     "text": [
      "ic| f: 'gender'\n",
      "ic| sub_split_1: [0, 0, 1]\n",
      "ic| entropy_1: 0.6365141682948128\n",
      "ic| sub_split_2: [1, 1, 1, 0]\n",
      "ic| entropy_2: 0.5623351446188083\n",
      "ic| sub_split_1: [1, 1, 1, 0]\n",
      "ic| entropy_1: 0.5623351446188083\n",
      "ic| sub_split_2: [0, 0, 1]\n",
      "ic| entropy_2: 0.6365141682948128\n",
      "ic| f: 'family_number'\n",
      "ic| sub_split_1: [1, 1, 0, 0, 0]\n",
      "ic| entropy_1: 0.6730116670092565\n",
      "ic| sub_split_2: [1, 1]\n",
      "ic| entropy_2: -0.0\n",
      "ic| sub_split_1: [1, 1]\n",
      "ic| entropy_1: -0.0\n",
      "ic| sub_split_2: [1, 1, 0, 0, 0]\n",
      "ic| entropy_2: 0.6730116670092565\n",
      "ic| f: 'income'\n",
      "ic| sub_split_1: [1, 1, 0, 0, 0]\n",
      "ic| entropy_1: 0.6730116670092565\n",
      "ic| sub_split_2: [1, 1]\n",
      "ic| entropy_2: -0.0\n",
      "ic| sub_split_1: [1, 1]\n",
      "ic| entropy_1: -0.0\n",
      "ic| sub_split_2: [1, 1, 0, 0, 0]\n",
      "ic| entropy_2: 0.6730116670092565\n"
     ]
    },
    {
     "name": "stdout",
     "output_type": "stream",
     "text": [
      "spliter is: ('family_number', 1)\n",
      "the min entropy is:0.6730116670092565\n",
      "Wall time: 1.4 s\n"
     ]
    },
    {
     "data": {
      "text/plain": [
       "('family_number', 1)"
      ]
     },
     "execution_count": 51,
     "metadata": {},
     "output_type": "execute_result"
    }
   ],
   "source": [
    "%%time\n",
    "find_the_min_spilter(dataset, 'bought')"
   ]
  },
  {
   "cell_type": "code",
   "execution_count": 54,
   "metadata": {
    "ExecuteTime": {
     "end_time": "2019-11-02T04:57:32.985002Z",
     "start_time": "2019-11-02T04:57:32.976049Z"
    },
    "hidden": true
   },
   "outputs": [
    {
     "data": {
      "text/html": [
       "<div>\n",
       "<style scoped>\n",
       "    .dataframe tbody tr th:only-of-type {\n",
       "        vertical-align: middle;\n",
       "    }\n",
       "\n",
       "    .dataframe tbody tr th {\n",
       "        vertical-align: top;\n",
       "    }\n",
       "\n",
       "    .dataframe thead th {\n",
       "        text-align: right;\n",
       "    }\n",
       "</style>\n",
       "<table border=\"1\" class=\"dataframe\">\n",
       "  <thead>\n",
       "    <tr style=\"text-align: right;\">\n",
       "      <th></th>\n",
       "      <th>gender</th>\n",
       "      <th>income</th>\n",
       "      <th>family_number</th>\n",
       "      <th>bought</th>\n",
       "    </tr>\n",
       "  </thead>\n",
       "  <tbody>\n",
       "    <tr>\n",
       "      <th>0</th>\n",
       "      <td>F</td>\n",
       "      <td>+10</td>\n",
       "      <td>1</td>\n",
       "      <td>1</td>\n",
       "    </tr>\n",
       "    <tr>\n",
       "      <th>1</th>\n",
       "      <td>F</td>\n",
       "      <td>-10</td>\n",
       "      <td>1</td>\n",
       "      <td>1</td>\n",
       "    </tr>\n",
       "    <tr>\n",
       "      <th>3</th>\n",
       "      <td>F</td>\n",
       "      <td>+10</td>\n",
       "      <td>1</td>\n",
       "      <td>0</td>\n",
       "    </tr>\n",
       "    <tr>\n",
       "      <th>4</th>\n",
       "      <td>M</td>\n",
       "      <td>+10</td>\n",
       "      <td>1</td>\n",
       "      <td>0</td>\n",
       "    </tr>\n",
       "    <tr>\n",
       "      <th>5</th>\n",
       "      <td>M</td>\n",
       "      <td>+10</td>\n",
       "      <td>1</td>\n",
       "      <td>0</td>\n",
       "    </tr>\n",
       "  </tbody>\n",
       "</table>\n",
       "</div>"
      ],
      "text/plain": [
       "  gender income  family_number  bought\n",
       "0      F    +10              1       1\n",
       "1      F    -10              1       1\n",
       "3      F    +10              1       0\n",
       "4      M    +10              1       0\n",
       "5      M    +10              1       0"
      ]
     },
     "execution_count": 54,
     "metadata": {},
     "output_type": "execute_result"
    }
   ],
   "source": [
    "dataset[dataset['family_number'] == 1]"
   ]
  },
  {
   "cell_type": "code",
   "execution_count": 55,
   "metadata": {
    "ExecuteTime": {
     "end_time": "2019-11-02T04:57:42.836603Z",
     "start_time": "2019-11-02T04:57:42.826632Z"
    },
    "hidden": true
   },
   "outputs": [
    {
     "data": {
      "text/html": [
       "<div>\n",
       "<style scoped>\n",
       "    .dataframe tbody tr th:only-of-type {\n",
       "        vertical-align: middle;\n",
       "    }\n",
       "\n",
       "    .dataframe tbody tr th {\n",
       "        vertical-align: top;\n",
       "    }\n",
       "\n",
       "    .dataframe thead th {\n",
       "        text-align: right;\n",
       "    }\n",
       "</style>\n",
       "<table border=\"1\" class=\"dataframe\">\n",
       "  <thead>\n",
       "    <tr style=\"text-align: right;\">\n",
       "      <th></th>\n",
       "      <th>gender</th>\n",
       "      <th>income</th>\n",
       "      <th>family_number</th>\n",
       "      <th>bought</th>\n",
       "    </tr>\n",
       "  </thead>\n",
       "  <tbody>\n",
       "    <tr>\n",
       "      <th>2</th>\n",
       "      <td>F</td>\n",
       "      <td>+10</td>\n",
       "      <td>2</td>\n",
       "      <td>1</td>\n",
       "    </tr>\n",
       "    <tr>\n",
       "      <th>6</th>\n",
       "      <td>M</td>\n",
       "      <td>-10</td>\n",
       "      <td>2</td>\n",
       "      <td>1</td>\n",
       "    </tr>\n",
       "  </tbody>\n",
       "</table>\n",
       "</div>"
      ],
      "text/plain": [
       "  gender income  family_number  bought\n",
       "2      F    +10              2       1\n",
       "6      M    -10              2       1"
      ]
     },
     "execution_count": 55,
     "metadata": {},
     "output_type": "execute_result"
    }
   ],
   "source": [
    "dataset[dataset['family_number'] != 1]"
   ]
  },
  {
   "cell_type": "code",
   "execution_count": 56,
   "metadata": {
    "ExecuteTime": {
     "end_time": "2019-11-02T04:58:03.071828Z",
     "start_time": "2019-11-02T04:58:01.894972Z"
    },
    "hidden": true
   },
   "outputs": [
    {
     "name": "stderr",
     "output_type": "stream",
     "text": [
      "ic| f: 'gender'\n",
      "ic| sub_split_1: [0, 0]\n",
      "ic| entropy_1: -0.0\n",
      "ic| sub_split_2: [1, 1, 0]\n",
      "ic| entropy_2: 0.6365141682948128\n",
      "ic| sub_split_1: [1, 1, 0]\n",
      "ic| entropy_1: 0.6365141682948128\n",
      "ic| sub_split_2: [0, 0]\n",
      "ic| entropy_2: -0.0\n",
      "ic| f: 'family_number'\n",
      "ic| sub_split_1: [1, 1, 0, 0, 0]\n",
      "ic| entropy_1: 0.6730116670092565\n",
      "ic| sub_split_2: []\n",
      "ic| entropy_2: 0\n",
      "ic| f: 'income'\n",
      "ic| sub_split_1: [1, 0, 0, 0]\n",
      "ic| entropy_1: 0.5623351446188083\n",
      "ic| sub_split_2: [1]\n",
      "ic| entropy_2: -0.0\n",
      "ic| sub_split_1: [1]\n",
      "ic| entropy_1: -0.0\n",
      "ic| sub_split_2: [1, 0, 0, 0]\n",
      "ic| entropy_2: 0.5623351446188083\n"
     ]
    },
    {
     "name": "stdout",
     "output_type": "stream",
     "text": [
      "spliter is: ('income', '+10')\n",
      "the min entropy is:0.5623351446188083\n"
     ]
    },
    {
     "data": {
      "text/plain": [
       "('income', '+10')"
      ]
     },
     "execution_count": 56,
     "metadata": {},
     "output_type": "execute_result"
    }
   ],
   "source": [
    "find_the_min_spilter(dataset[dataset['family_number'] == 1], 'bought')"
   ]
  },
  {
   "cell_type": "code",
   "execution_count": 59,
   "metadata": {
    "ExecuteTime": {
     "end_time": "2019-11-02T05:00:18.656592Z",
     "start_time": "2019-11-02T05:00:18.646656Z"
    },
    "hidden": true
   },
   "outputs": [
    {
     "data": {
      "text/html": [
       "<div>\n",
       "<style scoped>\n",
       "    .dataframe tbody tr th:only-of-type {\n",
       "        vertical-align: middle;\n",
       "    }\n",
       "\n",
       "    .dataframe tbody tr th {\n",
       "        vertical-align: top;\n",
       "    }\n",
       "\n",
       "    .dataframe thead th {\n",
       "        text-align: right;\n",
       "    }\n",
       "</style>\n",
       "<table border=\"1\" class=\"dataframe\">\n",
       "  <thead>\n",
       "    <tr style=\"text-align: right;\">\n",
       "      <th></th>\n",
       "      <th>gender</th>\n",
       "      <th>income</th>\n",
       "      <th>family_number</th>\n",
       "      <th>bought</th>\n",
       "    </tr>\n",
       "  </thead>\n",
       "  <tbody>\n",
       "    <tr>\n",
       "      <th>0</th>\n",
       "      <td>F</td>\n",
       "      <td>+10</td>\n",
       "      <td>1</td>\n",
       "      <td>1</td>\n",
       "    </tr>\n",
       "    <tr>\n",
       "      <th>3</th>\n",
       "      <td>F</td>\n",
       "      <td>+10</td>\n",
       "      <td>1</td>\n",
       "      <td>0</td>\n",
       "    </tr>\n",
       "    <tr>\n",
       "      <th>4</th>\n",
       "      <td>M</td>\n",
       "      <td>+10</td>\n",
       "      <td>1</td>\n",
       "      <td>0</td>\n",
       "    </tr>\n",
       "    <tr>\n",
       "      <th>5</th>\n",
       "      <td>M</td>\n",
       "      <td>+10</td>\n",
       "      <td>1</td>\n",
       "      <td>0</td>\n",
       "    </tr>\n",
       "  </tbody>\n",
       "</table>\n",
       "</div>"
      ],
      "text/plain": [
       "  gender income  family_number  bought\n",
       "0      F    +10              1       1\n",
       "3      F    +10              1       0\n",
       "4      M    +10              1       0\n",
       "5      M    +10              1       0"
      ]
     },
     "execution_count": 59,
     "metadata": {},
     "output_type": "execute_result"
    }
   ],
   "source": [
    "sub_set = dataset[dataset['family_number'] == 1]\n",
    "sub_set[sub_set['income'] == '+10']"
   ]
  },
  {
   "cell_type": "code",
   "execution_count": 60,
   "metadata": {
    "ExecuteTime": {
     "end_time": "2019-11-02T05:00:36.719089Z",
     "start_time": "2019-11-02T05:00:36.711141Z"
    },
    "hidden": true
   },
   "outputs": [
    {
     "data": {
      "text/html": [
       "<div>\n",
       "<style scoped>\n",
       "    .dataframe tbody tr th:only-of-type {\n",
       "        vertical-align: middle;\n",
       "    }\n",
       "\n",
       "    .dataframe tbody tr th {\n",
       "        vertical-align: top;\n",
       "    }\n",
       "\n",
       "    .dataframe thead th {\n",
       "        text-align: right;\n",
       "    }\n",
       "</style>\n",
       "<table border=\"1\" class=\"dataframe\">\n",
       "  <thead>\n",
       "    <tr style=\"text-align: right;\">\n",
       "      <th></th>\n",
       "      <th>gender</th>\n",
       "      <th>income</th>\n",
       "      <th>family_number</th>\n",
       "      <th>bought</th>\n",
       "    </tr>\n",
       "  </thead>\n",
       "  <tbody>\n",
       "    <tr>\n",
       "      <th>1</th>\n",
       "      <td>F</td>\n",
       "      <td>-10</td>\n",
       "      <td>1</td>\n",
       "      <td>1</td>\n",
       "    </tr>\n",
       "  </tbody>\n",
       "</table>\n",
       "</div>"
      ],
      "text/plain": [
       "  gender income  family_number  bought\n",
       "1      F    -10              1       1"
      ]
     },
     "execution_count": 60,
     "metadata": {},
     "output_type": "execute_result"
    }
   ],
   "source": [
    "sub_set[sub_set['income'] != '+10']"
   ]
  },
  {
   "cell_type": "code",
   "execution_count": null,
   "metadata": {
    "hidden": true
   },
   "outputs": [],
   "source": []
  },
  {
   "cell_type": "markdown",
   "metadata": {
    "heading_collapsed": true
   },
   "source": [
    "## Finish the K-Means using 2-D matplotlib"
   ]
  },
  {
   "cell_type": "code",
   "execution_count": 67,
   "metadata": {
    "ExecuteTime": {
     "end_time": "2019-11-02T14:00:22.784091Z",
     "start_time": "2019-11-02T14:00:22.781062Z"
    },
    "hidden": true
   },
   "outputs": [],
   "source": [
    "from sklearn.cluster import KMeans"
   ]
  },
  {
   "cell_type": "code",
   "execution_count": 68,
   "metadata": {
    "ExecuteTime": {
     "end_time": "2019-11-02T14:00:34.570853Z",
     "start_time": "2019-11-02T14:00:34.561872Z"
    },
    "hidden": true
   },
   "outputs": [],
   "source": [
    "X = [random.randint(0, 100) for _ in range(100)]\n",
    "Y = [random.randint(0, 100) for _ in range(100)]"
   ]
  },
  {
   "cell_type": "code",
   "execution_count": 69,
   "metadata": {
    "ExecuteTime": {
     "end_time": "2019-11-02T14:00:48.766359Z",
     "start_time": "2019-11-02T14:00:46.750759Z"
    },
    "hidden": true
   },
   "outputs": [
    {
     "data": {
      "text/plain": [
       "<matplotlib.collections.PathCollection at 0x1b97d28d208>"
      ]
     },
     "execution_count": 69,
     "metadata": {},
     "output_type": "execute_result"
    },
    {
     "data": {
      "image/png": "[encoded data removed]",
      "text/plain": [
       "<Figure size 432x288 with 1 Axes>"
      ]
     },
     "metadata": {
      "needs_background": "light"
     },
     "output_type": "display_data"
    }
   ],
   "source": [
    "plt.scatter(X, Y)"
   ]
  },
  {
   "cell_type": "code",
   "execution_count": 70,
   "metadata": {
    "ExecuteTime": {
     "end_time": "2019-11-02T14:01:06.033235Z",
     "start_time": "2019-11-02T14:01:06.026292Z"
    },
    "hidden": true
   },
   "outputs": [],
   "source": [
    "tranning_data = [[x, y] for x, y in zip(X, Y)]"
   ]
  },
  {
   "cell_type": "code",
   "execution_count": 71,
   "metadata": {
    "ExecuteTime": {
     "end_time": "2019-11-02T14:01:17.730017Z",
     "start_time": "2019-11-02T14:01:17.726061Z"
    },
    "hidden": true
   },
   "outputs": [],
   "source": [
    "cluster = KMeans(n_clusters=6, max_iter=500)"
   ]
  },
  {
   "cell_type": "code",
   "execution_count": 72,
   "metadata": {
    "ExecuteTime": {
     "end_time": "2019-11-02T14:01:31.086342Z",
     "start_time": "2019-11-02T14:01:28.957006Z"
    },
    "hidden": true
   },
   "outputs": [
    {
     "data": {
      "text/plain": [
       "KMeans(algorithm='auto', copy_x=True, init='k-means++', max_iter=500,\n",
       "    n_clusters=6, n_init=10, n_jobs=None, precompute_distances='auto',\n",
       "    random_state=None, tol=0.0001, verbose=0)"
      ]
     },
     "execution_count": 72,
     "metadata": {},
     "output_type": "execute_result"
    }
   ],
   "source": [
    "cluster.fit(tranning_data)"
   ]
  },
  {
   "cell_type": "code",
   "execution_count": 73,
   "metadata": {
    "ExecuteTime": {
     "end_time": "2019-11-02T14:01:52.563913Z",
     "start_time": "2019-11-02T14:01:52.555934Z"
    },
    "hidden": true
   },
   "outputs": [
    {
     "data": {
      "text/plain": [
       "array([[45.375     , 12.625     ],\n",
       "       [17.77777778, 74.92592593],\n",
       "       [85.95      , 81.9       ],\n",
       "       [84.07692308, 13.61538462],\n",
       "       [58.125     , 55.25      ],\n",
       "       [11.        , 22.125     ]])"
      ]
     },
     "execution_count": 73,
     "metadata": {},
     "output_type": "execute_result"
    }
   ],
   "source": [
    "cluster.cluster_centers_"
   ]
  },
  {
   "cell_type": "code",
   "execution_count": 74,
   "metadata": {
    "ExecuteTime": {
     "end_time": "2019-11-02T14:02:06.756414Z",
     "start_time": "2019-11-02T14:02:06.750397Z"
    },
    "hidden": true
   },
   "outputs": [
    {
     "data": {
      "text/plain": [
       "array([1, 5, 2, 3, 4, 4, 2, 1, 5, 1, 2, 3, 3, 1, 1, 1, 2, 2, 2, 2, 1, 1,\n",
       "       2, 4, 4, 5, 3, 4, 1, 3, 3, 5, 5, 2, 1, 3, 4, 4, 1, 4, 4, 2, 1, 4,\n",
       "       5, 5, 5, 0, 2, 4, 1, 3, 5, 2, 1, 1, 1, 3, 2, 0, 2, 1, 4, 3, 3, 1,\n",
       "       4, 4, 2, 0, 3, 0, 5, 1, 1, 5, 1, 2, 1, 2, 5, 0, 0, 5, 5, 0, 1, 1,\n",
       "       1, 2, 4, 1, 5, 2, 3, 2, 1, 4, 5, 0])"
      ]
     },
     "execution_count": 74,
     "metadata": {},
     "output_type": "execute_result"
    }
   ],
   "source": [
    "cluster.labels_"
   ]
  },
  {
   "cell_type": "code",
   "execution_count": 76,
   "metadata": {
    "ExecuteTime": {
     "end_time": "2019-11-02T14:02:51.266717Z",
     "start_time": "2019-11-02T14:02:50.896703Z"
    },
    "hidden": true
   },
   "outputs": [
    {
     "data": {
      "image/png": "[encoded data removed]",
      "text/plain": [
       "<Figure size 432x288 with 1 Axes>"
      ]
     },
     "metadata": {
      "needs_background": "light"
     },
     "output_type": "display_data"
    }
   ],
   "source": [
    "centers = defaultdict(list)\n",
    "for label, location in zip(cluster.labels_, tranning_data):\n",
    "    centers[label].append(location)\n",
    "color = ['red', 'green', 'grey', 'black', 'yellow', 'orange']\n",
    "\n",
    "for i, c in enumerate(centers):\n",
    "    for location in centers[c]:\n",
    "        plt.scatter(*location, c=color[i])\n",
    "        \n",
    "for center in cluster.cluster_centers_:\n",
    "    plt.scatter(*center, s=100)"
   ]
  },
  {
   "cell_type": "code",
   "execution_count": null,
   "metadata": {
    "hidden": true
   },
   "outputs": [],
   "source": []
  },
  {
   "cell_type": "code",
   "execution_count": null,
   "metadata": {
    "hidden": true
   },
   "outputs": [],
   "source": []
  },
  {
   "cell_type": "markdown",
   "metadata": {},
   "source": [
    "# Part-2 Question and Answer"
   ]
  },
  {
   "cell_type": "markdown",
   "metadata": {
    "heading_collapsed": true
   },
   "source": [
    "## What's the model? why all the models are wrong, but some are useful?"
   ]
  },
  {
   "cell_type": "markdown",
   "metadata": {
    "ExecuteTime": {
     "end_time": "2019-11-02T12:37:04.790109Z",
     "start_time": "2019-11-02T12:37:04.782134Z"
    },
    "hidden": true
   },
   "source": [
    "ans:模型是对要要研究的问题的一个模拟和简化，因为模型是对特定问题和场景的模拟和简化所以这个模型对这个问题或者场景是有效的，dataset是随着问题和场景的吧改变模型很大可能就失效了，因为问题不同场景不一样假设就不成立。说的简单点：模型是一个或者一组(建立在一些假设或者前提条件下的)线性换货飞线性函数。"
   ]
  },
  {
   "cell_type": "markdown",
   "metadata": {
    "heading_collapsed": true
   },
   "source": [
    "## What's the underfitting and overfitting? List the reasons that could make model overfitting or underfitting."
   ]
  },
  {
   "cell_type": "markdown",
   "metadata": {
    "hidden": true
   },
   "source": [
    "underfitting：欠拟合一般指模型学习能力较弱，而数据复杂度较高的情况出现，此时模型由于学习能力不足，无法学习到数据集中的“一般规律”，因而导致泛化能力弱\n",
    "overfitting：过拟合通常指模型学习能力过强，由于模型学习能力太强，以至于将训练集单个样本自身的特点都能捕捉到，并将其认为是“一般规律”，同样这种情况也会导致模型泛化能力下降\n",
    "\n",
    "3.产生的原因\n",
    "\n",
    "欠拟合(underfitting)：\n",
    "（1）模型复杂度过低 （2）特征量过少\n",
    "\n",
    "过拟合(overfitting)：\n",
    "\n",
    "（1）参数太多，模型复杂度过高 \n",
    "\n",
    "（2）样本噪音干扰过大，使得机器将部分噪音认为是特征从而扰乱了预设的分类规则\n",
    "\n",
    "（3）参数太多，模型复杂度过高\n",
    "\n",
    "4.解决方案\n",
    "\n",
    "解决欠拟合(underfitting)：\n",
    "\n",
    "（1）增加新特征\n",
    "\n",
    "（2）适当增加模型的复杂度，换复杂度更高的模型\n",
    "\n",
    "解决过拟合(overfitting)：\n",
    "数据层面：\n",
    "（1）数据扩增，即增加训练数据样本\n",
    "（2）特征工程，筛选组合得到更高质量的特征。\n",
    "模型层面：\n",
    "（1）正则化（Regularization）（L1和L2）以及树模型的剪枝策略，XGBoost中的正则项惩罚\n",
    "（2）降低模型的复杂度(比如树模型可以降低树的 深度，增大树的棵树)，选择较为简单的模型"
   ]
  },
  {
   "cell_type": "markdown",
   "metadata": {},
   "source": [
    "## What's the precision, recall, AUC, F1, F2score. What are they mainly target on?"
   ]
  },
  {
   "cell_type": "markdown",
   "metadata": {},
   "source": [
    "TP:true positive\n",
    "\n",
    "FN:false negative\n",
    "\n",
    "FP:false positive\n",
    "\n",
    "TN:true negative"
   ]
  },
  {
   "cell_type": "markdown",
   "metadata": {
    "ExecuteTime": {
     "end_time": "2019-11-02T13:47:04.849623Z",
     "start_time": "2019-11-02T13:47:04.842649Z"
    }
   },
   "source": [
    "$$ Precision = \\frac{TP}{(TP+FP)}$$\n",
    "$$ Recall = \\frac{TP}{(TP+FN)}$$\n",
    "$$ f1   sccore = \\frac{2*Precision*Recall}{(Precision+Recall)}$$"
   ]
  },
  {
   "cell_type": "markdown",
   "metadata": {},
   "source": [
    "ROC:Receiver Operating Characteristic\n",
    "以FPR为横轴，TPR为纵轴。\n",
    "FPR（实际为负的样本中，被预测为正的概率，False Positive Rate）：$$FPR=\\frac{FP}{(FP+TN)}$$\n",
    "TPR（正样本中，被预测为正的概率，True Positive Rate，也就是Recall）：$$TPR=\\frac{TP}{(TP+FN)}$$\n",
    "\n",
    "AUC（Area Under Curve）\n",
    "ROC曲线下的面积，在（0,1）之间，一般在（0.5,1）之间。\n",
    "AUC越大，表明效果越好。"
   ]
  },
  {
   "cell_type": "markdown",
   "metadata": {},
   "source": [
    "## Based on our course and yourself mind, what's the machine learning?"
   ]
  },
  {
   "cell_type": "markdown",
   "metadata": {},
   "source": [
    "ans:机器学习是一个过程，这个过程目的是基于已有数据，从数据中发现一些潜在的规律，总结这些规律应用到新的数据上。"
   ]
  },
  {
   "cell_type": "markdown",
   "metadata": {},
   "source": [
    "## 正确定义了机器学习模型的评价标准(evaluation)， 问题基本上就已经解决一半\". 这句话是否正确？你是怎么看待的？"
   ]
  },
  {
   "cell_type": "markdown",
   "metadata": {},
   "source": [
    "ans:正确。因为机器学习模型的目的是为了解决具体问题的，定义模型的评价标准就是检验我的问题有没有解决。定义了问题就相当于有了目标，用行话说就是定义好了目标函数，定义好了目标函数，就是选择什么模型的问题了。"
   ]
  },
  {
   "cell_type": "markdown",
   "metadata": {},
   "source": [
    "# Part-03 Programming Practice 编程练习"
   ]
  },
  {
   "cell_type": "markdown",
   "metadata": {},
   "source": [
    "In our course and previous practice, we complete some importance components of Decision Tree. In this problem, you need to build a completed Decision Tree Model. You show finish a predicate() function, which accepts three parameters <gender, income, family_number>, and outputs the predicated 'bought': 1 or 0"
   ]
  },
  {
   "cell_type": "code",
   "execution_count": null,
   "metadata": {},
   "outputs": [],
   "source": [
    "def partition_entropy(subsets):\n",
    "    '''find the entropy from this paartition of data into \n",
    "    subsets\n",
    "    '''\n",
    "    total_count = sum(len(subset) for subset in subsets )\n",
    "    return sum(data_entropy(subset)/total_count for subset in subsets)"
   ]
  },
  {
   "cell_type": "code",
   "execution_count": null,
   "metadata": {},
   "outputs": [],
   "source": []
  }
 ],
 "metadata": {
  "hide_input": false,
  "kernelspec": {
   "display_name": "Python 3",
   "language": "python",
   "name": "python3"
  },
  "language_info": {
   "codemirror_mode": {
    "name": "ipython",
    "version": 3
   },
   "file_extension": ".py",
   "mimetype": "text/x-python",
   "name": "python",
   "nbconvert_exporter": "python",
   "pygments_lexer": "ipython3",
   "version": "3.7.1"
  },
  "toc": {
   "base_numbering": 1,
   "nav_menu": {},
   "number_sections": true,
   "sideBar": true,
   "skip_h1_title": false,
   "title_cell": "Table of Contents",
   "title_sidebar": "Contents",
   "toc_cell": false,
   "toc_position": {},
   "toc_section_display": true,
   "toc_window_display": false
  },
  "varInspector": {
   "cols": {
    "lenName": 16,
    "lenType": 16,
    "lenVar": 40
   },
   "kernels_config": {
    "python": {
     "delete_cmd_postfix": "",
     "delete_cmd_prefix": "del ",
     "library": "var_list.py",
     "varRefreshCmd": "print(var_dic_list())"
    },
    "r": {
     "delete_cmd_postfix": ") ",
     "delete_cmd_prefix": "rm(",
     "library": "var_list.r",
     "varRefreshCmd": "cat(var_dic_list()) "
    }
   },
   "types_to_exclude": [
    "module",
    "function",
    "builtin_function_or_method",
    "instance",
    "_Feature"
   ],
   "window_display": false
  }
 },
 "nbformat": 4,
 "nbformat_minor": 2
}
